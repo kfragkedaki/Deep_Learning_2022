{
  "cells": [
    {
      "cell_type": "code",
      "execution_count": 2,
      "metadata": {
        "id": "vaAC5-dBsR7W"
      },
      "outputs": [],
      "source": [
        "import math\n",
        "import data\n",
        "import random\n",
        "import plotly.express as px"
      ]
    },
    {
      "cell_type": "markdown",
      "metadata": {
        "id": "_JvBo0VZsR7Z"
      },
      "source": [
        "### Part 2: Scalar backpropagation"
      ]
    },
    {
      "cell_type": "markdown",
      "metadata": {
        "id": "I3zBdpy1sR7d"
      },
      "source": [
        "##### Question 3"
      ]
    },
    {
      "cell_type": "code",
      "execution_count": null,
      "metadata": {
        "id": "-ffHeiuxsR7d"
      },
      "outputs": [],
      "source": [
        "def forward_pass(W, V, X, t_index, b, c):\n",
        "    k, h = [0., 0., 0.], [0., 0., 0.]\n",
        "    o, y = [0., 0.], [0., 0.]\n",
        "    \n",
        "    # linear\n",
        "    for j in range(3):\n",
        "        for i in range(2):\n",
        "            k[j] += W[i][j] * X[i]\n",
        "        k[j] += b[j]\n",
        "\n",
        "    # sigmoid activation\n",
        "    for i in range(3):\n",
        "        h[i] = (1+math.exp(-k[i]))**(-1)\n",
        "\n",
        "    # linear\n",
        "    for i in range(2):\n",
        "        for j in range(3):\n",
        "            o[i] += h[j] * V[j][i]\n",
        "        o[i] += c[i]\n",
        "\n",
        "    #softmax activation\n",
        "    sum_exp_output = sum([math.exp(output) for output in o])\n",
        "    for i in range(2):\n",
        "        y[i] = math.exp(o[i])/ sum_exp_output\n",
        "\n",
        "    # compute loss\n",
        "    loss = (-1*math.log(y[t_index]))\n",
        "\n",
        "    context = W, V, X, t_index, b, c, k, h, o, y\n",
        "    return loss, context"
      ]
    },
    {
      "cell_type": "code",
      "execution_count": null,
      "metadata": {
        "id": "KInH_HKqsR7f"
      },
      "outputs": [],
      "source": [
        "def backward_pass(context, alpha=0.01):\n",
        "    W, V, X, t_index, b, c, k, h, o, y = context\n",
        "    dy, do = [0., 0.], [0., 0.]\n",
        "    dV, dW = [[0., 0.], [0., 0.], [0., 0.]], [[0., 0. , 0.], [0., 0., 0.]]\n",
        "    dh, dk = [0. , 0., 0.], [0. , 0., 0.]\n",
        "    db = [0., 0., 0.]\n",
        "\n",
        "    # compute d(Loss)/dy[i]\n",
        "    for i in range(2):\n",
        "        if i == t_index: dy[i] = -1/y[i]\n",
        "        else: dy[i] = 0\n",
        "\n",
        "    # compute d(Loss)/do[i]\n",
        "    for i in range(2):\n",
        "        for j in range(2):\n",
        "            if i != j and i == t_index:\n",
        "                do[j] += dy[i]*(-1)*y[i]*y[j]\n",
        "            elif i == j and i == t_index:\n",
        "                do[j] += dy[i]*y[i]*(1-y[i])\n",
        "            elif i != t_index:\n",
        "                do[j] += 0\n",
        "\n",
        "    # compute d(Loss)/dV[j][i] and d(Loss)/dh[i]\n",
        "    for i in range(2):\n",
        "        for j in range(3): \n",
        "            dV[j][i] = do[i]*h[j]\n",
        "            dh[j] += do[i]*V[j][i]\n",
        "    dc = do\n",
        "\n",
        "    # compute d(Loss)/dk[i]\n",
        "    for j in range(3):\n",
        "        dk[j] = dh[j] * h[j] * (1-h[j])\n",
        "\n",
        "    # compute d(Loss)/dW[i][j] and d(Loss)/db[j]\n",
        "    for j in range(3):\n",
        "        for i in range(2):\n",
        "            dW[i][j] = dk[j] * X[i]\n",
        "        db[j] = dk[j]\n",
        "\n",
        "    # update W and b parameters\n",
        "    for j in range(3):\n",
        "        for i in range(2):\n",
        "            W[i][j] += -alpha*dW[i][j]\n",
        "        b[j] += -alpha*db[j]\n",
        "\n",
        "    # update V and c parameters\n",
        "    for i in range(2):\n",
        "        for j in range(3): \n",
        "            V[j][i] += -alpha*dV[j][i]\n",
        "        c[i] += -alpha*dc[i]\n",
        "\n",
        "    results = W, V, b, c\n",
        "    gradients = dy, do, dh, dk, dV, dW, db, dc\n",
        "    return gradients, results"
      ]
    },
    {
      "cell_type": "code",
      "execution_count": null,
      "metadata": {
        "colab": {
          "base_uri": "https://localhost:8080/"
        },
        "id": "Ml5At5N-sR7l",
        "outputId": "22dfbab2-9cbb-4cff-e000-f93325950c14"
      },
      "outputs": [
        {
          "output_type": "stream",
          "name": "stdout",
          "text": [
            "Loss:  0.6931471805599453\n",
            "Gradient of W:  [[0.0, 0.0, 0.0], [-0.0, -0.0, -0.0]]\n",
            "Gradient of b:  [0.0, 0.0, 0.0]\n",
            "Gradient of V:  [[-0.44039853898894116, 0.44039853898894116], [-0.44039853898894116, 0.44039853898894116], [-0.44039853898894116, 0.44039853898894116]]\n",
            "Gradient of c:  [-0.5, 0.5]\n",
            "([[1.0, 1.0, 1.0], [-1.0, -1.0, -1.0]], [[1.0044039853898894, 0.9955960146101106], [-0.9955960146101106, -1.0044039853898894], [-0.9955960146101106, -1.0044039853898894]], [0.0, 0.0, 0.0], [0.005, -0.005])\n"
          ]
        }
      ],
      "source": [
        "## Test forward pass\n",
        "W, V= [[1.,1.,1.], [-1,-1,-1]], [[1.,1.], [-1.,-1.], [-1., -1.]]\n",
        "b, c = [0, 0, 0], [0, 0]\n",
        "X, t = [1, -1], 0\n",
        "loss = 0\n",
        "\n",
        "loss, context = forward_pass(W, V, X, t, b, c)\n",
        "print(\"Loss: \", loss)\n",
        "\n",
        "## Test backward pass\n",
        "gradients, results = backward_pass(context)\n",
        "dy, do, dh, dk, dV, dW, db, dc = gradients\n",
        "\n",
        "print(\"Gradient of W: \", dW)\n",
        "print(\"Gradient of b: \", db)\n",
        "print(\"Gradient of V: \", dV)\n",
        "print(\"Gradient of c: \", dc)\n",
        "\n",
        "print(results)"
      ]
    },
    {
      "cell_type": "markdown",
      "metadata": {
        "id": "pXMv4vvlsR7o"
      },
      "source": [
        "##### Question 4"
      ]
    },
    {
      "cell_type": "code",
      "execution_count": null,
      "metadata": {
        "id": "DXO9NkG-sR7p"
      },
      "outputs": [],
      "source": [
        "(xtrain, ytrain), (xval, yval), num_cls = data.load_synth()"
      ]
    },
    {
      "cell_type": "code",
      "source": [
        "ytrain.shape"
      ],
      "metadata": {
        "colab": {
          "base_uri": "https://localhost:8080/"
        },
        "id": "CtwDfTifSQ__",
        "outputId": "2f016362-6c9c-4232-987c-c4c6b2a94b9a"
      },
      "execution_count": null,
      "outputs": [
        {
          "output_type": "execute_result",
          "data": {
            "text/plain": [
              "(60000,)"
            ]
          },
          "metadata": {},
          "execution_count": 6
        }
      ]
    },
    {
      "cell_type": "code",
      "execution_count": null,
      "metadata": {
        "id": "CXYYf4xAsR7q"
      },
      "outputs": [],
      "source": [
        "def initialize_weights(is_random=True):\n",
        "    r = random.gauss # mu=0 and sigma=1\n",
        "    if not is_random:\n",
        "        W, V= [[1.,1.,1.], [-1,-1,-1]], [[1.,1.], [-1.,-1.], [-1., -1.]]\n",
        "        b, c = [0, 0, 0], [0, 0]\n",
        "    else:\n",
        "        W, V= [[r(0,1),r(0,1),r(0,1)], [r(0,1),r(0,1),r(0,1)]], [[r(0,1),r(0,1)], [r(0,1),r(0,1)], [r(0,1),r(0,1)]]\n",
        "        b, c = [0, 0, 0], [0, 0]\n",
        "    \n",
        "    return W, V, b, c"
      ]
    },
    {
      "cell_type": "code",
      "source": [
        "def calculate_accuracy():\n",
        "  pass"
      ],
      "metadata": {
        "id": "WRuVvVquS42O"
      },
      "execution_count": null,
      "outputs": []
    },
    {
      "cell_type": "code",
      "execution_count": null,
      "metadata": {
        "id": "pJadfU96sR7r"
      },
      "outputs": [],
      "source": [
        "W, V, b, c = initialize_weights(is_random=True)\n",
        "\n",
        "# save loss values for train and validation\n",
        "avg_loss_train, avg_loss_val = [], []\n",
        "loss_train_epoch1, loss_val_epoch1 = [], []\n",
        "epochs = 10\n",
        "alpha = 0.01 # learning rate\n",
        "\n",
        "# loss_train_epoch1, loss_val_epoch1 = [], []\n",
        "\n",
        "for epoch in range(epochs):\n",
        "    # train data\n",
        "    loss_train, loss_val = [], []\n",
        "    for X, t_index in zip(xtrain, ytrain): \n",
        "        loss, context = forward_pass(W, V, list(X), t_index, b, c)\n",
        "        \n",
        "        gradients, results = backward_pass(context, alpha)\n",
        "        W, V, b, c  = results\n",
        "\n",
        "        loss, context = forward_pass(W, V, list(X), t_index, b, c)\n",
        "        loss_train.append(loss)\n",
        "\n",
        "    # validation data\n",
        "    for X, t_index in zip(xval, yval): \n",
        "        loss, context = forward_pass(W, V, list(X), t_index, b, c)\n",
        "        loss_val.append(loss)\n",
        "    \n",
        "    # if epoch==1:\n",
        "    #   loss_train_epoch1 = loss_train\n",
        "    #   loss_val_epoch1 = loss_val\n",
        "\n",
        "    avg_loss_train.append(sum(loss_train)/len(loss_train))\n",
        "    avg_loss_val.append(sum(loss_val)/len(loss_val))\n"
      ]
    },
    {
      "cell_type": "code",
      "execution_count": null,
      "metadata": {
        "colab": {
          "base_uri": "https://localhost:8080/"
        },
        "id": "qvV-1ulNsR7s",
        "outputId": "0bfae128-ec82-4a80-ac81-a02ae3ddaf7e"
      },
      "outputs": [
        {
          "output_type": "display_data",
          "data": {
            "text/html": [
              "<html>\n",
              "<head><meta charset=\"utf-8\" /></head>\n",
              "<body>\n",
              "    <div>            <script src=\"https://cdnjs.cloudflare.com/ajax/libs/mathjax/2.7.5/MathJax.js?config=TeX-AMS-MML_SVG\"></script><script type=\"text/javascript\">if (window.MathJax) {MathJax.Hub.Config({SVG: {font: \"STIX-Web\"}});}</script>                <script type=\"text/javascript\">window.PlotlyConfig = {MathJaxConfig: 'local'};</script>\n",
              "        <script src=\"https://cdn.plot.ly/plotly-2.8.3.min.js\"></script>                <div id=\"cdb3bcc8-655d-4539-9ed0-f2eac13d5fc5\" class=\"plotly-graph-div\" style=\"height:400px; width:600px;\"></div>            <script type=\"text/javascript\">                                    window.PLOTLYENV=window.PLOTLYENV || {};                                    if (document.getElementById(\"cdb3bcc8-655d-4539-9ed0-f2eac13d5fc5\")) {                    Plotly.newPlot(                        \"cdb3bcc8-655d-4539-9ed0-f2eac13d5fc5\",                        [{\"hovertemplate\":\"name=train<br>epochs=%{x}<br>SGD Average loss per epoch=%{y}<extra></extra>\",\"legendgroup\":\"train\",\"line\":{\"color\":\"#636efa\",\"dash\":\"solid\"},\"marker\":{\"symbol\":\"circle\"},\"mode\":\"lines+markers\",\"name\":\"train\",\"orientation\":\"v\",\"showlegend\":true,\"x\":[0,1,2,3,4,5,6,7,8,9],\"xaxis\":\"x\",\"y\":[0.24746741399221936,0.10075905855250387,0.08626315513678265,0.07706545654633762,0.07027905999946617,0.0650272612993072,0.06083340108904988,0.05739292797578492,0.05450564066032661,0.05203723346142601],\"yaxis\":\"y\",\"type\":\"scatter\"},{\"hovertemplate\":\"name=val<br>epochs=%{x}<br>SGD Average loss per epoch=%{y}<extra></extra>\",\"legendgroup\":\"val\",\"line\":{\"color\":\"#EF553B\",\"dash\":\"solid\"},\"marker\":{\"symbol\":\"circle\"},\"mode\":\"lines+markers\",\"name\":\"val\",\"orientation\":\"v\",\"showlegend\":true,\"x\":[0,1,2,3,4,5,6,7,8,9],\"xaxis\":\"x\",\"y\":[0.11751357161089988,0.09700978517623425,0.08632449184736875,0.07894186942701312,0.07343308468207528,0.06912073688069988,0.065629123120976,0.06273200326343602,0.0602811355320215,0.05817392861272108],\"yaxis\":\"y\",\"type\":\"scatter\"}],                        {\"template\":{\"data\":{\"bar\":[{\"error_x\":{\"color\":\"#2a3f5f\"},\"error_y\":{\"color\":\"#2a3f5f\"},\"marker\":{\"line\":{\"color\":\"#E5ECF6\",\"width\":0.5},\"pattern\":{\"fillmode\":\"overlay\",\"size\":10,\"solidity\":0.2}},\"type\":\"bar\"}],\"barpolar\":[{\"marker\":{\"line\":{\"color\":\"#E5ECF6\",\"width\":0.5},\"pattern\":{\"fillmode\":\"overlay\",\"size\":10,\"solidity\":0.2}},\"type\":\"barpolar\"}],\"carpet\":[{\"aaxis\":{\"endlinecolor\":\"#2a3f5f\",\"gridcolor\":\"white\",\"linecolor\":\"white\",\"minorgridcolor\":\"white\",\"startlinecolor\":\"#2a3f5f\"},\"baxis\":{\"endlinecolor\":\"#2a3f5f\",\"gridcolor\":\"white\",\"linecolor\":\"white\",\"minorgridcolor\":\"white\",\"startlinecolor\":\"#2a3f5f\"},\"type\":\"carpet\"}],\"choropleth\":[{\"colorbar\":{\"outlinewidth\":0,\"ticks\":\"\"},\"type\":\"choropleth\"}],\"contour\":[{\"colorbar\":{\"outlinewidth\":0,\"ticks\":\"\"},\"colorscale\":[[0.0,\"#0d0887\"],[0.1111111111111111,\"#46039f\"],[0.2222222222222222,\"#7201a8\"],[0.3333333333333333,\"#9c179e\"],[0.4444444444444444,\"#bd3786\"],[0.5555555555555556,\"#d8576b\"],[0.6666666666666666,\"#ed7953\"],[0.7777777777777778,\"#fb9f3a\"],[0.8888888888888888,\"#fdca26\"],[1.0,\"#f0f921\"]],\"type\":\"contour\"}],\"contourcarpet\":[{\"colorbar\":{\"outlinewidth\":0,\"ticks\":\"\"},\"type\":\"contourcarpet\"}],\"heatmap\":[{\"colorbar\":{\"outlinewidth\":0,\"ticks\":\"\"},\"colorscale\":[[0.0,\"#0d0887\"],[0.1111111111111111,\"#46039f\"],[0.2222222222222222,\"#7201a8\"],[0.3333333333333333,\"#9c179e\"],[0.4444444444444444,\"#bd3786\"],[0.5555555555555556,\"#d8576b\"],[0.6666666666666666,\"#ed7953\"],[0.7777777777777778,\"#fb9f3a\"],[0.8888888888888888,\"#fdca26\"],[1.0,\"#f0f921\"]],\"type\":\"heatmap\"}],\"heatmapgl\":[{\"colorbar\":{\"outlinewidth\":0,\"ticks\":\"\"},\"colorscale\":[[0.0,\"#0d0887\"],[0.1111111111111111,\"#46039f\"],[0.2222222222222222,\"#7201a8\"],[0.3333333333333333,\"#9c179e\"],[0.4444444444444444,\"#bd3786\"],[0.5555555555555556,\"#d8576b\"],[0.6666666666666666,\"#ed7953\"],[0.7777777777777778,\"#fb9f3a\"],[0.8888888888888888,\"#fdca26\"],[1.0,\"#f0f921\"]],\"type\":\"heatmapgl\"}],\"histogram\":[{\"marker\":{\"pattern\":{\"fillmode\":\"overlay\",\"size\":10,\"solidity\":0.2}},\"type\":\"histogram\"}],\"histogram2d\":[{\"colorbar\":{\"outlinewidth\":0,\"ticks\":\"\"},\"colorscale\":[[0.0,\"#0d0887\"],[0.1111111111111111,\"#46039f\"],[0.2222222222222222,\"#7201a8\"],[0.3333333333333333,\"#9c179e\"],[0.4444444444444444,\"#bd3786\"],[0.5555555555555556,\"#d8576b\"],[0.6666666666666666,\"#ed7953\"],[0.7777777777777778,\"#fb9f3a\"],[0.8888888888888888,\"#fdca26\"],[1.0,\"#f0f921\"]],\"type\":\"histogram2d\"}],\"histogram2dcontour\":[{\"colorbar\":{\"outlinewidth\":0,\"ticks\":\"\"},\"colorscale\":[[0.0,\"#0d0887\"],[0.1111111111111111,\"#46039f\"],[0.2222222222222222,\"#7201a8\"],[0.3333333333333333,\"#9c179e\"],[0.4444444444444444,\"#bd3786\"],[0.5555555555555556,\"#d8576b\"],[0.6666666666666666,\"#ed7953\"],[0.7777777777777778,\"#fb9f3a\"],[0.8888888888888888,\"#fdca26\"],[1.0,\"#f0f921\"]],\"type\":\"histogram2dcontour\"}],\"mesh3d\":[{\"colorbar\":{\"outlinewidth\":0,\"ticks\":\"\"},\"type\":\"mesh3d\"}],\"parcoords\":[{\"line\":{\"colorbar\":{\"outlinewidth\":0,\"ticks\":\"\"}},\"type\":\"parcoords\"}],\"pie\":[{\"automargin\":true,\"type\":\"pie\"}],\"scatter\":[{\"marker\":{\"colorbar\":{\"outlinewidth\":0,\"ticks\":\"\"}},\"type\":\"scatter\"}],\"scatter3d\":[{\"line\":{\"colorbar\":{\"outlinewidth\":0,\"ticks\":\"\"}},\"marker\":{\"colorbar\":{\"outlinewidth\":0,\"ticks\":\"\"}},\"type\":\"scatter3d\"}],\"scattercarpet\":[{\"marker\":{\"colorbar\":{\"outlinewidth\":0,\"ticks\":\"\"}},\"type\":\"scattercarpet\"}],\"scattergeo\":[{\"marker\":{\"colorbar\":{\"outlinewidth\":0,\"ticks\":\"\"}},\"type\":\"scattergeo\"}],\"scattergl\":[{\"marker\":{\"colorbar\":{\"outlinewidth\":0,\"ticks\":\"\"}},\"type\":\"scattergl\"}],\"scattermapbox\":[{\"marker\":{\"colorbar\":{\"outlinewidth\":0,\"ticks\":\"\"}},\"type\":\"scattermapbox\"}],\"scatterpolar\":[{\"marker\":{\"colorbar\":{\"outlinewidth\":0,\"ticks\":\"\"}},\"type\":\"scatterpolar\"}],\"scatterpolargl\":[{\"marker\":{\"colorbar\":{\"outlinewidth\":0,\"ticks\":\"\"}},\"type\":\"scatterpolargl\"}],\"scatterternary\":[{\"marker\":{\"colorbar\":{\"outlinewidth\":0,\"ticks\":\"\"}},\"type\":\"scatterternary\"}],\"surface\":[{\"colorbar\":{\"outlinewidth\":0,\"ticks\":\"\"},\"colorscale\":[[0.0,\"#0d0887\"],[0.1111111111111111,\"#46039f\"],[0.2222222222222222,\"#7201a8\"],[0.3333333333333333,\"#9c179e\"],[0.4444444444444444,\"#bd3786\"],[0.5555555555555556,\"#d8576b\"],[0.6666666666666666,\"#ed7953\"],[0.7777777777777778,\"#fb9f3a\"],[0.8888888888888888,\"#fdca26\"],[1.0,\"#f0f921\"]],\"type\":\"surface\"}],\"table\":[{\"cells\":{\"fill\":{\"color\":\"#EBF0F8\"},\"line\":{\"color\":\"white\"}},\"header\":{\"fill\":{\"color\":\"#C8D4E3\"},\"line\":{\"color\":\"white\"}},\"type\":\"table\"}]},\"layout\":{\"annotationdefaults\":{\"arrowcolor\":\"#2a3f5f\",\"arrowhead\":0,\"arrowwidth\":1},\"autotypenumbers\":\"strict\",\"coloraxis\":{\"colorbar\":{\"outlinewidth\":0,\"ticks\":\"\"}},\"colorscale\":{\"diverging\":[[0,\"#8e0152\"],[0.1,\"#c51b7d\"],[0.2,\"#de77ae\"],[0.3,\"#f1b6da\"],[0.4,\"#fde0ef\"],[0.5,\"#f7f7f7\"],[0.6,\"#e6f5d0\"],[0.7,\"#b8e186\"],[0.8,\"#7fbc41\"],[0.9,\"#4d9221\"],[1,\"#276419\"]],\"sequential\":[[0.0,\"#0d0887\"],[0.1111111111111111,\"#46039f\"],[0.2222222222222222,\"#7201a8\"],[0.3333333333333333,\"#9c179e\"],[0.4444444444444444,\"#bd3786\"],[0.5555555555555556,\"#d8576b\"],[0.6666666666666666,\"#ed7953\"],[0.7777777777777778,\"#fb9f3a\"],[0.8888888888888888,\"#fdca26\"],[1.0,\"#f0f921\"]],\"sequentialminus\":[[0.0,\"#0d0887\"],[0.1111111111111111,\"#46039f\"],[0.2222222222222222,\"#7201a8\"],[0.3333333333333333,\"#9c179e\"],[0.4444444444444444,\"#bd3786\"],[0.5555555555555556,\"#d8576b\"],[0.6666666666666666,\"#ed7953\"],[0.7777777777777778,\"#fb9f3a\"],[0.8888888888888888,\"#fdca26\"],[1.0,\"#f0f921\"]]},\"colorway\":[\"#636efa\",\"#EF553B\",\"#00cc96\",\"#ab63fa\",\"#FFA15A\",\"#19d3f3\",\"#FF6692\",\"#B6E880\",\"#FF97FF\",\"#FECB52\"],\"font\":{\"color\":\"#2a3f5f\"},\"geo\":{\"bgcolor\":\"white\",\"lakecolor\":\"white\",\"landcolor\":\"#E5ECF6\",\"showlakes\":true,\"showland\":true,\"subunitcolor\":\"white\"},\"hoverlabel\":{\"align\":\"left\"},\"hovermode\":\"closest\",\"mapbox\":{\"style\":\"light\"},\"paper_bgcolor\":\"white\",\"plot_bgcolor\":\"#E5ECF6\",\"polar\":{\"angularaxis\":{\"gridcolor\":\"white\",\"linecolor\":\"white\",\"ticks\":\"\"},\"bgcolor\":\"#E5ECF6\",\"radialaxis\":{\"gridcolor\":\"white\",\"linecolor\":\"white\",\"ticks\":\"\"}},\"scene\":{\"xaxis\":{\"backgroundcolor\":\"#E5ECF6\",\"gridcolor\":\"white\",\"gridwidth\":2,\"linecolor\":\"white\",\"showbackground\":true,\"ticks\":\"\",\"zerolinecolor\":\"white\"},\"yaxis\":{\"backgroundcolor\":\"#E5ECF6\",\"gridcolor\":\"white\",\"gridwidth\":2,\"linecolor\":\"white\",\"showbackground\":true,\"ticks\":\"\",\"zerolinecolor\":\"white\"},\"zaxis\":{\"backgroundcolor\":\"#E5ECF6\",\"gridcolor\":\"white\",\"gridwidth\":2,\"linecolor\":\"white\",\"showbackground\":true,\"ticks\":\"\",\"zerolinecolor\":\"white\"}},\"shapedefaults\":{\"line\":{\"color\":\"#2a3f5f\"}},\"ternary\":{\"aaxis\":{\"gridcolor\":\"white\",\"linecolor\":\"white\",\"ticks\":\"\"},\"baxis\":{\"gridcolor\":\"white\",\"linecolor\":\"white\",\"ticks\":\"\"},\"bgcolor\":\"#E5ECF6\",\"caxis\":{\"gridcolor\":\"white\",\"linecolor\":\"white\",\"ticks\":\"\"}},\"title\":{\"x\":0.05},\"xaxis\":{\"automargin\":true,\"gridcolor\":\"white\",\"linecolor\":\"white\",\"ticks\":\"\",\"title\":{\"standoff\":15},\"zerolinecolor\":\"white\",\"zerolinewidth\":2},\"yaxis\":{\"automargin\":true,\"gridcolor\":\"white\",\"linecolor\":\"white\",\"ticks\":\"\",\"title\":{\"standoff\":15},\"zerolinecolor\":\"white\",\"zerolinewidth\":2}}},\"xaxis\":{\"anchor\":\"y\",\"domain\":[0.0,1.0],\"title\":{\"text\":\"epochs\"}},\"yaxis\":{\"anchor\":\"x\",\"domain\":[0.0,1.0],\"title\":{\"text\":\"SGD Average loss per epoch\"}},\"legend\":{\"title\":{\"text\":\"name\"},\"tracegroupgap\":0},\"margin\":{\"t\":60},\"height\":400,\"width\":600},                        {\"responsive\": true}                    ).then(function(){\n",
              "                            \n",
              "var gd = document.getElementById('cdb3bcc8-655d-4539-9ed0-f2eac13d5fc5');\n",
              "var x = new MutationObserver(function (mutations, observer) {{\n",
              "        var display = window.getComputedStyle(gd).display;\n",
              "        if (!display || display === 'none') {{\n",
              "            console.log([gd, 'removed!']);\n",
              "            Plotly.purge(gd);\n",
              "            observer.disconnect();\n",
              "        }}\n",
              "}});\n",
              "\n",
              "// Listen for the removal of the full notebook cells\n",
              "var notebookContainer = gd.closest('#notebook-container');\n",
              "if (notebookContainer) {{\n",
              "    x.observe(notebookContainer, {childList: true});\n",
              "}}\n",
              "\n",
              "// Listen for the clearing of the current output cell\n",
              "var outputEl = gd.closest('.output');\n",
              "if (outputEl) {{\n",
              "    x.observe(outputEl, {childList: true});\n",
              "}}\n",
              "\n",
              "                        })                };                            </script>        </div>\n",
              "</body>\n",
              "</html>"
            ]
          },
          "metadata": {}
        }
      ],
      "source": [
        "import pandas as pd\n",
        "\n",
        "avg_loss = []\n",
        "vector_epochs = [i for i in range(len(avg_loss_train))]\n",
        "avg_loss += avg_loss_train\n",
        "name = ['train' for _ in range(len(avg_loss_train))]\n",
        "vector_epochs += [i for i in range(len(avg_loss_val))]\n",
        "avg_loss += avg_loss_val\n",
        "name += ['val' for _ in range(len(avg_loss_val))]\n",
        "\n",
        "df = pd.DataFrame({'epochs': vector_epochs,'SGD Average loss per epoch': avg_loss, 'name': name})\n",
        "fig = px.line(df, x='epochs', y='SGD Average loss per epoch', color='name', markers=True, width=600, height=400)\n",
        "fig.show()"
      ]
    },
    {
      "cell_type": "code",
      "execution_count": null,
      "metadata": {
        "id": "GuUNdIKBsR7v"
      },
      "outputs": [],
      "source": [
        "# samples = [i for i in range(len(loss_train_epoch1))]\n",
        "# loss_epoch1 = loss_train_epoch1\n",
        "# name = ['train' for _ in range(len(loss_train_epoch1))]\n",
        "\n",
        "# df = pd.DataFrame({'samples': samples,'loss_epoch1': loss_epoch1, 'name': name})\n",
        "# fig = px.line(df, x='samples', y='loss_epoch1', color='name', markers=True)\n",
        "# fig.show()"
      ]
    },
    {
      "cell_type": "markdown",
      "metadata": {
        "id": "KB64HGugsR7y"
      },
      "source": [
        "### Part 3: Tensor backpropagation"
      ]
    },
    {
      "cell_type": "markdown",
      "source": [
        "##### *Helper Functions*"
      ],
      "metadata": {
        "id": "zJbC_sflo4zz"
      }
    },
    {
      "cell_type": "code",
      "execution_count": 3,
      "metadata": {
        "id": "BQfL9jqAsR70"
      },
      "outputs": [],
      "source": [
        "import numpy as np\n",
        "from tqdm.auto import tqdm "
      ]
    },
    {
      "cell_type": "code",
      "execution_count": 4,
      "metadata": {
        "id": "ytS0L7RCWqlV"
      },
      "outputs": [],
      "source": [
        "def sigmoid(x):\n",
        "    return (1/(1 + np.exp(-x)))\n",
        "\n",
        "def normalize_data(dataset):\n",
        "    return (dataset - dataset.min()) / (dataset.max() - dataset.min())\n",
        "\n",
        "def standardize_data(dataset):\n",
        "    return (dataset - dataset.mean()) / dataset.std()\n",
        "\n",
        "def initialize_weights_vector(input_size, nr_classes=10, nr_hlayers=300):\n",
        "    W = np.random.normal(0, 1, size=(input_size, nr_hlayers))\n",
        "    V = np.random.normal(0, 1, size=(nr_hlayers, nr_classes))\n",
        "    b, c = np.array([0.] * nr_hlayers), np.array([0.] * nr_classes)\n",
        "\n",
        "    return W, V, b, c\n",
        "\n",
        "def convert_onehotencoding(y, t_index):\n",
        "    # https://stackoverflow.com/questions/29816117/numpy-set-one-specific-element-of-each-column-based-on-indexing-by-array\n",
        "    t = np.zeros(y.shape)\n",
        "    t[np.arange(y.shape[0]), t_index] = 1\n",
        "    return t"
      ]
    },
    {
      "cell_type": "markdown",
      "metadata": {
        "id": "qrhUTWwWsR72"
      },
      "source": [
        "##### Question 5"
      ]
    },
    {
      "cell_type": "code",
      "execution_count": 5,
      "metadata": {
        "id": "_NlYiwG0sR74",
        "colab": {
          "base_uri": "https://localhost:8080/"
        },
        "outputId": "3dfec6ac-2009-444d-9c52-713c7e4bbbce"
      },
      "outputs": [
        {
          "output_type": "stream",
          "name": "stdout",
          "text": [
            "Downloading train-images-idx3-ubyte.gz...\n",
            "Downloading t10k-images-idx3-ubyte.gz...\n",
            "Downloading train-labels-idx1-ubyte.gz...\n",
            "Downloading t10k-labels-idx1-ubyte.gz...\n",
            "Download complete.\n",
            "Save complete.\n"
          ]
        }
      ],
      "source": [
        "(x_train, y_train), (x_val, y_val), num_mcls = data.load_mnist()"
      ]
    },
    {
      "cell_type": "code",
      "execution_count": 6,
      "metadata": {
        "colab": {
          "base_uri": "https://localhost:8080/",
          "height": 265
        },
        "id": "q98szTDSsR76",
        "outputId": "4bd9ef23-0304-404f-ba83-8db3f0fb5458"
      },
      "outputs": [
        {
          "output_type": "display_data",
          "data": {
            "text/plain": [
              "<Figure size 432x288 with 1 Axes>"
            ],
            "image/png": "[encoded data removed]"
          },
          "metadata": {
            "needs_background": "light"
          }
        }
      ],
      "source": [
        "# visualize the data\n",
        "import matplotlib.pyplot as plt\n",
        "\n",
        "img = x_train[0,:].reshape(28,28) # First image in the training set.\n",
        "plt.imshow(img,cmap='gray')\n",
        "plt.show() # Show the image"
      ]
    },
    {
      "cell_type": "markdown",
      "source": [
        "**Network Vectorized**"
      ],
      "metadata": {
        "id": "UCdKqBnzpXYk"
      }
    },
    {
      "cell_type": "code",
      "execution_count": 32,
      "metadata": {
        "id": "pIWYmcc1sR77"
      },
      "outputs": [],
      "source": [
        "def update_weights(W, V, b, c, gradients, alpha=0.01):\n",
        "    dV, dW, db, dc = gradients\n",
        "    W = W - alpha*dW\n",
        "    b = b - alpha*db\n",
        "    V = V - alpha*dV\n",
        "    c = c - alpha*dc\n",
        "\n",
        "    return W, V, b, c\n",
        "\n",
        "def compute_loss_acc(y, t_index):\n",
        "    # pick the y value that corresponds to y_c\n",
        "    loss = np.mean(-np.log(y[np.arange(y.shape[0]), t_index]))\n",
        "    preds = list(np.argmax(y, axis=1))\n",
        "    accuracy = np.mean(preds == t_index)\n",
        "    return loss, accuracy\n",
        "\n",
        "def forward_pass_vectorized(X, W, V, b, c):\n",
        "    # linear\n",
        "    k = np.dot(X, W) + b\n",
        "\n",
        "    # sigmoid activation\n",
        "    h = sigmoid(k)\n",
        "\n",
        "    # linear\n",
        "    o = np.dot(h, V) + c\n",
        "\n",
        "    # softmax activation\n",
        "    exp_o = np.exp(o)\n",
        "    y = exp_o/np.sum(exp_o, axis=1, keepdims=True)\n",
        "\n",
        "    context = k, h, o, y\n",
        "    return context\n",
        "\n",
        "def backward_pass_vectorized(X, t_index, V, context):\n",
        "    k, h, o, y = context\n",
        "\n",
        "    # compute d(Loss)/do[i]\n",
        "    # https://davidbieber.com/snippets/2020-12-12-derivative-of-softmax-and-the-softmax-cross-entropy-loss/\n",
        "    t = convert_onehotencoding(y, t_index)\n",
        "    do = (y-t)\n",
        "\n",
        "    # compute d(Loss)/dV[j][i] and d(Loss)/dh[i]\n",
        "    dV = (h.T) @ do\n",
        "    dh = do @ V.T\n",
        "    dc = np.sum(do, axis=0)\n",
        "\n",
        "    # compute d(Loss)/dk[i]\n",
        "    dk = np.multiply(np.multiply(dh, h), (1-h))\n",
        "\n",
        "    # compute d(Loss)/dW[i][j] and d(Loss)/db[j]\n",
        "    dW = X.T @ dk\n",
        "    db = np.sum(dk, axis=0)\n",
        "\n",
        "    return dV, dW, db, dc"
      ]
    },
    {
      "cell_type": "code",
      "execution_count": 36,
      "metadata": {
        "colab": {
          "base_uri": "https://localhost:8080/"
        },
        "id": "jbCqLs_VsR7-",
        "outputId": "02500957-78d9-421f-bdba-ce9b43920405"
      },
      "outputs": [
        {
          "output_type": "stream",
          "name": "stdout",
          "text": [
            "Loss:  0.6766485175434298\n",
            "Accuracy:  1.0\n",
            "Gradient of W:  [[0. 0. 0.]\n",
            " [0. 0. 0.]]\n",
            "Gradient of b:  [0. 0. 0.]\n",
            "Gradient of V:  [[-0.44039854  0.44039854]\n",
            " [-0.44039854  0.44039854]\n",
            " [-0.44039854  0.44039854]]\n",
            "Gradient of c:  [-0.5  0.5]\n",
            "W, V, b, c [[ 1.  1.  1.]\n",
            " [-1. -1. -1.]] [[ 1.00440399  0.99559601]\n",
            " [-0.99559601 -1.00440399]\n",
            " [-0.99559601 -1.00440399]] [0. 0. 0.] [ 0.005 -0.005]\n"
          ]
        }
      ],
      "source": [
        "# Test vectorized version\n",
        "W, V= np.array([[1.,1.,1.], [-1,-1,-1]]), np.array([[1.,1.], [-1.,-1.], [-1., -1.]])\n",
        "b, c = np.array([0, 0, 0]), np.array([0, 0])\n",
        "X, t_index = np.array([[1, -1]]), np.array([0])\n",
        "\n",
        "context = forward_pass_vectorized(X, W, V, b, c)\n",
        "gradients = backward_pass_vectorized(X, t_index, V, context)\n",
        "\n",
        "(W, V, b, c) = update_weights(W, V, b, c, gradients)\n",
        "\n",
        "# loss and accuracy for batch data\n",
        "context = forward_pass_vectorized(X, W, V, b, c)\n",
        "_, _, _, pred = context\n",
        "loss, acc = compute_loss_acc(pred, t_index)\n",
        "\n",
        "print('Loss: ', loss)\n",
        "print('Accuracy: ', acc)\n",
        "\n",
        "print(\"Gradient of W: \", dW)\n",
        "print(\"Gradient of b: \", db)\n",
        "print(\"Gradient of V: \", dV)\n",
        "print(\"Gradient of c: \", dc)\n",
        "\n",
        "print('W, V, b, c', W, V, b, c)\n",
        "#([[1.0, 1.0, 1.0], [-1.0, -1.0, -1.0]], [[1.0044039853898894, 0.9955960146101106], [-0.9955960146101106, -1.0044039853898894], [-0.9955960146101106, -1.0044039853898894]], [0.0, 0.0, 0.0], [0.005, -0.005])\n"
      ]
    },
    {
      "cell_type": "markdown",
      "source": [
        "##### Question 6"
      ],
      "metadata": {
        "id": "kR0jzsfoswLt"
      }
    },
    {
      "cell_type": "code",
      "execution_count": 42,
      "metadata": {
        "id": "doPhJbmWsR7_"
      },
      "outputs": [],
      "source": [
        "# train data\n",
        "def train(x_train, t_index, x_val, t_val, num_mcls, nr_hlayers, epochs, alpha, batch_size=1):\n",
        "    (W, V, b, c) = initialize_weights_vector(x_train.shape[1], nr_classes=num_mcls, nr_hlayers=nr_hlayers)\n",
        "\n",
        "    # In this case mini batch becomes same as batch gradient descent\n",
        "    if batch_size > x_train.shape[0]:\n",
        "        batch_size = x_train.shape[0]\n",
        "\n",
        "    num_batches = round(x_train.shape[0] / batch_size)\n",
        "    batches, y_batches = np.array_split(x_train, num_batches), np.array_split(t_index, num_batches)\n",
        "\n",
        "    epochs_loss_train, epochs_loss_val, epochs_batch_loss = [], [], []\n",
        "    epochs_acc_train, epochs_acc_val, epochs_batch_acc = [], [], []\n",
        "\n",
        "    for epoch in tqdm(range(epochs), desc='epochs'):\n",
        "        for (batch_X, batch_t_index) in tqdm(zip(batches, y_batches), total=len(y_batches), desc='train', position=0):\n",
        "            context = forward_pass_vectorized(batch_X, W, V, b, c)\n",
        "            gradients = backward_pass_vectorized(batch_X, batch_t_index, V, context)\n",
        "\n",
        "            (W, V, b, c) = update_weights(W, V, b, c, gradients, alpha=alpha)\n",
        "\n",
        "            # loss and accuracy for batch data\n",
        "            context = forward_pass_vectorized(batch_X, W, V, b, c)\n",
        "            _, _, _, pred = context\n",
        "            loss, acc = compute_loss_acc(pred, batch_t_index)\n",
        "            epochs_batch_loss.append(loss)\n",
        "            epochs_batch_acc.append(acc)\n",
        "\n",
        "        # train\n",
        "        context = forward_pass_vectorized(x_train, W, V, b, c)\n",
        "        _, _, _, pred_train = context\n",
        "        loss_train, acc_train = compute_loss_acc(pred_train, t_index)\n",
        "        epochs_loss_train.append(loss_train)\n",
        "        epochs_acc_train.append(acc_train)\n",
        "\n",
        "        # validation\n",
        "        context = forward_pass_vectorized(x_val, W, V, b, c)\n",
        "        _, _, _, pred_val = context\n",
        "        loss_val, acc_val = compute_loss_acc(pred_val, t_val)\n",
        "        epochs_loss_val.append(loss_val)\n",
        "        epochs_acc_val.append(acc_val)\n",
        "\n",
        "        print(\"Epoch {}: Train Loss: {} - Train Accuracy: {}\".format(\n",
        "            epoch, round(epochs_loss_train[epoch], 5), round(epochs_acc_train[epoch], 5)))\n",
        "        print(\"Epoch {}: Validation Loss: {} - Validation Accuracy: {}\".format(\n",
        "            epoch, round(epochs_loss_val[epoch], 5), round(epochs_acc_val[epoch], 5)))\n",
        "\n",
        "    return epochs_loss_train, epochs_acc_train, \\\n",
        "           epochs_loss_val, epochs_acc_val, \\\n",
        "           epochs_batch_loss, epochs_batch_acc"
      ]
    },
    {
      "cell_type": "code",
      "source": [
        "def run(dataset, alpha, batch_size, nr_hlayers=300, epochs=5):\n",
        "    (x_train, y_train), (x_val, y_val), num_mcls = dataset\n",
        "    x_train, x_val = normalize_data(x_train), normalize_data(x_val) # normalize data\n",
        "\n",
        "    epochs_loss_train, epochs_acc_train, \\\n",
        "        epochs_loss_val, epochs_acc_val, \\\n",
        "        epochs_batch_loss, epochs_batch_acc = \\\n",
        "        train(x_train, y_train, x_val, y_val, num_mcls, nr_hlayers, epochs, alpha, batch_size)\n",
        "\n",
        "    # plot_diagrams(epochs_loss_train, epochs_acc_train,\n",
        "    #               epochs_loss_val, epochs_acc_val,\n",
        "    #               epochs_batch_loss, epochs_batch_acc)\n",
        "    \n",
        "    print(\"Final Train Loss: {} - Final Train Accuracy: {}\".format(\n",
        "        round(epochs_loss_train[-1], 5), round(epochs_acc_train[-1], 5)))\n",
        "    print(\"Final Validation Loss: {} - Final Validation Accuracy: {}\".format(\n",
        "        round(epochs_loss_val[-1], 5), round(epochs_acc_val[-1], 5)))\n",
        "    \n",
        "    return (epochs_loss_train, epochs_acc_train, \\\n",
        "        epochs_loss_val, epochs_acc_val, \\\n",
        "        epochs_batch_loss, epochs_batch_acc)"
      ],
      "metadata": {
        "id": "2YHbpeXueDM4"
      },
      "execution_count": 64,
      "outputs": []
    },
    {
      "cell_type": "code",
      "source": [
        "dataset = data.load_mnist()\n",
        "(x_train, y_train), (x_val, y_val), num_mcls = dataset\n",
        "\n",
        "results = run(dataset, alpha=0.01, batch_size=512)"
      ],
      "metadata": {
        "colab": {
          "base_uri": "https://localhost:8080/",
          "height": 417,
          "referenced_widgets": [
            "2298ebaf730d4e3f988b295d54007ccb",
            "fe1170f80921464596cf7a7f47de47e3",
            "c806aa949a2c4fb09c7f0b0d77d00cbe",
            "8bb6e2ff766d4fca89836e428c4b566a",
            "94f7684d5aa7433b8928f5f8b6a9c06e",
            "b41a0abc57a641aaa7740cb7036470c1",
            "d1a719f944b84d0f9579f9cb3ec822a9",
            "13bb1c93c4fc49f798575aca41254df9",
            "e3cbd7a7f00347e49e7ecc45d31e25be",
            "53efd0123fdc444f8561141db40dc26d",
            "9fad2025246540ebba5d2187a6b732e7",
            "f3b4f47a8b484e09ba591b1215d5fc87",
            "51232849996c489bab479a88891bf348",
            "39288d56c6a84ccd8c3592d40f3dbf08",
            "1d1bd2a78b2846eeb85bf0740229f126",
            "02c0d5a3cb7742e3b958f8058c94b9dc",
            "980b442c30e845a49e2071fc3a3ae0f5",
            "f75a2f06d2d04e08ae295b972491eb78",
            "bc0f046d36154468b0fdbb398b1a0cd8",
            "976f9af7afb34e3db9da633b00e9b7f6",
            "754dac0e86414be0bba98434296ddd53",
            "1a6f55b25bc74a0cb266a9bd7709c6f6",
            "2485be00f7e44483af9702eeca900da3",
            "d718cdfebd9440509456851e8e3a1bf1",
            "fdcf43b649da41d4bd384523afb3dc4d",
            "8589cb177b304b14a11f9d755ff22ad1",
            "d18044e8d2ea4d9898c52e13c14196cb",
            "267ff2d2c6084dbf80fef8d4fd1f5606",
            "1311155ed29545a887445f898aac372a",
            "e00e6e1561994d1eaa2b99457b3c440b",
            "030a5e66d5a9418a83e4ab247062f1b8",
            "1dce7633f80e426aafa43b257c5fd0ce",
            "097e40abad6e45e9b095cf5af54e604c",
            "31fbe84a4b6d4ef39182e837fa0a0026",
            "af21fb20aefc4e319835beab926eded8",
            "f9e2517d75ab4155aaad7dc13425b24b",
            "77ed7348a3654da5895757229a214612",
            "8e2cecbdc5c34fbcb64a8f9ab0b0ff6e",
            "44a004cff0974244b3d9613a4222dde5",
            "d910641137324ed3b24104f491ec8065",
            "0677629b434b4930be64cd25dfe772e7",
            "0ba1fd85054e4adc90e257fc8f03dbab",
            "78edca5f64864d91a18da2d3dcd5ea9e",
            "8638ea3651404d4c8be3f8437ba3ec61",
            "af59d49dfffc45e38e542e2d3e19c81f",
            "be457134042b4cabac966050ce3abe3b",
            "bc02177123c5472d8ce6a3e4ee6b62ad",
            "39e00be4a95a4081996a1be143f1605c",
            "be5ab0d7b53a43869f5764414fc9d3ed",
            "d9fa7c0ad3b643b093a80fe4a7c72002",
            "dd5b9985d5bc4bb3a3d85e313cdb0c5c",
            "812b98eed506436eb869141fc1cfb737",
            "d4df8ae611e44f87a88132381a05700e",
            "ea3f1b5514574a5cadb6d22b190a24d7",
            "551937c7fb8147138e009b0ae9ff2361",
            "0f8ac2ad4f494df6a3c86ceacc2a584a",
            "fd17f75f08c143daa158307002c35443",
            "6b0960ce9d2a43b78a43bf4050abc4b0",
            "607b9e48be1b411aa58104c509c8d29d",
            "dea84956cb4c45f5818c9adc48789d6c",
            "d7667ede3b1441bdaea3685976a4470c",
            "79720bb30f8e44689b1d913755306b57",
            "ae1a4af047434ab799eb7f3b2c75b17b",
            "f8de1a1728c54e72ae4f50266f939521",
            "efcd8eac62c24e5f99d80c8582acf243",
            "86ff7b6946ab4e0b9590e0746e476bf6"
          ]
        },
        "id": "ktgs0WPxs1pp",
        "outputId": "02a9e6b1-9888-46a7-c99c-ead8cb3ceb57"
      },
      "execution_count": 65,
      "outputs": [
        {
          "output_type": "display_data",
          "data": {
            "text/plain": [
              "epochs:   0%|          | 0/5 [00:00<?, ?it/s]"
            ],
            "application/vnd.jupyter.widget-view+json": {
              "version_major": 2,
              "version_minor": 0,
              "model_id": "2298ebaf730d4e3f988b295d54007ccb"
            }
          },
          "metadata": {}
        },
        {
          "output_type": "display_data",
          "data": {
            "text/plain": [
              "train:   0%|          | 0/107 [00:00<?, ?it/s]"
            ],
            "application/vnd.jupyter.widget-view+json": {
              "version_major": 2,
              "version_minor": 0,
              "model_id": "f3b4f47a8b484e09ba591b1215d5fc87"
            }
          },
          "metadata": {}
        },
        {
          "output_type": "stream",
          "name": "stdout",
          "text": [
            "Epoch 0: Train Loss: 0.39955 - Train Accuracy: 0.88836\n",
            "Epoch 0: Validation Loss: 0.33419 - Validation Accuracy: 0.906\n"
          ]
        },
        {
          "output_type": "display_data",
          "data": {
            "text/plain": [
              "train:   0%|          | 0/107 [00:00<?, ?it/s]"
            ],
            "application/vnd.jupyter.widget-view+json": {
              "version_major": 2,
              "version_minor": 0,
              "model_id": "2485be00f7e44483af9702eeca900da3"
            }
          },
          "metadata": {}
        },
        {
          "output_type": "stream",
          "name": "stdout",
          "text": [
            "Epoch 1: Train Loss: 0.27841 - Train Accuracy: 0.91835\n",
            "Epoch 1: Validation Loss: 0.25502 - Validation Accuracy: 0.9274\n"
          ]
        },
        {
          "output_type": "display_data",
          "data": {
            "text/plain": [
              "train:   0%|          | 0/107 [00:00<?, ?it/s]"
            ],
            "application/vnd.jupyter.widget-view+json": {
              "version_major": 2,
              "version_minor": 0,
              "model_id": "31fbe84a4b6d4ef39182e837fa0a0026"
            }
          },
          "metadata": {}
        },
        {
          "output_type": "stream",
          "name": "stdout",
          "text": [
            "Epoch 2: Train Loss: 0.22197 - Train Accuracy: 0.93475\n",
            "Epoch 2: Validation Loss: 0.21894 - Validation Accuracy: 0.9378\n"
          ]
        },
        {
          "output_type": "display_data",
          "data": {
            "text/plain": [
              "train:   0%|          | 0/107 [00:00<?, ?it/s]"
            ],
            "application/vnd.jupyter.widget-view+json": {
              "version_major": 2,
              "version_minor": 0,
              "model_id": "af59d49dfffc45e38e542e2d3e19c81f"
            }
          },
          "metadata": {}
        },
        {
          "output_type": "stream",
          "name": "stdout",
          "text": [
            "Epoch 3: Train Loss: 0.18682 - Train Accuracy: 0.94502\n",
            "Epoch 3: Validation Loss: 0.19821 - Validation Accuracy: 0.9442\n"
          ]
        },
        {
          "output_type": "display_data",
          "data": {
            "text/plain": [
              "train:   0%|          | 0/107 [00:00<?, ?it/s]"
            ],
            "application/vnd.jupyter.widget-view+json": {
              "version_major": 2,
              "version_minor": 0,
              "model_id": "0f8ac2ad4f494df6a3c86ceacc2a584a"
            }
          },
          "metadata": {}
        },
        {
          "output_type": "stream",
          "name": "stdout",
          "text": [
            "Epoch 4: Train Loss: 0.16209 - Train Accuracy: 0.95229\n",
            "Epoch 4: Validation Loss: 0.18455 - Validation Accuracy: 0.9484\n",
            "Final Train Loss: 0.16209 - Final Train Accuracy: 0.95229\n",
            "Final Validation Loss: 0.18455 - Final Validation Accuracy: 0.9484\n"
          ]
        }
      ]
    },
    {
      "cell_type": "code",
      "execution_count": 117,
      "metadata": {
        "id": "pl79128AsR8A"
      },
      "outputs": [],
      "source": [
        "import pandas as pd\n",
        "\n",
        "def plot_diagrams(epochs_loss_train, epochs_acc_train,\n",
        "                  epochs_loss_val, epochs_acc_val, \n",
        "                  epochs_batch_loss=[], epochs_batch_acc=[], size=None):\n",
        "  if size is None: size = len(epochs_loss_train)\n",
        "  batches = round(len(epochs_batch_loss)/size)\n",
        "  batch_list = [[i]*batches for i in range(size)]\n",
        "  batch_list = [item for sublist in batch_list for item in sublist]\n",
        "    \n",
        "  loss = epochs_loss_train + epochs_loss_val + epochs_batch_loss\n",
        "  acc = epochs_acc_train + epochs_acc_val + epochs_batch_acc\n",
        "  vector_epochs = [i for i in range(len(epochs_loss_train))]*2\n",
        "  vector_epochs += batch_list\n",
        "  name = ['train']*len(epochs_loss_train) + ['val']*len(epochs_loss_val) + ['batch']*len(epochs_batch_acc)\n",
        "  print(len(vector_epochs), len(loss), len(name), len(acc))\n",
        "\n",
        "  df = pd.DataFrame({'epochs': vector_epochs,'loss': loss, 'name': name})\n",
        "  fig = px.line(df, x='epochs', y='loss', color='name', markers=True)\n",
        "  fig.show()\n",
        "\n",
        "  df = pd.DataFrame({'epochs': vector_epochs,'Accuracy': acc, 'name': name})\n",
        "  fig = px.line(df, x='epochs', y='Accuracy', color='name', markers=True)\n",
        "  fig.show()"
      ]
    },
    {
      "cell_type": "code",
      "source": [
        "epochs_loss_train, epochs_acc_train, \\\n",
        "        epochs_loss_val, epochs_acc_val, \\\n",
        "        epochs_batch_loss, epochs_batch_acc = results"
      ],
      "metadata": {
        "id": "QULalN0zybOS"
      },
      "execution_count": 104,
      "outputs": []
    },
    {
      "cell_type": "code",
      "source": [
        "plot_diagrams(epochs_loss_train, epochs_acc_train,\n",
        "                  epochs_loss_val, epochs_acc_val,\n",
        "                  [], [], len(epochs_loss_train))\n",
        "\n",
        "plot_diagrams([], [], [], [], epochs_batch_loss, epochs_batch_acc, size = len(epochs_loss_train))"
      ],
      "metadata": {
        "colab": {
          "base_uri": "https://localhost:8080/",
          "height": 1000
        },
        "id": "N1TugN8-yQuj",
        "outputId": "1da0d589-8241-4450-c32f-252744ca3969"
      },
      "execution_count": 118,
      "outputs": [
        {
          "output_type": "stream",
          "name": "stdout",
          "text": [
            "10 10 10 10\n"
          ]
        },
        {
          "output_type": "display_data",
          "data": {
            "text/html": [
              "<html>\n",
              "<head><meta charset=\"utf-8\" /></head>\n",
              "<body>\n",
              "    <div>            <script src=\"https://cdnjs.cloudflare.com/ajax/libs/mathjax/2.7.5/MathJax.js?config=TeX-AMS-MML_SVG\"></script><script type=\"text/javascript\">if (window.MathJax) {MathJax.Hub.Config({SVG: {font: \"STIX-Web\"}});}</script>                <script type=\"text/javascript\">window.PlotlyConfig = {MathJaxConfig: 'local'};</script>\n",
              "        <script src=\"https://cdn.plot.ly/plotly-2.8.3.min.js\"></script>                <div id=\"9adcd4ab-6ec3-431c-ae86-9588500ab4c7\" class=\"plotly-graph-div\" style=\"height:525px; width:100%;\"></div>            <script type=\"text/javascript\">                                    window.PLOTLYENV=window.PLOTLYENV || {};                                    if (document.getElementById(\"9adcd4ab-6ec3-431c-ae86-9588500ab4c7\")) {                    Plotly.newPlot(                        \"9adcd4ab-6ec3-431c-ae86-9588500ab4c7\",                        [{\"hovertemplate\":\"name=train<br>epochs=%{x}<br>loss=%{y}<extra></extra>\",\"legendgroup\":\"train\",\"line\":{\"color\":\"#636efa\",\"dash\":\"solid\"},\"marker\":{\"symbol\":\"circle\"},\"mode\":\"lines+markers\",\"name\":\"train\",\"orientation\":\"v\",\"showlegend\":true,\"x\":[0,1,2,3,4],\"xaxis\":\"x\",\"y\":[0.39955454579755845,0.2784111528738389,0.22197445756010573,0.18681831930700094,0.16208913225102586],\"yaxis\":\"y\",\"type\":\"scatter\"},{\"hovertemplate\":\"name=val<br>epochs=%{x}<br>loss=%{y}<extra></extra>\",\"legendgroup\":\"val\",\"line\":{\"color\":\"#EF553B\",\"dash\":\"solid\"},\"marker\":{\"symbol\":\"circle\"},\"mode\":\"lines+markers\",\"name\":\"val\",\"orientation\":\"v\",\"showlegend\":true,\"x\":[0,1,2,3,4],\"xaxis\":\"x\",\"y\":[0.33419264522588626,0.25502338119060586,0.2189416997473279,0.19820821930110163,0.18455386716428912],\"yaxis\":\"y\",\"type\":\"scatter\"}],                        {\"template\":{\"data\":{\"bar\":[{\"error_x\":{\"color\":\"#2a3f5f\"},\"error_y\":{\"color\":\"#2a3f5f\"},\"marker\":{\"line\":{\"color\":\"#E5ECF6\",\"width\":0.5},\"pattern\":{\"fillmode\":\"overlay\",\"size\":10,\"solidity\":0.2}},\"type\":\"bar\"}],\"barpolar\":[{\"marker\":{\"line\":{\"color\":\"#E5ECF6\",\"width\":0.5},\"pattern\":{\"fillmode\":\"overlay\",\"size\":10,\"solidity\":0.2}},\"type\":\"barpolar\"}],\"carpet\":[{\"aaxis\":{\"endlinecolor\":\"#2a3f5f\",\"gridcolor\":\"white\",\"linecolor\":\"white\",\"minorgridcolor\":\"white\",\"startlinecolor\":\"#2a3f5f\"},\"baxis\":{\"endlinecolor\":\"#2a3f5f\",\"gridcolor\":\"white\",\"linecolor\":\"white\",\"minorgridcolor\":\"white\",\"startlinecolor\":\"#2a3f5f\"},\"type\":\"carpet\"}],\"choropleth\":[{\"colorbar\":{\"outlinewidth\":0,\"ticks\":\"\"},\"type\":\"choropleth\"}],\"contour\":[{\"colorbar\":{\"outlinewidth\":0,\"ticks\":\"\"},\"colorscale\":[[0.0,\"#0d0887\"],[0.1111111111111111,\"#46039f\"],[0.2222222222222222,\"#7201a8\"],[0.3333333333333333,\"#9c179e\"],[0.4444444444444444,\"#bd3786\"],[0.5555555555555556,\"#d8576b\"],[0.6666666666666666,\"#ed7953\"],[0.7777777777777778,\"#fb9f3a\"],[0.8888888888888888,\"#fdca26\"],[1.0,\"#f0f921\"]],\"type\":\"contour\"}],\"contourcarpet\":[{\"colorbar\":{\"outlinewidth\":0,\"ticks\":\"\"},\"type\":\"contourcarpet\"}],\"heatmap\":[{\"colorbar\":{\"outlinewidth\":0,\"ticks\":\"\"},\"colorscale\":[[0.0,\"#0d0887\"],[0.1111111111111111,\"#46039f\"],[0.2222222222222222,\"#7201a8\"],[0.3333333333333333,\"#9c179e\"],[0.4444444444444444,\"#bd3786\"],[0.5555555555555556,\"#d8576b\"],[0.6666666666666666,\"#ed7953\"],[0.7777777777777778,\"#fb9f3a\"],[0.8888888888888888,\"#fdca26\"],[1.0,\"#f0f921\"]],\"type\":\"heatmap\"}],\"heatmapgl\":[{\"colorbar\":{\"outlinewidth\":0,\"ticks\":\"\"},\"colorscale\":[[0.0,\"#0d0887\"],[0.1111111111111111,\"#46039f\"],[0.2222222222222222,\"#7201a8\"],[0.3333333333333333,\"#9c179e\"],[0.4444444444444444,\"#bd3786\"],[0.5555555555555556,\"#d8576b\"],[0.6666666666666666,\"#ed7953\"],[0.7777777777777778,\"#fb9f3a\"],[0.8888888888888888,\"#fdca26\"],[1.0,\"#f0f921\"]],\"type\":\"heatmapgl\"}],\"histogram\":[{\"marker\":{\"pattern\":{\"fillmode\":\"overlay\",\"size\":10,\"solidity\":0.2}},\"type\":\"histogram\"}],\"histogram2d\":[{\"colorbar\":{\"outlinewidth\":0,\"ticks\":\"\"},\"colorscale\":[[0.0,\"#0d0887\"],[0.1111111111111111,\"#46039f\"],[0.2222222222222222,\"#7201a8\"],[0.3333333333333333,\"#9c179e\"],[0.4444444444444444,\"#bd3786\"],[0.5555555555555556,\"#d8576b\"],[0.6666666666666666,\"#ed7953\"],[0.7777777777777778,\"#fb9f3a\"],[0.8888888888888888,\"#fdca26\"],[1.0,\"#f0f921\"]],\"type\":\"histogram2d\"}],\"histogram2dcontour\":[{\"colorbar\":{\"outlinewidth\":0,\"ticks\":\"\"},\"colorscale\":[[0.0,\"#0d0887\"],[0.1111111111111111,\"#46039f\"],[0.2222222222222222,\"#7201a8\"],[0.3333333333333333,\"#9c179e\"],[0.4444444444444444,\"#bd3786\"],[0.5555555555555556,\"#d8576b\"],[0.6666666666666666,\"#ed7953\"],[0.7777777777777778,\"#fb9f3a\"],[0.8888888888888888,\"#fdca26\"],[1.0,\"#f0f921\"]],\"type\":\"histogram2dcontour\"}],\"mesh3d\":[{\"colorbar\":{\"outlinewidth\":0,\"ticks\":\"\"},\"type\":\"mesh3d\"}],\"parcoords\":[{\"line\":{\"colorbar\":{\"outlinewidth\":0,\"ticks\":\"\"}},\"type\":\"parcoords\"}],\"pie\":[{\"automargin\":true,\"type\":\"pie\"}],\"scatter\":[{\"marker\":{\"colorbar\":{\"outlinewidth\":0,\"ticks\":\"\"}},\"type\":\"scatter\"}],\"scatter3d\":[{\"line\":{\"colorbar\":{\"outlinewidth\":0,\"ticks\":\"\"}},\"marker\":{\"colorbar\":{\"outlinewidth\":0,\"ticks\":\"\"}},\"type\":\"scatter3d\"}],\"scattercarpet\":[{\"marker\":{\"colorbar\":{\"outlinewidth\":0,\"ticks\":\"\"}},\"type\":\"scattercarpet\"}],\"scattergeo\":[{\"marker\":{\"colorbar\":{\"outlinewidth\":0,\"ticks\":\"\"}},\"type\":\"scattergeo\"}],\"scattergl\":[{\"marker\":{\"colorbar\":{\"outlinewidth\":0,\"ticks\":\"\"}},\"type\":\"scattergl\"}],\"scattermapbox\":[{\"marker\":{\"colorbar\":{\"outlinewidth\":0,\"ticks\":\"\"}},\"type\":\"scattermapbox\"}],\"scatterpolar\":[{\"marker\":{\"colorbar\":{\"outlinewidth\":0,\"ticks\":\"\"}},\"type\":\"scatterpolar\"}],\"scatterpolargl\":[{\"marker\":{\"colorbar\":{\"outlinewidth\":0,\"ticks\":\"\"}},\"type\":\"scatterpolargl\"}],\"scatterternary\":[{\"marker\":{\"colorbar\":{\"outlinewidth\":0,\"ticks\":\"\"}},\"type\":\"scatterternary\"}],\"surface\":[{\"colorbar\":{\"outlinewidth\":0,\"ticks\":\"\"},\"colorscale\":[[0.0,\"#0d0887\"],[0.1111111111111111,\"#46039f\"],[0.2222222222222222,\"#7201a8\"],[0.3333333333333333,\"#9c179e\"],[0.4444444444444444,\"#bd3786\"],[0.5555555555555556,\"#d8576b\"],[0.6666666666666666,\"#ed7953\"],[0.7777777777777778,\"#fb9f3a\"],[0.8888888888888888,\"#fdca26\"],[1.0,\"#f0f921\"]],\"type\":\"surface\"}],\"table\":[{\"cells\":{\"fill\":{\"color\":\"#EBF0F8\"},\"line\":{\"color\":\"white\"}},\"header\":{\"fill\":{\"color\":\"#C8D4E3\"},\"line\":{\"color\":\"white\"}},\"type\":\"table\"}]},\"layout\":{\"annotationdefaults\":{\"arrowcolor\":\"#2a3f5f\",\"arrowhead\":0,\"arrowwidth\":1},\"autotypenumbers\":\"strict\",\"coloraxis\":{\"colorbar\":{\"outlinewidth\":0,\"ticks\":\"\"}},\"colorscale\":{\"diverging\":[[0,\"#8e0152\"],[0.1,\"#c51b7d\"],[0.2,\"#de77ae\"],[0.3,\"#f1b6da\"],[0.4,\"#fde0ef\"],[0.5,\"#f7f7f7\"],[0.6,\"#e6f5d0\"],[0.7,\"#b8e186\"],[0.8,\"#7fbc41\"],[0.9,\"#4d9221\"],[1,\"#276419\"]],\"sequential\":[[0.0,\"#0d0887\"],[0.1111111111111111,\"#46039f\"],[0.2222222222222222,\"#7201a8\"],[0.3333333333333333,\"#9c179e\"],[0.4444444444444444,\"#bd3786\"],[0.5555555555555556,\"#d8576b\"],[0.6666666666666666,\"#ed7953\"],[0.7777777777777778,\"#fb9f3a\"],[0.8888888888888888,\"#fdca26\"],[1.0,\"#f0f921\"]],\"sequentialminus\":[[0.0,\"#0d0887\"],[0.1111111111111111,\"#46039f\"],[0.2222222222222222,\"#7201a8\"],[0.3333333333333333,\"#9c179e\"],[0.4444444444444444,\"#bd3786\"],[0.5555555555555556,\"#d8576b\"],[0.6666666666666666,\"#ed7953\"],[0.7777777777777778,\"#fb9f3a\"],[0.8888888888888888,\"#fdca26\"],[1.0,\"#f0f921\"]]},\"colorway\":[\"#636efa\",\"#EF553B\",\"#00cc96\",\"#ab63fa\",\"#FFA15A\",\"#19d3f3\",\"#FF6692\",\"#B6E880\",\"#FF97FF\",\"#FECB52\"],\"font\":{\"color\":\"#2a3f5f\"},\"geo\":{\"bgcolor\":\"white\",\"lakecolor\":\"white\",\"landcolor\":\"#E5ECF6\",\"showlakes\":true,\"showland\":true,\"subunitcolor\":\"white\"},\"hoverlabel\":{\"align\":\"left\"},\"hovermode\":\"closest\",\"mapbox\":{\"style\":\"light\"},\"paper_bgcolor\":\"white\",\"plot_bgcolor\":\"#E5ECF6\",\"polar\":{\"angularaxis\":{\"gridcolor\":\"white\",\"linecolor\":\"white\",\"ticks\":\"\"},\"bgcolor\":\"#E5ECF6\",\"radialaxis\":{\"gridcolor\":\"white\",\"linecolor\":\"white\",\"ticks\":\"\"}},\"scene\":{\"xaxis\":{\"backgroundcolor\":\"#E5ECF6\",\"gridcolor\":\"white\",\"gridwidth\":2,\"linecolor\":\"white\",\"showbackground\":true,\"ticks\":\"\",\"zerolinecolor\":\"white\"},\"yaxis\":{\"backgroundcolor\":\"#E5ECF6\",\"gridcolor\":\"white\",\"gridwidth\":2,\"linecolor\":\"white\",\"showbackground\":true,\"ticks\":\"\",\"zerolinecolor\":\"white\"},\"zaxis\":{\"backgroundcolor\":\"#E5ECF6\",\"gridcolor\":\"white\",\"gridwidth\":2,\"linecolor\":\"white\",\"showbackground\":true,\"ticks\":\"\",\"zerolinecolor\":\"white\"}},\"shapedefaults\":{\"line\":{\"color\":\"#2a3f5f\"}},\"ternary\":{\"aaxis\":{\"gridcolor\":\"white\",\"linecolor\":\"white\",\"ticks\":\"\"},\"baxis\":{\"gridcolor\":\"white\",\"linecolor\":\"white\",\"ticks\":\"\"},\"bgcolor\":\"#E5ECF6\",\"caxis\":{\"gridcolor\":\"white\",\"linecolor\":\"white\",\"ticks\":\"\"}},\"title\":{\"x\":0.05},\"xaxis\":{\"automargin\":true,\"gridcolor\":\"white\",\"linecolor\":\"white\",\"ticks\":\"\",\"title\":{\"standoff\":15},\"zerolinecolor\":\"white\",\"zerolinewidth\":2},\"yaxis\":{\"automargin\":true,\"gridcolor\":\"white\",\"linecolor\":\"white\",\"ticks\":\"\",\"title\":{\"standoff\":15},\"zerolinecolor\":\"white\",\"zerolinewidth\":2}}},\"xaxis\":{\"anchor\":\"y\",\"domain\":[0.0,1.0],\"title\":{\"text\":\"epochs\"}},\"yaxis\":{\"anchor\":\"x\",\"domain\":[0.0,1.0],\"title\":{\"text\":\"loss\"}},\"legend\":{\"title\":{\"text\":\"name\"},\"tracegroupgap\":0},\"margin\":{\"t\":60}},                        {\"responsive\": true}                    ).then(function(){\n",
              "                            \n",
              "var gd = document.getElementById('9adcd4ab-6ec3-431c-ae86-9588500ab4c7');\n",
              "var x = new MutationObserver(function (mutations, observer) {{\n",
              "        var display = window.getComputedStyle(gd).display;\n",
              "        if (!display || display === 'none') {{\n",
              "            console.log([gd, 'removed!']);\n",
              "            Plotly.purge(gd);\n",
              "            observer.disconnect();\n",
              "        }}\n",
              "}});\n",
              "\n",
              "// Listen for the removal of the full notebook cells\n",
              "var notebookContainer = gd.closest('#notebook-container');\n",
              "if (notebookContainer) {{\n",
              "    x.observe(notebookContainer, {childList: true});\n",
              "}}\n",
              "\n",
              "// Listen for the clearing of the current output cell\n",
              "var outputEl = gd.closest('.output');\n",
              "if (outputEl) {{\n",
              "    x.observe(outputEl, {childList: true});\n",
              "}}\n",
              "\n",
              "                        })                };                            </script>        </div>\n",
              "</body>\n",
              "</html>"
            ]
          },
          "metadata": {}
        },
        {
          "output_type": "display_data",
          "data": {
            "text/html": [
              "<html>\n",
              "<head><meta charset=\"utf-8\" /></head>\n",
              "<body>\n",
              "    <div>            <script src=\"https://cdnjs.cloudflare.com/ajax/libs/mathjax/2.7.5/MathJax.js?config=TeX-AMS-MML_SVG\"></script><script type=\"text/javascript\">if (window.MathJax) {MathJax.Hub.Config({SVG: {font: \"STIX-Web\"}});}</script>                <script type=\"text/javascript\">window.PlotlyConfig = {MathJaxConfig: 'local'};</script>\n",
              "        <script src=\"https://cdn.plot.ly/plotly-2.8.3.min.js\"></script>                <div id=\"b946b4e3-a3d4-4f88-b174-ac78dde5cbcb\" class=\"plotly-graph-div\" style=\"height:525px; width:100%;\"></div>            <script type=\"text/javascript\">                                    window.PLOTLYENV=window.PLOTLYENV || {};                                    if (document.getElementById(\"b946b4e3-a3d4-4f88-b174-ac78dde5cbcb\")) {                    Plotly.newPlot(                        \"b946b4e3-a3d4-4f88-b174-ac78dde5cbcb\",                        [{\"hovertemplate\":\"name=train<br>epochs=%{x}<br>Accuracy=%{y}<extra></extra>\",\"legendgroup\":\"train\",\"line\":{\"color\":\"#636efa\",\"dash\":\"solid\"},\"marker\":{\"symbol\":\"circle\"},\"mode\":\"lines+markers\",\"name\":\"train\",\"orientation\":\"v\",\"showlegend\":true,\"x\":[0,1,2,3,4],\"xaxis\":\"x\",\"y\":[0.8883636363636364,0.9183454545454546,0.9347454545454545,0.9450181818181819,0.9522909090909091],\"yaxis\":\"y\",\"type\":\"scatter\"},{\"hovertemplate\":\"name=val<br>epochs=%{x}<br>Accuracy=%{y}<extra></extra>\",\"legendgroup\":\"val\",\"line\":{\"color\":\"#EF553B\",\"dash\":\"solid\"},\"marker\":{\"symbol\":\"circle\"},\"mode\":\"lines+markers\",\"name\":\"val\",\"orientation\":\"v\",\"showlegend\":true,\"x\":[0,1,2,3,4],\"xaxis\":\"x\",\"y\":[0.906,0.9274,0.9378,0.9442,0.9484],\"yaxis\":\"y\",\"type\":\"scatter\"}],                        {\"template\":{\"data\":{\"bar\":[{\"error_x\":{\"color\":\"#2a3f5f\"},\"error_y\":{\"color\":\"#2a3f5f\"},\"marker\":{\"line\":{\"color\":\"#E5ECF6\",\"width\":0.5},\"pattern\":{\"fillmode\":\"overlay\",\"size\":10,\"solidity\":0.2}},\"type\":\"bar\"}],\"barpolar\":[{\"marker\":{\"line\":{\"color\":\"#E5ECF6\",\"width\":0.5},\"pattern\":{\"fillmode\":\"overlay\",\"size\":10,\"solidity\":0.2}},\"type\":\"barpolar\"}],\"carpet\":[{\"aaxis\":{\"endlinecolor\":\"#2a3f5f\",\"gridcolor\":\"white\",\"linecolor\":\"white\",\"minorgridcolor\":\"white\",\"startlinecolor\":\"#2a3f5f\"},\"baxis\":{\"endlinecolor\":\"#2a3f5f\",\"gridcolor\":\"white\",\"linecolor\":\"white\",\"minorgridcolor\":\"white\",\"startlinecolor\":\"#2a3f5f\"},\"type\":\"carpet\"}],\"choropleth\":[{\"colorbar\":{\"outlinewidth\":0,\"ticks\":\"\"},\"type\":\"choropleth\"}],\"contour\":[{\"colorbar\":{\"outlinewidth\":0,\"ticks\":\"\"},\"colorscale\":[[0.0,\"#0d0887\"],[0.1111111111111111,\"#46039f\"],[0.2222222222222222,\"#7201a8\"],[0.3333333333333333,\"#9c179e\"],[0.4444444444444444,\"#bd3786\"],[0.5555555555555556,\"#d8576b\"],[0.6666666666666666,\"#ed7953\"],[0.7777777777777778,\"#fb9f3a\"],[0.8888888888888888,\"#fdca26\"],[1.0,\"#f0f921\"]],\"type\":\"contour\"}],\"contourcarpet\":[{\"colorbar\":{\"outlinewidth\":0,\"ticks\":\"\"},\"type\":\"contourcarpet\"}],\"heatmap\":[{\"colorbar\":{\"outlinewidth\":0,\"ticks\":\"\"},\"colorscale\":[[0.0,\"#0d0887\"],[0.1111111111111111,\"#46039f\"],[0.2222222222222222,\"#7201a8\"],[0.3333333333333333,\"#9c179e\"],[0.4444444444444444,\"#bd3786\"],[0.5555555555555556,\"#d8576b\"],[0.6666666666666666,\"#ed7953\"],[0.7777777777777778,\"#fb9f3a\"],[0.8888888888888888,\"#fdca26\"],[1.0,\"#f0f921\"]],\"type\":\"heatmap\"}],\"heatmapgl\":[{\"colorbar\":{\"outlinewidth\":0,\"ticks\":\"\"},\"colorscale\":[[0.0,\"#0d0887\"],[0.1111111111111111,\"#46039f\"],[0.2222222222222222,\"#7201a8\"],[0.3333333333333333,\"#9c179e\"],[0.4444444444444444,\"#bd3786\"],[0.5555555555555556,\"#d8576b\"],[0.6666666666666666,\"#ed7953\"],[0.7777777777777778,\"#fb9f3a\"],[0.8888888888888888,\"#fdca26\"],[1.0,\"#f0f921\"]],\"type\":\"heatmapgl\"}],\"histogram\":[{\"marker\":{\"pattern\":{\"fillmode\":\"overlay\",\"size\":10,\"solidity\":0.2}},\"type\":\"histogram\"}],\"histogram2d\":[{\"colorbar\":{\"outlinewidth\":0,\"ticks\":\"\"},\"colorscale\":[[0.0,\"#0d0887\"],[0.1111111111111111,\"#46039f\"],[0.2222222222222222,\"#7201a8\"],[0.3333333333333333,\"#9c179e\"],[0.4444444444444444,\"#bd3786\"],[0.5555555555555556,\"#d8576b\"],[0.6666666666666666,\"#ed7953\"],[0.7777777777777778,\"#fb9f3a\"],[0.8888888888888888,\"#fdca26\"],[1.0,\"#f0f921\"]],\"type\":\"histogram2d\"}],\"histogram2dcontour\":[{\"colorbar\":{\"outlinewidth\":0,\"ticks\":\"\"},\"colorscale\":[[0.0,\"#0d0887\"],[0.1111111111111111,\"#46039f\"],[0.2222222222222222,\"#7201a8\"],[0.3333333333333333,\"#9c179e\"],[0.4444444444444444,\"#bd3786\"],[0.5555555555555556,\"#d8576b\"],[0.6666666666666666,\"#ed7953\"],[0.7777777777777778,\"#fb9f3a\"],[0.8888888888888888,\"#fdca26\"],[1.0,\"#f0f921\"]],\"type\":\"histogram2dcontour\"}],\"mesh3d\":[{\"colorbar\":{\"outlinewidth\":0,\"ticks\":\"\"},\"type\":\"mesh3d\"}],\"parcoords\":[{\"line\":{\"colorbar\":{\"outlinewidth\":0,\"ticks\":\"\"}},\"type\":\"parcoords\"}],\"pie\":[{\"automargin\":true,\"type\":\"pie\"}],\"scatter\":[{\"marker\":{\"colorbar\":{\"outlinewidth\":0,\"ticks\":\"\"}},\"type\":\"scatter\"}],\"scatter3d\":[{\"line\":{\"colorbar\":{\"outlinewidth\":0,\"ticks\":\"\"}},\"marker\":{\"colorbar\":{\"outlinewidth\":0,\"ticks\":\"\"}},\"type\":\"scatter3d\"}],\"scattercarpet\":[{\"marker\":{\"colorbar\":{\"outlinewidth\":0,\"ticks\":\"\"}},\"type\":\"scattercarpet\"}],\"scattergeo\":[{\"marker\":{\"colorbar\":{\"outlinewidth\":0,\"ticks\":\"\"}},\"type\":\"scattergeo\"}],\"scattergl\":[{\"marker\":{\"colorbar\":{\"outlinewidth\":0,\"ticks\":\"\"}},\"type\":\"scattergl\"}],\"scattermapbox\":[{\"marker\":{\"colorbar\":{\"outlinewidth\":0,\"ticks\":\"\"}},\"type\":\"scattermapbox\"}],\"scatterpolar\":[{\"marker\":{\"colorbar\":{\"outlinewidth\":0,\"ticks\":\"\"}},\"type\":\"scatterpolar\"}],\"scatterpolargl\":[{\"marker\":{\"colorbar\":{\"outlinewidth\":0,\"ticks\":\"\"}},\"type\":\"scatterpolargl\"}],\"scatterternary\":[{\"marker\":{\"colorbar\":{\"outlinewidth\":0,\"ticks\":\"\"}},\"type\":\"scatterternary\"}],\"surface\":[{\"colorbar\":{\"outlinewidth\":0,\"ticks\":\"\"},\"colorscale\":[[0.0,\"#0d0887\"],[0.1111111111111111,\"#46039f\"],[0.2222222222222222,\"#7201a8\"],[0.3333333333333333,\"#9c179e\"],[0.4444444444444444,\"#bd3786\"],[0.5555555555555556,\"#d8576b\"],[0.6666666666666666,\"#ed7953\"],[0.7777777777777778,\"#fb9f3a\"],[0.8888888888888888,\"#fdca26\"],[1.0,\"#f0f921\"]],\"type\":\"surface\"}],\"table\":[{\"cells\":{\"fill\":{\"color\":\"#EBF0F8\"},\"line\":{\"color\":\"white\"}},\"header\":{\"fill\":{\"color\":\"#C8D4E3\"},\"line\":{\"color\":\"white\"}},\"type\":\"table\"}]},\"layout\":{\"annotationdefaults\":{\"arrowcolor\":\"#2a3f5f\",\"arrowhead\":0,\"arrowwidth\":1},\"autotypenumbers\":\"strict\",\"coloraxis\":{\"colorbar\":{\"outlinewidth\":0,\"ticks\":\"\"}},\"colorscale\":{\"diverging\":[[0,\"#8e0152\"],[0.1,\"#c51b7d\"],[0.2,\"#de77ae\"],[0.3,\"#f1b6da\"],[0.4,\"#fde0ef\"],[0.5,\"#f7f7f7\"],[0.6,\"#e6f5d0\"],[0.7,\"#b8e186\"],[0.8,\"#7fbc41\"],[0.9,\"#4d9221\"],[1,\"#276419\"]],\"sequential\":[[0.0,\"#0d0887\"],[0.1111111111111111,\"#46039f\"],[0.2222222222222222,\"#7201a8\"],[0.3333333333333333,\"#9c179e\"],[0.4444444444444444,\"#bd3786\"],[0.5555555555555556,\"#d8576b\"],[0.6666666666666666,\"#ed7953\"],[0.7777777777777778,\"#fb9f3a\"],[0.8888888888888888,\"#fdca26\"],[1.0,\"#f0f921\"]],\"sequentialminus\":[[0.0,\"#0d0887\"],[0.1111111111111111,\"#46039f\"],[0.2222222222222222,\"#7201a8\"],[0.3333333333333333,\"#9c179e\"],[0.4444444444444444,\"#bd3786\"],[0.5555555555555556,\"#d8576b\"],[0.6666666666666666,\"#ed7953\"],[0.7777777777777778,\"#fb9f3a\"],[0.8888888888888888,\"#fdca26\"],[1.0,\"#f0f921\"]]},\"colorway\":[\"#636efa\",\"#EF553B\",\"#00cc96\",\"#ab63fa\",\"#FFA15A\",\"#19d3f3\",\"#FF6692\",\"#B6E880\",\"#FF97FF\",\"#FECB52\"],\"font\":{\"color\":\"#2a3f5f\"},\"geo\":{\"bgcolor\":\"white\",\"lakecolor\":\"white\",\"landcolor\":\"#E5ECF6\",\"showlakes\":true,\"showland\":true,\"subunitcolor\":\"white\"},\"hoverlabel\":{\"align\":\"left\"},\"hovermode\":\"closest\",\"mapbox\":{\"style\":\"light\"},\"paper_bgcolor\":\"white\",\"plot_bgcolor\":\"#E5ECF6\",\"polar\":{\"angularaxis\":{\"gridcolor\":\"white\",\"linecolor\":\"white\",\"ticks\":\"\"},\"bgcolor\":\"#E5ECF6\",\"radialaxis\":{\"gridcolor\":\"white\",\"linecolor\":\"white\",\"ticks\":\"\"}},\"scene\":{\"xaxis\":{\"backgroundcolor\":\"#E5ECF6\",\"gridcolor\":\"white\",\"gridwidth\":2,\"linecolor\":\"white\",\"showbackground\":true,\"ticks\":\"\",\"zerolinecolor\":\"white\"},\"yaxis\":{\"backgroundcolor\":\"#E5ECF6\",\"gridcolor\":\"white\",\"gridwidth\":2,\"linecolor\":\"white\",\"showbackground\":true,\"ticks\":\"\",\"zerolinecolor\":\"white\"},\"zaxis\":{\"backgroundcolor\":\"#E5ECF6\",\"gridcolor\":\"white\",\"gridwidth\":2,\"linecolor\":\"white\",\"showbackground\":true,\"ticks\":\"\",\"zerolinecolor\":\"white\"}},\"shapedefaults\":{\"line\":{\"color\":\"#2a3f5f\"}},\"ternary\":{\"aaxis\":{\"gridcolor\":\"white\",\"linecolor\":\"white\",\"ticks\":\"\"},\"baxis\":{\"gridcolor\":\"white\",\"linecolor\":\"white\",\"ticks\":\"\"},\"bgcolor\":\"#E5ECF6\",\"caxis\":{\"gridcolor\":\"white\",\"linecolor\":\"white\",\"ticks\":\"\"}},\"title\":{\"x\":0.05},\"xaxis\":{\"automargin\":true,\"gridcolor\":\"white\",\"linecolor\":\"white\",\"ticks\":\"\",\"title\":{\"standoff\":15},\"zerolinecolor\":\"white\",\"zerolinewidth\":2},\"yaxis\":{\"automargin\":true,\"gridcolor\":\"white\",\"linecolor\":\"white\",\"ticks\":\"\",\"title\":{\"standoff\":15},\"zerolinecolor\":\"white\",\"zerolinewidth\":2}}},\"xaxis\":{\"anchor\":\"y\",\"domain\":[0.0,1.0],\"title\":{\"text\":\"epochs\"}},\"yaxis\":{\"anchor\":\"x\",\"domain\":[0.0,1.0],\"title\":{\"text\":\"Accuracy\"}},\"legend\":{\"title\":{\"text\":\"name\"},\"tracegroupgap\":0},\"margin\":{\"t\":60}},                        {\"responsive\": true}                    ).then(function(){\n",
              "                            \n",
              "var gd = document.getElementById('b946b4e3-a3d4-4f88-b174-ac78dde5cbcb');\n",
              "var x = new MutationObserver(function (mutations, observer) {{\n",
              "        var display = window.getComputedStyle(gd).display;\n",
              "        if (!display || display === 'none') {{\n",
              "            console.log([gd, 'removed!']);\n",
              "            Plotly.purge(gd);\n",
              "            observer.disconnect();\n",
              "        }}\n",
              "}});\n",
              "\n",
              "// Listen for the removal of the full notebook cells\n",
              "var notebookContainer = gd.closest('#notebook-container');\n",
              "if (notebookContainer) {{\n",
              "    x.observe(notebookContainer, {childList: true});\n",
              "}}\n",
              "\n",
              "// Listen for the clearing of the current output cell\n",
              "var outputEl = gd.closest('.output');\n",
              "if (outputEl) {{\n",
              "    x.observe(outputEl, {childList: true});\n",
              "}}\n",
              "\n",
              "                        })                };                            </script>        </div>\n",
              "</body>\n",
              "</html>"
            ]
          },
          "metadata": {}
        },
        {
          "output_type": "stream",
          "name": "stdout",
          "text": [
            "535 535 535 535\n"
          ]
        },
        {
          "output_type": "display_data",
          "data": {
            "text/html": [
              "<html>\n",
              "<head><meta charset=\"utf-8\" /></head>\n",
              "<body>\n",
              "    <div>            <script src=\"https://cdnjs.cloudflare.com/ajax/libs/mathjax/2.7.5/MathJax.js?config=TeX-AMS-MML_SVG\"></script><script type=\"text/javascript\">if (window.MathJax) {MathJax.Hub.Config({SVG: {font: \"STIX-Web\"}});}</script>                <script type=\"text/javascript\">window.PlotlyConfig = {MathJaxConfig: 'local'};</script>\n",
              "        <script src=\"https://cdn.plot.ly/plotly-2.8.3.min.js\"></script>                <div id=\"6798fdcd-1ae2-47a1-8216-b7330a470e8c\" class=\"plotly-graph-div\" style=\"height:525px; width:100%;\"></div>            <script type=\"text/javascript\">                                    window.PLOTLYENV=window.PLOTLYENV || {};                                    if (document.getElementById(\"6798fdcd-1ae2-47a1-8216-b7330a470e8c\")) {                    Plotly.newPlot(                        \"6798fdcd-1ae2-47a1-8216-b7330a470e8c\",                        [{\"hovertemplate\":\"name=batch<br>epochs=%{x}<br>loss=%{y}<extra></extra>\",\"legendgroup\":\"batch\",\"line\":{\"color\":\"#636efa\",\"dash\":\"solid\"},\"marker\":{\"symbol\":\"circle\"},\"mode\":\"lines+markers\",\"name\":\"batch\",\"orientation\":\"v\",\"showlegend\":true,\"x\":[0,0,0,0,0,0,0,0,0,0,0,0,0,0,0,0,0,0,0,0,0,0,0,0,0,0,0,0,0,0,0,0,0,0,0,0,0,0,0,0,0,0,0,0,0,0,0,0,0,0,0,0,0,0,0,0,0,0,0,0,0,0,0,0,0,0,0,0,0,0,0,0,0,0,0,0,0,0,0,0,0,0,0,0,0,0,0,0,0,0,0,0,0,0,0,0,0,0,0,0,0,0,0,0,0,0,0,1,1,1,1,1,1,1,1,1,1,1,1,1,1,1,1,1,1,1,1,1,1,1,1,1,1,1,1,1,1,1,1,1,1,1,1,1,1,1,1,1,1,1,1,1,1,1,1,1,1,1,1,1,1,1,1,1,1,1,1,1,1,1,1,1,1,1,1,1,1,1,1,1,1,1,1,1,1,1,1,1,1,1,1,1,1,1,1,1,1,1,1,1,1,1,1,1,1,1,1,1,1,1,1,1,1,1,2,2,2,2,2,2,2,2,2,2,2,2,2,2,2,2,2,2,2,2,2,2,2,2,2,2,2,2,2,2,2,2,2,2,2,2,2,2,2,2,2,2,2,2,2,2,2,2,2,2,2,2,2,2,2,2,2,2,2,2,2,2,2,2,2,2,2,2,2,2,2,2,2,2,2,2,2,2,2,2,2,2,2,2,2,2,2,2,2,2,2,2,2,2,2,2,2,2,2,2,2,2,2,2,2,2,2,3,3,3,3,3,3,3,3,3,3,3,3,3,3,3,3,3,3,3,3,3,3,3,3,3,3,3,3,3,3,3,3,3,3,3,3,3,3,3,3,3,3,3,3,3,3,3,3,3,3,3,3,3,3,3,3,3,3,3,3,3,3,3,3,3,3,3,3,3,3,3,3,3,3,3,3,3,3,3,3,3,3,3,3,3,3,3,3,3,3,3,3,3,3,3,3,3,3,3,3,3,3,3,3,3,3,3,4,4,4,4,4,4,4,4,4,4,4,4,4,4,4,4,4,4,4,4,4,4,4,4,4,4,4,4,4,4,4,4,4,4,4,4,4,4,4,4,4,4,4,4,4,4,4,4,4,4,4,4,4,4,4,4,4,4,4,4,4,4,4,4,4,4,4,4,4,4,4,4,4,4,4,4,4,4,4,4,4,4,4,4,4,4,4,4,4,4,4,4,4,4,4,4,4,4,4,4,4,4,4,4,4,4,4],\"xaxis\":\"x\",\"y\":[47.45076372438853,69.16860956995244,69.73650905785529,60.00344550730749,30.564574794192513,19.861084398098257,11.272644661600504,7.082829141738751,3.4540636974182277,1.8252656425858913,1.2976493439925771,1.169685196347308,0.922782800124607,1.0859563503541025,1.075888411234136,1.0322986064572626,1.024952662508164,0.9475428918530598,0.6716890854527832,0.891378318725802,0.8220307681163778,0.5851083391967763,0.8420505221891105,0.5870777321093257,0.9119428117235848,0.9234400434125826,0.6984543336605828,0.884297442751588,0.8654315716962844,0.4938297503575805,0.7063774049585968,0.5301962377763474,0.6384410831715445,0.6356426855529563,0.6817621568989017,0.45102102680305445,0.4393940521017709,0.48746524152481907,0.5019192000688504,0.5572323011366257,0.7888987704933075,0.3938006200775124,0.44343363849135936,0.5451103089293468,0.46325110034545386,0.4777997110611923,0.5201835008965044,0.6303106209397291,0.5098515789809154,0.4890945523330443,0.4140167901391878,0.5258734929925929,0.6229157980288704,0.48172651993978455,0.44079962240118153,0.6134650522553963,0.4845042199004976,0.4648893004982936,0.5613962763558769,0.5079991089765171,0.628657599028683,0.6148630880612699,0.5148432084562147,0.4418696360781271,0.4652057306085005,0.34361141776885307,0.3752961883208744,0.5822091159292723,0.3303914673257557,0.41853176173323925,0.37682878224820443,0.37145342040328816,0.60309015573691,0.4922456277741154,0.3508009063230834,0.3836579291203331,0.39038701997550296,0.44857029941671017,0.32180631680907534,0.3004623088242734,0.4280416880951104,0.3368228372032366,0.5120461884653548,0.41168301182778544,0.27845724393255883,0.3499735134893992,0.37912811327008267,0.38902925115865133,0.37945003133092725,0.5162962654672947,0.45284228050020364,0.3870675125757823,0.4000012263697885,0.2835795083688487,0.2929987670484742,0.4865650950400678,0.479027852665149,0.4126360883150304,0.3954944558933787,0.3118792667226545,0.2804398948842804,0.47811725701566055,0.3813908234310435,0.2683654005325109,0.32410079599333325,0.2939889812995142,0.4252604550944314,0.3286083465105675,0.38410792950398026,0.4253433525135794,0.2556428170455452,0.2244418862421002,0.2752569419909021,0.23646546582022895,0.2897191152546567,0.2754619750807709,0.2836631924951881,0.29043981664020735,0.2614518795500554,0.26544532515534286,0.3633519294627641,0.2718273503939378,0.27216556699552846,0.3567847870563882,0.2766109301534785,0.26749672505136535,0.36351585859617264,0.2615710835490309,0.2463200509560626,0.32711307622457225,0.27246265011473414,0.3618948714609666,0.34957298783374885,0.3461105130316902,0.3687040463503693,0.3888315513756694,0.2394486044888594,0.2854052417195761,0.22166116420597093,0.30857899470313777,0.27309922005987836,0.3039302632682585,0.21200517444379238,0.2209801335741597,0.2528838865417984,0.2421784014808133,0.2895787031964169,0.48340642484243784,0.21209856728396845,0.22284764403400328,0.2673652973632201,0.2506716988721982,0.23275067495684792,0.28651429792930183,0.30785995305603364,0.2804992142172253,0.2862671399682264,0.2404651257336011,0.3060932447181811,0.3973980440277432,0.276005154916747,0.22213071829866637,0.3009130088572821,0.2634846150850493,0.26562899095207276,0.2938869466974795,0.31494858715763363,0.3674973143077988,0.36323603103980096,0.2663110319280667,0.282874449001437,0.26561785613274574,0.18778040787822717,0.2168260097392863,0.38737756548874835,0.22143449030934073,0.2753569529392934,0.22422745201053446,0.19555101786737203,0.3821872150771015,0.3167044344814502,0.20541661842305953,0.19069032666596247,0.24335755910314644,0.28484712685858865,0.22529153863131285,0.20329110209068116,0.2921009597047978,0.22473862195584246,0.33922988438607127,0.27166510215971507,0.17040049640917343,0.22715711207318265,0.22948499199210232,0.2562703966926016,0.2581750150205645,0.3440480140268137,0.3123711678511667,0.25039881212853676,0.28340647699912663,0.20762672183587208,0.19892233412812915,0.3071619882993242,0.32851238562826157,0.3117370171883985,0.2740872050731835,0.209963916392983,0.18499782097450415,0.3129278379367405,0.25803148887026434,0.1842016433694053,0.21537536285213515,0.21111033005781069,0.26387427881366254,0.2146977598609858,0.27235026097193055,0.3079651443822451,0.19496210294944186,0.14258828819922859,0.1915977144254645,0.14016393842097377,0.2015113251249774,0.187740734597503,0.19928816630171833,0.22085151777276985,0.18904274073218985,0.1928262315231406,0.28205227896550394,0.1944633358642943,0.20144543695945014,0.26212104948228954,0.2053002407619638,0.1942539997891894,0.2718045568613093,0.17091016487821323,0.1726960085975685,0.23561267978755576,0.20337979878176776,0.2714946161843022,0.26548989762460395,0.26331880644925953,0.2713537123337468,0.29023561662609343,0.1871129931158215,0.19526614593307032,0.15771040522594573,0.22995409314148396,0.18762544553992166,0.2203287854606607,0.16536546342973935,0.1558847702636595,0.1955422730121964,0.17741609612042425,0.2056109467022759,0.36406471970560333,0.16278293465472948,0.1685189312758624,0.19659839763388778,0.1935805881652664,0.17021121687678065,0.2148093604464039,0.2181099183095013,0.20392373217217966,0.22206493668264127,0.18101008727547604,0.23830838390452114,0.31842529892694615,0.210543570818058,0.16368774838769098,0.21579744686635055,0.2015724544447876,0.19527698600625645,0.2216549346338753,0.2335236935290786,0.27379784461419077,0.28003366815881037,0.19113578667318643,0.23115884738996748,0.19930343351735785,0.13351165307651053,0.1623077108343912,0.30515915099406404,0.18852258908891367,0.21212732435324758,0.16969920327209334,0.14453366612747548,0.2995091774697295,0.2515891173483228,0.15681884078191213,0.14079477650323227,0.19549072901714226,0.21987243867297684,0.18121378525258336,0.16750353263609957,0.23778177054723212,0.18153234059166223,0.25472445714322034,0.21294232576046979,0.13149829537096008,0.19078878739968708,0.170021121451254,0.20743578264036652,0.1989139268496354,0.26162645254342476,0.25059383031563964,0.1996270248143673,0.23095081647877194,0.17243349547041867,0.1615366937256187,0.224207536994762,0.2622641359206,0.25349765265107793,0.21764687575074718,0.15987335698472813,0.14747647558955468,0.2347939175457925,0.201550263718044,0.14807915774577263,0.1718672365519037,0.17342222806013208,0.19764945733879868,0.16456545248164106,0.22541007938733237,0.2516971858628542,0.1639013709470326,0.1098427548397257,0.16186106837803949,0.10831932004835577,0.16027587903937998,0.14307695321317435,0.16082534960928468,0.18227952139332565,0.1533569659407338,0.15877295453364637,0.23009678922570043,0.1480867763918046,0.16351138400712217,0.21276189077441546,0.16702299819618918,0.15023395131873127,0.22685621490211244,0.1322834887760801,0.13925854436769683,0.18711314415282335,0.1641682986046463,0.21809890832914416,0.22264519114186432,0.22002021349555453,0.22079023204106027,0.23760690525244327,0.15542976524589103,0.14907350206322123,0.12387848462957712,0.1890065866705811,0.14377570211773152,0.17727272987466494,0.13694593484894435,0.1199461089732236,0.15939211785788046,0.13987730112838076,0.1647319920885042,0.294194525124355,0.1317528317986114,0.13428674052712664,0.15798839076252102,0.16051716831050578,0.1417509692617048,0.17264994433879824,0.18163683021138471,0.16514041009570643,0.18834485541612792,0.14395231280870985,0.2056726094714802,0.26844188346220377,0.17796518238662595,0.12966796832491898,0.17893883238492578,0.1685307855560245,0.1604536063078591,0.18603057103896792,0.18196849619174327,0.2199092339030871,0.2304438089075869,0.15124495020507983,0.1981594865042986,0.15898538390559652,0.10553905508890125,0.13178057188208062,0.2588365865516218,0.1652546360344986,0.17575640746048946,0.1384556908123375,0.12349713653602767,0.2536447467580361,0.21247626998523006,0.12960487344135047,0.11403270476217527,0.16658653556628694,0.18049774060018117,0.15522692822675882,0.14211976792004197,0.20622294365447943,0.15783137441922676,0.19671520306512316,0.1786003904844961,0.10885975309788717,0.1685747000890425,0.13700821085666542,0.17563061601215518,0.16151553344881384,0.20919889279388662,0.21248114830956627,0.17203970317701447,0.19752601280708257,0.14827237527783282,0.13990513279000805,0.17497094297150798,0.2182301441631921,0.21282442756508352,0.18390357160189344,0.12882044948662938,0.12398350609318347,0.18439338733810828,0.17280610936346397,0.12600466753331788,0.14840409539491128,0.1498953677345784,0.15669607801728405,0.137079778186694,0.1953408382548223,0.2140046585799162,0.14197271435390327,0.09140335363717121,0.1429639141371889,0.0902083827226889,0.13511329720258852,0.11488312306653872,0.13582521099229772,0.15605762415493685,0.12984692944336737,0.1368173794354612,0.19566582736982263,0.1188005586920294,0.13815468564624486,0.18100860525178625,0.14096721437801893,0.12118105049174384,0.19954788577793722,0.10641520128659816,0.12243529478271246,0.15516043467019153,0.13452436263804524,0.1807181200304828,0.19210238375386135,0.1856183394193065,0.18920903793482513,0.20352186432169242,0.13385762448687658,0.12136968147894305,0.10163202515292663,0.1591842467959251,0.11789078142031355,0.14769934235888973,0.11869186030557168,0.0953552853938175,0.13606336948327863,0.11672387362686658,0.13856304264116304,0.247953193937972,0.11037844376623834,0.11144658970254019,0.13404735706525076,0.14037872647735575,0.1223145275760046,0.1452764741422643,0.15764829440477923,0.14213737429015882,0.16369979099929502,0.11860782104101819,0.18393393263786564,0.23084701770438285,0.1551967278257895,0.1073888336806581,0.15781804538643998,0.14531224749155944,0.1364113529986697,0.1625363664586343,0.14890468019341885,0.18189350123070014,0.19546970083188064,0.12570660597716235,0.1740313829243741,0.13053443486684954,0.08904919921618959,0.11313961145590024,0.22925554834773654,0.14653419972019247,0.15339905020505973,0.118968555045667,0.10979024530527537,0.2213958335408978,0.18286602295994475,0.1115109581948906,0.09765502558653183,0.14458110616528455,0.15499915885327753,0.13670169582680403,0.12343480951006898,0.18305082138005982,0.1380265350585128,0.16082574866095503,0.15311876847365902,0.09220909259407087,0.15009932535142467,0.1162353795916249,0.15257194751499278,0.13585752714083502,0.17443195363867497,0.18360756728805308,0.15158883242133686,0.1730356588607844,0.131756570945547,0.12522425353965694,0.14400082046177934,0.1851774813388198,0.18236491620193301,0.16018792804768542,0.1066082489682305,0.10605901836921024,0.15191897367070492,0.1527647901039033,0.11119143342874911,0.1324761555969033,0.13167351729454602,0.1300219407872029],\"yaxis\":\"y\",\"type\":\"scatter\"}],                        {\"template\":{\"data\":{\"bar\":[{\"error_x\":{\"color\":\"#2a3f5f\"},\"error_y\":{\"color\":\"#2a3f5f\"},\"marker\":{\"line\":{\"color\":\"#E5ECF6\",\"width\":0.5},\"pattern\":{\"fillmode\":\"overlay\",\"size\":10,\"solidity\":0.2}},\"type\":\"bar\"}],\"barpolar\":[{\"marker\":{\"line\":{\"color\":\"#E5ECF6\",\"width\":0.5},\"pattern\":{\"fillmode\":\"overlay\",\"size\":10,\"solidity\":0.2}},\"type\":\"barpolar\"}],\"carpet\":[{\"aaxis\":{\"endlinecolor\":\"#2a3f5f\",\"gridcolor\":\"white\",\"linecolor\":\"white\",\"minorgridcolor\":\"white\",\"startlinecolor\":\"#2a3f5f\"},\"baxis\":{\"endlinecolor\":\"#2a3f5f\",\"gridcolor\":\"white\",\"linecolor\":\"white\",\"minorgridcolor\":\"white\",\"startlinecolor\":\"#2a3f5f\"},\"type\":\"carpet\"}],\"choropleth\":[{\"colorbar\":{\"outlinewidth\":0,\"ticks\":\"\"},\"type\":\"choropleth\"}],\"contour\":[{\"colorbar\":{\"outlinewidth\":0,\"ticks\":\"\"},\"colorscale\":[[0.0,\"#0d0887\"],[0.1111111111111111,\"#46039f\"],[0.2222222222222222,\"#7201a8\"],[0.3333333333333333,\"#9c179e\"],[0.4444444444444444,\"#bd3786\"],[0.5555555555555556,\"#d8576b\"],[0.6666666666666666,\"#ed7953\"],[0.7777777777777778,\"#fb9f3a\"],[0.8888888888888888,\"#fdca26\"],[1.0,\"#f0f921\"]],\"type\":\"contour\"}],\"contourcarpet\":[{\"colorbar\":{\"outlinewidth\":0,\"ticks\":\"\"},\"type\":\"contourcarpet\"}],\"heatmap\":[{\"colorbar\":{\"outlinewidth\":0,\"ticks\":\"\"},\"colorscale\":[[0.0,\"#0d0887\"],[0.1111111111111111,\"#46039f\"],[0.2222222222222222,\"#7201a8\"],[0.3333333333333333,\"#9c179e\"],[0.4444444444444444,\"#bd3786\"],[0.5555555555555556,\"#d8576b\"],[0.6666666666666666,\"#ed7953\"],[0.7777777777777778,\"#fb9f3a\"],[0.8888888888888888,\"#fdca26\"],[1.0,\"#f0f921\"]],\"type\":\"heatmap\"}],\"heatmapgl\":[{\"colorbar\":{\"outlinewidth\":0,\"ticks\":\"\"},\"colorscale\":[[0.0,\"#0d0887\"],[0.1111111111111111,\"#46039f\"],[0.2222222222222222,\"#7201a8\"],[0.3333333333333333,\"#9c179e\"],[0.4444444444444444,\"#bd3786\"],[0.5555555555555556,\"#d8576b\"],[0.6666666666666666,\"#ed7953\"],[0.7777777777777778,\"#fb9f3a\"],[0.8888888888888888,\"#fdca26\"],[1.0,\"#f0f921\"]],\"type\":\"heatmapgl\"}],\"histogram\":[{\"marker\":{\"pattern\":{\"fillmode\":\"overlay\",\"size\":10,\"solidity\":0.2}},\"type\":\"histogram\"}],\"histogram2d\":[{\"colorbar\":{\"outlinewidth\":0,\"ticks\":\"\"},\"colorscale\":[[0.0,\"#0d0887\"],[0.1111111111111111,\"#46039f\"],[0.2222222222222222,\"#7201a8\"],[0.3333333333333333,\"#9c179e\"],[0.4444444444444444,\"#bd3786\"],[0.5555555555555556,\"#d8576b\"],[0.6666666666666666,\"#ed7953\"],[0.7777777777777778,\"#fb9f3a\"],[0.8888888888888888,\"#fdca26\"],[1.0,\"#f0f921\"]],\"type\":\"histogram2d\"}],\"histogram2dcontour\":[{\"colorbar\":{\"outlinewidth\":0,\"ticks\":\"\"},\"colorscale\":[[0.0,\"#0d0887\"],[0.1111111111111111,\"#46039f\"],[0.2222222222222222,\"#7201a8\"],[0.3333333333333333,\"#9c179e\"],[0.4444444444444444,\"#bd3786\"],[0.5555555555555556,\"#d8576b\"],[0.6666666666666666,\"#ed7953\"],[0.7777777777777778,\"#fb9f3a\"],[0.8888888888888888,\"#fdca26\"],[1.0,\"#f0f921\"]],\"type\":\"histogram2dcontour\"}],\"mesh3d\":[{\"colorbar\":{\"outlinewidth\":0,\"ticks\":\"\"},\"type\":\"mesh3d\"}],\"parcoords\":[{\"line\":{\"colorbar\":{\"outlinewidth\":0,\"ticks\":\"\"}},\"type\":\"parcoords\"}],\"pie\":[{\"automargin\":true,\"type\":\"pie\"}],\"scatter\":[{\"marker\":{\"colorbar\":{\"outlinewidth\":0,\"ticks\":\"\"}},\"type\":\"scatter\"}],\"scatter3d\":[{\"line\":{\"colorbar\":{\"outlinewidth\":0,\"ticks\":\"\"}},\"marker\":{\"colorbar\":{\"outlinewidth\":0,\"ticks\":\"\"}},\"type\":\"scatter3d\"}],\"scattercarpet\":[{\"marker\":{\"colorbar\":{\"outlinewidth\":0,\"ticks\":\"\"}},\"type\":\"scattercarpet\"}],\"scattergeo\":[{\"marker\":{\"colorbar\":{\"outlinewidth\":0,\"ticks\":\"\"}},\"type\":\"scattergeo\"}],\"scattergl\":[{\"marker\":{\"colorbar\":{\"outlinewidth\":0,\"ticks\":\"\"}},\"type\":\"scattergl\"}],\"scattermapbox\":[{\"marker\":{\"colorbar\":{\"outlinewidth\":0,\"ticks\":\"\"}},\"type\":\"scattermapbox\"}],\"scatterpolar\":[{\"marker\":{\"colorbar\":{\"outlinewidth\":0,\"ticks\":\"\"}},\"type\":\"scatterpolar\"}],\"scatterpolargl\":[{\"marker\":{\"colorbar\":{\"outlinewidth\":0,\"ticks\":\"\"}},\"type\":\"scatterpolargl\"}],\"scatterternary\":[{\"marker\":{\"colorbar\":{\"outlinewidth\":0,\"ticks\":\"\"}},\"type\":\"scatterternary\"}],\"surface\":[{\"colorbar\":{\"outlinewidth\":0,\"ticks\":\"\"},\"colorscale\":[[0.0,\"#0d0887\"],[0.1111111111111111,\"#46039f\"],[0.2222222222222222,\"#7201a8\"],[0.3333333333333333,\"#9c179e\"],[0.4444444444444444,\"#bd3786\"],[0.5555555555555556,\"#d8576b\"],[0.6666666666666666,\"#ed7953\"],[0.7777777777777778,\"#fb9f3a\"],[0.8888888888888888,\"#fdca26\"],[1.0,\"#f0f921\"]],\"type\":\"surface\"}],\"table\":[{\"cells\":{\"fill\":{\"color\":\"#EBF0F8\"},\"line\":{\"color\":\"white\"}},\"header\":{\"fill\":{\"color\":\"#C8D4E3\"},\"line\":{\"color\":\"white\"}},\"type\":\"table\"}]},\"layout\":{\"annotationdefaults\":{\"arrowcolor\":\"#2a3f5f\",\"arrowhead\":0,\"arrowwidth\":1},\"autotypenumbers\":\"strict\",\"coloraxis\":{\"colorbar\":{\"outlinewidth\":0,\"ticks\":\"\"}},\"colorscale\":{\"diverging\":[[0,\"#8e0152\"],[0.1,\"#c51b7d\"],[0.2,\"#de77ae\"],[0.3,\"#f1b6da\"],[0.4,\"#fde0ef\"],[0.5,\"#f7f7f7\"],[0.6,\"#e6f5d0\"],[0.7,\"#b8e186\"],[0.8,\"#7fbc41\"],[0.9,\"#4d9221\"],[1,\"#276419\"]],\"sequential\":[[0.0,\"#0d0887\"],[0.1111111111111111,\"#46039f\"],[0.2222222222222222,\"#7201a8\"],[0.3333333333333333,\"#9c179e\"],[0.4444444444444444,\"#bd3786\"],[0.5555555555555556,\"#d8576b\"],[0.6666666666666666,\"#ed7953\"],[0.7777777777777778,\"#fb9f3a\"],[0.8888888888888888,\"#fdca26\"],[1.0,\"#f0f921\"]],\"sequentialminus\":[[0.0,\"#0d0887\"],[0.1111111111111111,\"#46039f\"],[0.2222222222222222,\"#7201a8\"],[0.3333333333333333,\"#9c179e\"],[0.4444444444444444,\"#bd3786\"],[0.5555555555555556,\"#d8576b\"],[0.6666666666666666,\"#ed7953\"],[0.7777777777777778,\"#fb9f3a\"],[0.8888888888888888,\"#fdca26\"],[1.0,\"#f0f921\"]]},\"colorway\":[\"#636efa\",\"#EF553B\",\"#00cc96\",\"#ab63fa\",\"#FFA15A\",\"#19d3f3\",\"#FF6692\",\"#B6E880\",\"#FF97FF\",\"#FECB52\"],\"font\":{\"color\":\"#2a3f5f\"},\"geo\":{\"bgcolor\":\"white\",\"lakecolor\":\"white\",\"landcolor\":\"#E5ECF6\",\"showlakes\":true,\"showland\":true,\"subunitcolor\":\"white\"},\"hoverlabel\":{\"align\":\"left\"},\"hovermode\":\"closest\",\"mapbox\":{\"style\":\"light\"},\"paper_bgcolor\":\"white\",\"plot_bgcolor\":\"#E5ECF6\",\"polar\":{\"angularaxis\":{\"gridcolor\":\"white\",\"linecolor\":\"white\",\"ticks\":\"\"},\"bgcolor\":\"#E5ECF6\",\"radialaxis\":{\"gridcolor\":\"white\",\"linecolor\":\"white\",\"ticks\":\"\"}},\"scene\":{\"xaxis\":{\"backgroundcolor\":\"#E5ECF6\",\"gridcolor\":\"white\",\"gridwidth\":2,\"linecolor\":\"white\",\"showbackground\":true,\"ticks\":\"\",\"zerolinecolor\":\"white\"},\"yaxis\":{\"backgroundcolor\":\"#E5ECF6\",\"gridcolor\":\"white\",\"gridwidth\":2,\"linecolor\":\"white\",\"showbackground\":true,\"ticks\":\"\",\"zerolinecolor\":\"white\"},\"zaxis\":{\"backgroundcolor\":\"#E5ECF6\",\"gridcolor\":\"white\",\"gridwidth\":2,\"linecolor\":\"white\",\"showbackground\":true,\"ticks\":\"\",\"zerolinecolor\":\"white\"}},\"shapedefaults\":{\"line\":{\"color\":\"#2a3f5f\"}},\"ternary\":{\"aaxis\":{\"gridcolor\":\"white\",\"linecolor\":\"white\",\"ticks\":\"\"},\"baxis\":{\"gridcolor\":\"white\",\"linecolor\":\"white\",\"ticks\":\"\"},\"bgcolor\":\"#E5ECF6\",\"caxis\":{\"gridcolor\":\"white\",\"linecolor\":\"white\",\"ticks\":\"\"}},\"title\":{\"x\":0.05},\"xaxis\":{\"automargin\":true,\"gridcolor\":\"white\",\"linecolor\":\"white\",\"ticks\":\"\",\"title\":{\"standoff\":15},\"zerolinecolor\":\"white\",\"zerolinewidth\":2},\"yaxis\":{\"automargin\":true,\"gridcolor\":\"white\",\"linecolor\":\"white\",\"ticks\":\"\",\"title\":{\"standoff\":15},\"zerolinecolor\":\"white\",\"zerolinewidth\":2}}},\"xaxis\":{\"anchor\":\"y\",\"domain\":[0.0,1.0],\"title\":{\"text\":\"epochs\"}},\"yaxis\":{\"anchor\":\"x\",\"domain\":[0.0,1.0],\"title\":{\"text\":\"loss\"}},\"legend\":{\"title\":{\"text\":\"name\"},\"tracegroupgap\":0},\"margin\":{\"t\":60}},                        {\"responsive\": true}                    ).then(function(){\n",
              "                            \n",
              "var gd = document.getElementById('6798fdcd-1ae2-47a1-8216-b7330a470e8c');\n",
              "var x = new MutationObserver(function (mutations, observer) {{\n",
              "        var display = window.getComputedStyle(gd).display;\n",
              "        if (!display || display === 'none') {{\n",
              "            console.log([gd, 'removed!']);\n",
              "            Plotly.purge(gd);\n",
              "            observer.disconnect();\n",
              "        }}\n",
              "}});\n",
              "\n",
              "// Listen for the removal of the full notebook cells\n",
              "var notebookContainer = gd.closest('#notebook-container');\n",
              "if (notebookContainer) {{\n",
              "    x.observe(notebookContainer, {childList: true});\n",
              "}}\n",
              "\n",
              "// Listen for the clearing of the current output cell\n",
              "var outputEl = gd.closest('.output');\n",
              "if (outputEl) {{\n",
              "    x.observe(outputEl, {childList: true});\n",
              "}}\n",
              "\n",
              "                        })                };                            </script>        </div>\n",
              "</body>\n",
              "</html>"
            ]
          },
          "metadata": {}
        },
        {
          "output_type": "display_data",
          "data": {
            "text/html": [
              "<html>\n",
              "<head><meta charset=\"utf-8\" /></head>\n",
              "<body>\n",
              "    <div>            <script src=\"https://cdnjs.cloudflare.com/ajax/libs/mathjax/2.7.5/MathJax.js?config=TeX-AMS-MML_SVG\"></script><script type=\"text/javascript\">if (window.MathJax) {MathJax.Hub.Config({SVG: {font: \"STIX-Web\"}});}</script>                <script type=\"text/javascript\">window.PlotlyConfig = {MathJaxConfig: 'local'};</script>\n",
              "        <script src=\"https://cdn.plot.ly/plotly-2.8.3.min.js\"></script>                <div id=\"d1c6c65e-5025-4daa-807b-14da0e90ccff\" class=\"plotly-graph-div\" style=\"height:525px; width:100%;\"></div>            <script type=\"text/javascript\">                                    window.PLOTLYENV=window.PLOTLYENV || {};                                    if (document.getElementById(\"d1c6c65e-5025-4daa-807b-14da0e90ccff\")) {                    Plotly.newPlot(                        \"d1c6c65e-5025-4daa-807b-14da0e90ccff\",                        [{\"hovertemplate\":\"name=batch<br>epochs=%{x}<br>Accuracy=%{y}<extra></extra>\",\"legendgroup\":\"batch\",\"line\":{\"color\":\"#636efa\",\"dash\":\"solid\"},\"marker\":{\"symbol\":\"circle\"},\"mode\":\"lines+markers\",\"name\":\"batch\",\"orientation\":\"v\",\"showlegend\":true,\"x\":[0,0,0,0,0,0,0,0,0,0,0,0,0,0,0,0,0,0,0,0,0,0,0,0,0,0,0,0,0,0,0,0,0,0,0,0,0,0,0,0,0,0,0,0,0,0,0,0,0,0,0,0,0,0,0,0,0,0,0,0,0,0,0,0,0,0,0,0,0,0,0,0,0,0,0,0,0,0,0,0,0,0,0,0,0,0,0,0,0,0,0,0,0,0,0,0,0,0,0,0,0,0,0,0,0,0,0,1,1,1,1,1,1,1,1,1,1,1,1,1,1,1,1,1,1,1,1,1,1,1,1,1,1,1,1,1,1,1,1,1,1,1,1,1,1,1,1,1,1,1,1,1,1,1,1,1,1,1,1,1,1,1,1,1,1,1,1,1,1,1,1,1,1,1,1,1,1,1,1,1,1,1,1,1,1,1,1,1,1,1,1,1,1,1,1,1,1,1,1,1,1,1,1,1,1,1,1,1,1,1,1,1,1,1,2,2,2,2,2,2,2,2,2,2,2,2,2,2,2,2,2,2,2,2,2,2,2,2,2,2,2,2,2,2,2,2,2,2,2,2,2,2,2,2,2,2,2,2,2,2,2,2,2,2,2,2,2,2,2,2,2,2,2,2,2,2,2,2,2,2,2,2,2,2,2,2,2,2,2,2,2,2,2,2,2,2,2,2,2,2,2,2,2,2,2,2,2,2,2,2,2,2,2,2,2,2,2,2,2,2,2,3,3,3,3,3,3,3,3,3,3,3,3,3,3,3,3,3,3,3,3,3,3,3,3,3,3,3,3,3,3,3,3,3,3,3,3,3,3,3,3,3,3,3,3,3,3,3,3,3,3,3,3,3,3,3,3,3,3,3,3,3,3,3,3,3,3,3,3,3,3,3,3,3,3,3,3,3,3,3,3,3,3,3,3,3,3,3,3,3,3,3,3,3,3,3,3,3,3,3,3,3,3,3,3,3,3,3,4,4,4,4,4,4,4,4,4,4,4,4,4,4,4,4,4,4,4,4,4,4,4,4,4,4,4,4,4,4,4,4,4,4,4,4,4,4,4,4,4,4,4,4,4,4,4,4,4,4,4,4,4,4,4,4,4,4,4,4,4,4,4,4,4,4,4,4,4,4,4,4,4,4,4,4,4,4,4,4,4,4,4,4,4,4,4,4,4,4,4,4,4,4,4,4,4,4,4,4,4,4,4,4,4,4,4],\"xaxis\":\"x\",\"y\":[0.22330097087378642,0.1883495145631068,0.3968871595330739,0.4027237354085603,0.22568093385214008,0.3715953307392996,0.3404669260700389,0.3560311284046693,0.5778210116731517,0.6575875486381323,0.7159533073929961,0.7412451361867705,0.7626459143968871,0.7101167315175098,0.7490272373540856,0.7509727626459144,0.7334630350194552,0.7762645914396887,0.8035019455252919,0.7937743190661478,0.7859922178988327,0.8424124513618677,0.8210116731517509,0.8287937743190662,0.7801556420233463,0.7607003891050583,0.8249027237354085,0.7568093385214008,0.7957198443579766,0.8657587548638133,0.8443579766536965,0.8599221789883269,0.8268482490272373,0.811284046692607,0.8132295719844358,0.8657587548638133,0.8871595330739299,0.8715953307392996,0.867704280155642,0.8599221789883269,0.8424124513618677,0.914396887159533,0.8891050583657587,0.8482490272373541,0.8754863813229572,0.877431906614786,0.8424124513618677,0.8424124513618677,0.8521400778210116,0.8852140077821011,0.9046692607003891,0.867704280155642,0.830739299610895,0.8735408560311284,0.8793774319066148,0.867704280155642,0.877431906614786,0.8599221789883269,0.8229571984435797,0.8599221789883269,0.8715953307392996,0.857976653696498,0.8540856031128404,0.877431906614786,0.8832684824902723,0.8988326848249028,0.9007782101167315,0.8540856031128404,0.9105058365758755,0.896887159533074,0.8891050583657587,0.9007782101167315,0.830739299610895,0.877431906614786,0.9046692607003891,0.8910505836575876,0.8988326848249028,0.8501945525291829,0.9066147859922179,0.914396887159533,0.8657587548638133,0.9066147859922179,0.8832684824902723,0.8871595330739299,0.933852140077821,0.8929961089494164,0.8910505836575876,0.8852140077821011,0.896887159533074,0.8754863813229572,0.8793774319066148,0.9046692607003891,0.8754863813229572,0.9319066147859922,0.9085603112840467,0.8657587548638133,0.877431906614786,0.8754863813229572,0.8988326848249028,0.9085603112840467,0.9280155642023347,0.8871595330739299,0.896887159533074,0.9357976653696498,0.9124513618677043,0.9085603112840467,0.8715953307392996,0.9048543689320389,0.8932038834951457,0.896887159533074,0.9260700389105059,0.9357976653696498,0.9066147859922179,0.9221789883268483,0.9299610894941635,0.914396887159533,0.9221789883268483,0.933852140077821,0.9221789883268483,0.9221789883268483,0.8949416342412452,0.9202334630350194,0.9163424124513618,0.8852140077821011,0.9105058365758755,0.9182879377431906,0.8910505836575876,0.9357976653696498,0.9319066147859922,0.9105058365758755,0.9182879377431906,0.8988326848249028,0.8949416342412452,0.9085603112840467,0.8871595330739299,0.8929961089494164,0.9260700389105059,0.9163424124513618,0.9299610894941635,0.9046692607003891,0.914396887159533,0.8988326848249028,0.9396887159533074,0.9357976653696498,0.9319066147859922,0.9260700389105059,0.9299610894941635,0.8949416342412452,0.9474708171206225,0.9319066147859922,0.9007782101167315,0.9377431906614786,0.9357976653696498,0.9202334630350194,0.9027237354085603,0.9221789883268483,0.9299610894941635,0.9396887159533074,0.9299610894941635,0.9007782101167315,0.9280155642023347,0.9474708171206225,0.9085603112840467,0.9241245136186771,0.9046692607003891,0.9066147859922179,0.9046692607003891,0.9066147859922179,0.9027237354085603,0.9221789883268483,0.9416342412451362,0.9357976653696498,0.9494163424124513,0.9416342412451362,0.8871595330739299,0.9416342412451362,0.9260700389105059,0.9319066147859922,0.9416342412451362,0.8929961089494164,0.9241245136186771,0.9513618677042801,0.9494163424124513,0.9260700389105059,0.9124513618677043,0.9280155642023347,0.9416342412451362,0.914396887159533,0.9299610894941635,0.9066147859922179,0.9280155642023347,0.9571984435797666,0.9299610894941635,0.9357976653696498,0.9299610894941635,0.9163424124513618,0.9066147859922179,0.9182879377431906,0.933852140077821,0.9085603112840467,0.9513618677042801,0.9416342412451362,0.8988326848249028,0.9085603112840467,0.896887159533074,0.9260700389105059,0.9319066147859922,0.953307392996109,0.9221789883268483,0.9221789883268483,0.953307392996109,0.9357976653696498,0.9319066147859922,0.9066147859922179,0.9320388349514563,0.9359223300970874,0.9241245136186771,0.9396887159533074,0.9630350194552529,0.9455252918287937,0.9494163424124513,0.9494163424124513,0.9455252918287937,0.9474708171206225,0.9494163424124513,0.9513618677042801,0.943579766536965,0.9182879377431906,0.9396887159533074,0.9416342412451362,0.9280155642023347,0.9377431906614786,0.943579766536965,0.9066147859922179,0.953307392996109,0.9513618677042801,0.9260700389105059,0.9455252918287937,0.9124513618677043,0.9202334630350194,0.9260700389105059,0.9182879377431906,0.933852140077821,0.9357976653696498,0.933852140077821,0.943579766536965,0.9319066147859922,0.9455252918287937,0.933852140077821,0.943579766536965,0.9494163424124513,0.9455252918287937,0.943579766536965,0.9571984435797666,0.9202334630350194,0.9591439688715954,0.9552529182879378,0.9299610894941635,0.9494163424124513,0.9571984435797666,0.9357976653696498,0.9319066147859922,0.9455252918287937,0.9455252918287937,0.9494163424124513,0.9377431906614786,0.9260700389105059,0.9474708171206225,0.9552529182879378,0.943579766536965,0.943579766536965,0.9260700389105059,0.933852140077821,0.9241245136186771,0.9299610894941635,0.9260700389105059,0.9416342412451362,0.9455252918287937,0.943579766536965,0.9649805447470817,0.9571984435797666,0.9124513618677043,0.953307392996109,0.9377431906614786,0.9513618677042801,0.9552529182879378,0.914396887159533,0.933852140077821,0.9708171206225681,0.9649805447470817,0.9319066147859922,0.9357976653696498,0.9494163424124513,0.9494163424124513,0.9319066147859922,0.9494163424124513,0.9377431906614786,0.9377431906614786,0.9649805447470817,0.9494163424124513,0.9474708171206225,0.9416342412451362,0.9280155642023347,0.9280155642023347,0.9357976653696498,0.9494163424124513,0.9280155642023347,0.9610894941634242,0.9591439688715954,0.9260700389105059,0.9221789883268483,0.9241245136186771,0.933852140077821,0.943579766536965,0.9591439688715954,0.943579766536965,0.9396887159533074,0.9630350194552529,0.9474708171206225,0.9474708171206225,0.9221789883268483,0.9475728155339805,0.9495145631067962,0.9357976653696498,0.953307392996109,0.9727626459143969,0.9513618677042801,0.9630350194552529,0.9552529182879378,0.9552529182879378,0.9552529182879378,0.9630350194552529,0.953307392996109,0.9649805447470817,0.9319066147859922,0.953307392996109,0.9571984435797666,0.9416342412451362,0.953307392996109,0.953307392996109,0.9260700389105059,0.9688715953307393,0.9669260700389105,0.9474708171206225,0.953307392996109,0.9319066147859922,0.9319066147859922,0.9416342412451362,0.9299610894941635,0.9455252918287937,0.9513618677042801,0.9474708171206225,0.9669260700389105,0.9474708171206225,0.9591439688715954,0.943579766536965,0.9630350194552529,0.9552529182879378,0.953307392996109,0.9610894941634242,0.9649805447470817,0.9299610894941635,0.9591439688715954,0.9610894941634242,0.9474708171206225,0.9610894941634242,0.9669260700389105,0.9513618677042801,0.9416342412451362,0.9649805447470817,0.953307392996109,0.9630350194552529,0.9474708171206225,0.9396887159533074,0.9591439688715954,0.9610894941634242,0.9610894941634242,0.9513618677042801,0.943579766536965,0.9396887159533074,0.9396887159533074,0.9377431906614786,0.933852140077821,0.9552529182879378,0.9474708171206225,0.953307392996109,0.9766536964980544,0.9649805447470817,0.9182879377431906,0.9552529182879378,0.953307392996109,0.9591439688715954,0.9688715953307393,0.9241245136186771,0.9455252918287937,0.9766536964980544,0.9669260700389105,0.9455252918287937,0.9416342412451362,0.9610894941634242,0.9591439688715954,0.943579766536965,0.9571984435797666,0.9591439688715954,0.9474708171206225,0.9708171206225681,0.9591439688715954,0.9591439688715954,0.9513618677042801,0.9455252918287937,0.943579766536965,0.943579766536965,0.9571984435797666,0.9396887159533074,0.9669260700389105,0.9591439688715954,0.9474708171206225,0.9416342412451362,0.933852140077821,0.9552529182879378,0.9571984435797666,0.9630350194552529,0.9591439688715954,0.9455252918287937,0.9727626459143969,0.9610894941634242,0.9552529182879378,0.9455252918287937,0.9572815533980582,0.9514563106796117,0.943579766536965,0.9649805447470817,0.980544747081712,0.9630350194552529,0.9688715953307393,0.9649805447470817,0.9649805447470817,0.9610894941634242,0.9708171206225681,0.9610894941634242,0.9747081712062257,0.9416342412451362,0.9630350194552529,0.9610894941634242,0.9494163424124513,0.9591439688715954,0.9610894941634242,0.9377431906614786,0.9785992217898832,0.9727626459143969,0.953307392996109,0.9630350194552529,0.9377431906614786,0.943579766536965,0.9494163424124513,0.9416342412451362,0.9513618677042801,0.9610894941634242,0.9591439688715954,0.9727626459143969,0.953307392996109,0.9669260700389105,0.9610894941634242,0.9727626459143969,0.9688715953307393,0.9630350194552529,0.9669260700389105,0.9727626459143969,0.9357976653696498,0.9610894941634242,0.9708171206225681,0.9591439688715954,0.9727626459143969,0.9708171206225681,0.953307392996109,0.9494163424124513,0.9688715953307393,0.9610894941634242,0.9727626459143969,0.953307392996109,0.943579766536965,0.9630350194552529,0.9649805447470817,0.9669260700389105,0.9552529182879378,0.9474708171206225,0.9474708171206225,0.953307392996109,0.9455252918287937,0.9416342412451362,0.9669260700389105,0.9571984435797666,0.9630350194552529,0.980544747081712,0.9727626459143969,0.9260700389105059,0.9630350194552529,0.9630350194552529,0.9630350194552529,0.9688715953307393,0.9416342412451362,0.953307392996109,0.9766536964980544,0.9766536964980544,0.9513618677042801,0.9552529182879378,0.9669260700389105,0.9669260700389105,0.9513618677042801,0.9591439688715954,0.9591439688715954,0.9552529182879378,0.9766536964980544,0.9571984435797666,0.9649805447470817,0.953307392996109,0.9474708171206225,0.9513618677042801,0.9494163424124513,0.9610894941634242,0.9474708171206225,0.9708171206225681,0.9688715953307393,0.9552529182879378,0.9455252918287937,0.9416342412451362,0.9571984435797666,0.9610894941634242,0.9669260700389105,0.9630350194552529,0.953307392996109,0.9727626459143969,0.9669260700389105,0.9610894941634242,0.9610894941634242],\"yaxis\":\"y\",\"type\":\"scatter\"}],                        {\"template\":{\"data\":{\"bar\":[{\"error_x\":{\"color\":\"#2a3f5f\"},\"error_y\":{\"color\":\"#2a3f5f\"},\"marker\":{\"line\":{\"color\":\"#E5ECF6\",\"width\":0.5},\"pattern\":{\"fillmode\":\"overlay\",\"size\":10,\"solidity\":0.2}},\"type\":\"bar\"}],\"barpolar\":[{\"marker\":{\"line\":{\"color\":\"#E5ECF6\",\"width\":0.5},\"pattern\":{\"fillmode\":\"overlay\",\"size\":10,\"solidity\":0.2}},\"type\":\"barpolar\"}],\"carpet\":[{\"aaxis\":{\"endlinecolor\":\"#2a3f5f\",\"gridcolor\":\"white\",\"linecolor\":\"white\",\"minorgridcolor\":\"white\",\"startlinecolor\":\"#2a3f5f\"},\"baxis\":{\"endlinecolor\":\"#2a3f5f\",\"gridcolor\":\"white\",\"linecolor\":\"white\",\"minorgridcolor\":\"white\",\"startlinecolor\":\"#2a3f5f\"},\"type\":\"carpet\"}],\"choropleth\":[{\"colorbar\":{\"outlinewidth\":0,\"ticks\":\"\"},\"type\":\"choropleth\"}],\"contour\":[{\"colorbar\":{\"outlinewidth\":0,\"ticks\":\"\"},\"colorscale\":[[0.0,\"#0d0887\"],[0.1111111111111111,\"#46039f\"],[0.2222222222222222,\"#7201a8\"],[0.3333333333333333,\"#9c179e\"],[0.4444444444444444,\"#bd3786\"],[0.5555555555555556,\"#d8576b\"],[0.6666666666666666,\"#ed7953\"],[0.7777777777777778,\"#fb9f3a\"],[0.8888888888888888,\"#fdca26\"],[1.0,\"#f0f921\"]],\"type\":\"contour\"}],\"contourcarpet\":[{\"colorbar\":{\"outlinewidth\":0,\"ticks\":\"\"},\"type\":\"contourcarpet\"}],\"heatmap\":[{\"colorbar\":{\"outlinewidth\":0,\"ticks\":\"\"},\"colorscale\":[[0.0,\"#0d0887\"],[0.1111111111111111,\"#46039f\"],[0.2222222222222222,\"#7201a8\"],[0.3333333333333333,\"#9c179e\"],[0.4444444444444444,\"#bd3786\"],[0.5555555555555556,\"#d8576b\"],[0.6666666666666666,\"#ed7953\"],[0.7777777777777778,\"#fb9f3a\"],[0.8888888888888888,\"#fdca26\"],[1.0,\"#f0f921\"]],\"type\":\"heatmap\"}],\"heatmapgl\":[{\"colorbar\":{\"outlinewidth\":0,\"ticks\":\"\"},\"colorscale\":[[0.0,\"#0d0887\"],[0.1111111111111111,\"#46039f\"],[0.2222222222222222,\"#7201a8\"],[0.3333333333333333,\"#9c179e\"],[0.4444444444444444,\"#bd3786\"],[0.5555555555555556,\"#d8576b\"],[0.6666666666666666,\"#ed7953\"],[0.7777777777777778,\"#fb9f3a\"],[0.8888888888888888,\"#fdca26\"],[1.0,\"#f0f921\"]],\"type\":\"heatmapgl\"}],\"histogram\":[{\"marker\":{\"pattern\":{\"fillmode\":\"overlay\",\"size\":10,\"solidity\":0.2}},\"type\":\"histogram\"}],\"histogram2d\":[{\"colorbar\":{\"outlinewidth\":0,\"ticks\":\"\"},\"colorscale\":[[0.0,\"#0d0887\"],[0.1111111111111111,\"#46039f\"],[0.2222222222222222,\"#7201a8\"],[0.3333333333333333,\"#9c179e\"],[0.4444444444444444,\"#bd3786\"],[0.5555555555555556,\"#d8576b\"],[0.6666666666666666,\"#ed7953\"],[0.7777777777777778,\"#fb9f3a\"],[0.8888888888888888,\"#fdca26\"],[1.0,\"#f0f921\"]],\"type\":\"histogram2d\"}],\"histogram2dcontour\":[{\"colorbar\":{\"outlinewidth\":0,\"ticks\":\"\"},\"colorscale\":[[0.0,\"#0d0887\"],[0.1111111111111111,\"#46039f\"],[0.2222222222222222,\"#7201a8\"],[0.3333333333333333,\"#9c179e\"],[0.4444444444444444,\"#bd3786\"],[0.5555555555555556,\"#d8576b\"],[0.6666666666666666,\"#ed7953\"],[0.7777777777777778,\"#fb9f3a\"],[0.8888888888888888,\"#fdca26\"],[1.0,\"#f0f921\"]],\"type\":\"histogram2dcontour\"}],\"mesh3d\":[{\"colorbar\":{\"outlinewidth\":0,\"ticks\":\"\"},\"type\":\"mesh3d\"}],\"parcoords\":[{\"line\":{\"colorbar\":{\"outlinewidth\":0,\"ticks\":\"\"}},\"type\":\"parcoords\"}],\"pie\":[{\"automargin\":true,\"type\":\"pie\"}],\"scatter\":[{\"marker\":{\"colorbar\":{\"outlinewidth\":0,\"ticks\":\"\"}},\"type\":\"scatter\"}],\"scatter3d\":[{\"line\":{\"colorbar\":{\"outlinewidth\":0,\"ticks\":\"\"}},\"marker\":{\"colorbar\":{\"outlinewidth\":0,\"ticks\":\"\"}},\"type\":\"scatter3d\"}],\"scattercarpet\":[{\"marker\":{\"colorbar\":{\"outlinewidth\":0,\"ticks\":\"\"}},\"type\":\"scattercarpet\"}],\"scattergeo\":[{\"marker\":{\"colorbar\":{\"outlinewidth\":0,\"ticks\":\"\"}},\"type\":\"scattergeo\"}],\"scattergl\":[{\"marker\":{\"colorbar\":{\"outlinewidth\":0,\"ticks\":\"\"}},\"type\":\"scattergl\"}],\"scattermapbox\":[{\"marker\":{\"colorbar\":{\"outlinewidth\":0,\"ticks\":\"\"}},\"type\":\"scattermapbox\"}],\"scatterpolar\":[{\"marker\":{\"colorbar\":{\"outlinewidth\":0,\"ticks\":\"\"}},\"type\":\"scatterpolar\"}],\"scatterpolargl\":[{\"marker\":{\"colorbar\":{\"outlinewidth\":0,\"ticks\":\"\"}},\"type\":\"scatterpolargl\"}],\"scatterternary\":[{\"marker\":{\"colorbar\":{\"outlinewidth\":0,\"ticks\":\"\"}},\"type\":\"scatterternary\"}],\"surface\":[{\"colorbar\":{\"outlinewidth\":0,\"ticks\":\"\"},\"colorscale\":[[0.0,\"#0d0887\"],[0.1111111111111111,\"#46039f\"],[0.2222222222222222,\"#7201a8\"],[0.3333333333333333,\"#9c179e\"],[0.4444444444444444,\"#bd3786\"],[0.5555555555555556,\"#d8576b\"],[0.6666666666666666,\"#ed7953\"],[0.7777777777777778,\"#fb9f3a\"],[0.8888888888888888,\"#fdca26\"],[1.0,\"#f0f921\"]],\"type\":\"surface\"}],\"table\":[{\"cells\":{\"fill\":{\"color\":\"#EBF0F8\"},\"line\":{\"color\":\"white\"}},\"header\":{\"fill\":{\"color\":\"#C8D4E3\"},\"line\":{\"color\":\"white\"}},\"type\":\"table\"}]},\"layout\":{\"annotationdefaults\":{\"arrowcolor\":\"#2a3f5f\",\"arrowhead\":0,\"arrowwidth\":1},\"autotypenumbers\":\"strict\",\"coloraxis\":{\"colorbar\":{\"outlinewidth\":0,\"ticks\":\"\"}},\"colorscale\":{\"diverging\":[[0,\"#8e0152\"],[0.1,\"#c51b7d\"],[0.2,\"#de77ae\"],[0.3,\"#f1b6da\"],[0.4,\"#fde0ef\"],[0.5,\"#f7f7f7\"],[0.6,\"#e6f5d0\"],[0.7,\"#b8e186\"],[0.8,\"#7fbc41\"],[0.9,\"#4d9221\"],[1,\"#276419\"]],\"sequential\":[[0.0,\"#0d0887\"],[0.1111111111111111,\"#46039f\"],[0.2222222222222222,\"#7201a8\"],[0.3333333333333333,\"#9c179e\"],[0.4444444444444444,\"#bd3786\"],[0.5555555555555556,\"#d8576b\"],[0.6666666666666666,\"#ed7953\"],[0.7777777777777778,\"#fb9f3a\"],[0.8888888888888888,\"#fdca26\"],[1.0,\"#f0f921\"]],\"sequentialminus\":[[0.0,\"#0d0887\"],[0.1111111111111111,\"#46039f\"],[0.2222222222222222,\"#7201a8\"],[0.3333333333333333,\"#9c179e\"],[0.4444444444444444,\"#bd3786\"],[0.5555555555555556,\"#d8576b\"],[0.6666666666666666,\"#ed7953\"],[0.7777777777777778,\"#fb9f3a\"],[0.8888888888888888,\"#fdca26\"],[1.0,\"#f0f921\"]]},\"colorway\":[\"#636efa\",\"#EF553B\",\"#00cc96\",\"#ab63fa\",\"#FFA15A\",\"#19d3f3\",\"#FF6692\",\"#B6E880\",\"#FF97FF\",\"#FECB52\"],\"font\":{\"color\":\"#2a3f5f\"},\"geo\":{\"bgcolor\":\"white\",\"lakecolor\":\"white\",\"landcolor\":\"#E5ECF6\",\"showlakes\":true,\"showland\":true,\"subunitcolor\":\"white\"},\"hoverlabel\":{\"align\":\"left\"},\"hovermode\":\"closest\",\"mapbox\":{\"style\":\"light\"},\"paper_bgcolor\":\"white\",\"plot_bgcolor\":\"#E5ECF6\",\"polar\":{\"angularaxis\":{\"gridcolor\":\"white\",\"linecolor\":\"white\",\"ticks\":\"\"},\"bgcolor\":\"#E5ECF6\",\"radialaxis\":{\"gridcolor\":\"white\",\"linecolor\":\"white\",\"ticks\":\"\"}},\"scene\":{\"xaxis\":{\"backgroundcolor\":\"#E5ECF6\",\"gridcolor\":\"white\",\"gridwidth\":2,\"linecolor\":\"white\",\"showbackground\":true,\"ticks\":\"\",\"zerolinecolor\":\"white\"},\"yaxis\":{\"backgroundcolor\":\"#E5ECF6\",\"gridcolor\":\"white\",\"gridwidth\":2,\"linecolor\":\"white\",\"showbackground\":true,\"ticks\":\"\",\"zerolinecolor\":\"white\"},\"zaxis\":{\"backgroundcolor\":\"#E5ECF6\",\"gridcolor\":\"white\",\"gridwidth\":2,\"linecolor\":\"white\",\"showbackground\":true,\"ticks\":\"\",\"zerolinecolor\":\"white\"}},\"shapedefaults\":{\"line\":{\"color\":\"#2a3f5f\"}},\"ternary\":{\"aaxis\":{\"gridcolor\":\"white\",\"linecolor\":\"white\",\"ticks\":\"\"},\"baxis\":{\"gridcolor\":\"white\",\"linecolor\":\"white\",\"ticks\":\"\"},\"bgcolor\":\"#E5ECF6\",\"caxis\":{\"gridcolor\":\"white\",\"linecolor\":\"white\",\"ticks\":\"\"}},\"title\":{\"x\":0.05},\"xaxis\":{\"automargin\":true,\"gridcolor\":\"white\",\"linecolor\":\"white\",\"ticks\":\"\",\"title\":{\"standoff\":15},\"zerolinecolor\":\"white\",\"zerolinewidth\":2},\"yaxis\":{\"automargin\":true,\"gridcolor\":\"white\",\"linecolor\":\"white\",\"ticks\":\"\",\"title\":{\"standoff\":15},\"zerolinecolor\":\"white\",\"zerolinewidth\":2}}},\"xaxis\":{\"anchor\":\"y\",\"domain\":[0.0,1.0],\"title\":{\"text\":\"epochs\"}},\"yaxis\":{\"anchor\":\"x\",\"domain\":[0.0,1.0],\"title\":{\"text\":\"Accuracy\"}},\"legend\":{\"title\":{\"text\":\"name\"},\"tracegroupgap\":0},\"margin\":{\"t\":60}},                        {\"responsive\": true}                    ).then(function(){\n",
              "                            \n",
              "var gd = document.getElementById('d1c6c65e-5025-4daa-807b-14da0e90ccff');\n",
              "var x = new MutationObserver(function (mutations, observer) {{\n",
              "        var display = window.getComputedStyle(gd).display;\n",
              "        if (!display || display === 'none') {{\n",
              "            console.log([gd, 'removed!']);\n",
              "            Plotly.purge(gd);\n",
              "            observer.disconnect();\n",
              "        }}\n",
              "}});\n",
              "\n",
              "// Listen for the removal of the full notebook cells\n",
              "var notebookContainer = gd.closest('#notebook-container');\n",
              "if (notebookContainer) {{\n",
              "    x.observe(notebookContainer, {childList: true});\n",
              "}}\n",
              "\n",
              "// Listen for the clearing of the current output cell\n",
              "var outputEl = gd.closest('.output');\n",
              "if (outputEl) {{\n",
              "    x.observe(outputEl, {childList: true});\n",
              "}}\n",
              "\n",
              "                        })                };                            </script>        </div>\n",
              "</body>\n",
              "</html>"
            ]
          },
          "metadata": {}
        }
      ]
    },
    {
      "cell_type": "markdown",
      "metadata": {
        "id": "-Hopk_g5FveK"
      },
      "source": [
        "### Part 4: Analysis"
      ]
    },
    {
      "cell_type": "code",
      "source": [
        "# dataset = data.load_synth()\n",
        "dataset = data.load_mnist()"
      ],
      "metadata": {
        "id": "bifoL1tv7Ml8"
      },
      "execution_count": 116,
      "outputs": []
    },
    {
      "cell_type": "markdown",
      "metadata": {
        "id": "uRPvX8PfF75u"
      },
      "source": [
        "##### Question 7.1"
      ]
    },
    {
      "cell_type": "code",
      "execution_count": null,
      "metadata": {
        "id": "ebFUNCFXGBY-"
      },
      "outputs": [],
      "source": [
        "# 1.\n",
        "# Experiment one: Compare the training loss per epoch to the validation loss per epoch\n",
        "alpha, batch_size = 0.01, 1000"
      ]
    },
    {
      "cell_type": "markdown",
      "metadata": {
        "id": "cjtSN3LYGB40"
      },
      "source": [
        "##### Question 7.2"
      ]
    },
    {
      "cell_type": "code",
      "execution_count": null,
      "metadata": {
        "id": "Lo-PUP_jGJ4K"
      },
      "outputs": [],
      "source": [
        "# 2.\n",
        "# Experiment two: Test\n",
        "# Train the neural network from a random initialization multiple times (at least 3) and\n",
        "# plot an average and a standard deviation"
      ]
    },
    {
      "cell_type": "markdown",
      "metadata": {
        "id": "r_MaDLZoGHfm"
      },
      "source": [
        "##### Question 7.3"
      ]
    },
    {
      "cell_type": "code",
      "execution_count": null,
      "metadata": {
        "id": "5Wrn7z_VGDiV"
      },
      "outputs": [],
      "source": [
        "# 3.\n",
        "# Experiment three: Run the SGD with different learning rates\n",
        "learning_rates = [0.001, 0.003, 0.01, 0.03]\n",
        "alpha, batch_size = 0.01, 1000\n",
        "for alpha in learning_rates:\n",
        "    run(dataset, alpha, batch_size)\n"
      ]
    },
    {
      "cell_type": "markdown",
      "metadata": {
        "id": "xQb_Co89GEzw"
      },
      "source": [
        "##### Question 7.4"
      ]
    },
    {
      "cell_type": "code",
      "execution_count": null,
      "metadata": {
        "id": "XE1AJ-6ZGGVH"
      },
      "outputs": [],
      "source": [
        "# 4.\n",
        "# train on the final network on the full training data and evaluate to the canonical test set\n",
        "# switch final to True\n",
        "# dataset_predict = data.load_mnist(final=True)\n",
        "# nr_hlayers, epochs, alpha, batch_size = final_parameters\n",
        "# run(dataset, epochs, alpha, batch_size)"
      ]
    },
    {
      "cell_type": "markdown",
      "source": [
        "##### Extra Analysis"
      ],
      "metadata": {
        "id": "lpJE6Agq7TKE"
      }
    },
    {
      "cell_type": "code",
      "source": [
        "# 5.\n",
        "# Experiment five: Test different batch sizes\n"
      ],
      "metadata": {
        "id": "rcsScMeL7SZA"
      },
      "execution_count": null,
      "outputs": []
    }
  ],
  "metadata": {
    "colab": {
      "collapsed_sections": [
        "_JvBo0VZsR7Z",
        "pXMv4vvlsR7o"
      ],
      "provenance": []
    },
    "kernelspec": {
      "display_name": "Python 3.7.9 ('DL_1')",
      "language": "python",
      "name": "python3"
    },
    "language_info": {
      "codemirror_mode": {
        "name": "ipython",
        "version": 3
      },
      "file_extension": ".py",
      "mimetype": "text/x-python",
      "name": "python",
      "nbconvert_exporter": "python",
      "pygments_lexer": "ipython3",
      "version": "3.7.9"
    },
    "vscode": {
      "interpreter": {
        "hash": "12a185847e1f76a37c85b0abefb647a845a9913370412eb69d9e93821712d7d9"
      }
    },
    "widgets": {
      "application/vnd.jupyter.widget-state+json": {
        "2298ebaf730d4e3f988b295d54007ccb": {
          "model_module": "@jupyter-widgets/controls",
          "model_name": "HBoxModel",
          "model_module_version": "1.5.0",
          "state": {
            "_dom_classes": [],
            "_model_module": "@jupyter-widgets/controls",
            "_model_module_version": "1.5.0",
            "_model_name": "HBoxModel",
            "_view_count": null,
            "_view_module": "@jupyter-widgets/controls",
            "_view_module_version": "1.5.0",
            "_view_name": "HBoxView",
            "box_style": "",
            "children": [
              "IPY_MODEL_fe1170f80921464596cf7a7f47de47e3",
              "IPY_MODEL_c806aa949a2c4fb09c7f0b0d77d00cbe",
              "IPY_MODEL_8bb6e2ff766d4fca89836e428c4b566a"
            ],
            "layout": "IPY_MODEL_94f7684d5aa7433b8928f5f8b6a9c06e"
          }
        },
        "fe1170f80921464596cf7a7f47de47e3": {
          "model_module": "@jupyter-widgets/controls",
          "model_name": "HTMLModel",
          "model_module_version": "1.5.0",
          "state": {
            "_dom_classes": [],
            "_model_module": "@jupyter-widgets/controls",
            "_model_module_version": "1.5.0",
            "_model_name": "HTMLModel",
            "_view_count": null,
            "_view_module": "@jupyter-widgets/controls",
            "_view_module_version": "1.5.0",
            "_view_name": "HTMLView",
            "description": "",
            "description_tooltip": null,
            "layout": "IPY_MODEL_b41a0abc57a641aaa7740cb7036470c1",
            "placeholder": "​",
            "style": "IPY_MODEL_d1a719f944b84d0f9579f9cb3ec822a9",
            "value": "epochs: 100%"
          }
        },
        "c806aa949a2c4fb09c7f0b0d77d00cbe": {
          "model_module": "@jupyter-widgets/controls",
          "model_name": "FloatProgressModel",
          "model_module_version": "1.5.0",
          "state": {
            "_dom_classes": [],
            "_model_module": "@jupyter-widgets/controls",
            "_model_module_version": "1.5.0",
            "_model_name": "FloatProgressModel",
            "_view_count": null,
            "_view_module": "@jupyter-widgets/controls",
            "_view_module_version": "1.5.0",
            "_view_name": "ProgressView",
            "bar_style": "success",
            "description": "",
            "description_tooltip": null,
            "layout": "IPY_MODEL_13bb1c93c4fc49f798575aca41254df9",
            "max": 5,
            "min": 0,
            "orientation": "horizontal",
            "style": "IPY_MODEL_e3cbd7a7f00347e49e7ecc45d31e25be",
            "value": 5
          }
        },
        "8bb6e2ff766d4fca89836e428c4b566a": {
          "model_module": "@jupyter-widgets/controls",
          "model_name": "HTMLModel",
          "model_module_version": "1.5.0",
          "state": {
            "_dom_classes": [],
            "_model_module": "@jupyter-widgets/controls",
            "_model_module_version": "1.5.0",
            "_model_name": "HTMLModel",
            "_view_count": null,
            "_view_module": "@jupyter-widgets/controls",
            "_view_module_version": "1.5.0",
            "_view_name": "HTMLView",
            "description": "",
            "description_tooltip": null,
            "layout": "IPY_MODEL_53efd0123fdc444f8561141db40dc26d",
            "placeholder": "​",
            "style": "IPY_MODEL_9fad2025246540ebba5d2187a6b732e7",
            "value": " 5/5 [00:49&lt;00:00, 10.50s/it]"
          }
        },
        "94f7684d5aa7433b8928f5f8b6a9c06e": {
          "model_module": "@jupyter-widgets/base",
          "model_name": "LayoutModel",
          "model_module_version": "1.2.0",
          "state": {
            "_model_module": "@jupyter-widgets/base",
            "_model_module_version": "1.2.0",
            "_model_name": "LayoutModel",
            "_view_count": null,
            "_view_module": "@jupyter-widgets/base",
            "_view_module_version": "1.2.0",
            "_view_name": "LayoutView",
            "align_content": null,
            "align_items": null,
            "align_self": null,
            "border": null,
            "bottom": null,
            "display": null,
            "flex": null,
            "flex_flow": null,
            "grid_area": null,
            "grid_auto_columns": null,
            "grid_auto_flow": null,
            "grid_auto_rows": null,
            "grid_column": null,
            "grid_gap": null,
            "grid_row": null,
            "grid_template_areas": null,
            "grid_template_columns": null,
            "grid_template_rows": null,
            "height": null,
            "justify_content": null,
            "justify_items": null,
            "left": null,
            "margin": null,
            "max_height": null,
            "max_width": null,
            "min_height": null,
            "min_width": null,
            "object_fit": null,
            "object_position": null,
            "order": null,
            "overflow": null,
            "overflow_x": null,
            "overflow_y": null,
            "padding": null,
            "right": null,
            "top": null,
            "visibility": null,
            "width": null
          }
        },
        "b41a0abc57a641aaa7740cb7036470c1": {
          "model_module": "@jupyter-widgets/base",
          "model_name": "LayoutModel",
          "model_module_version": "1.2.0",
          "state": {
            "_model_module": "@jupyter-widgets/base",
            "_model_module_version": "1.2.0",
            "_model_name": "LayoutModel",
            "_view_count": null,
            "_view_module": "@jupyter-widgets/base",
            "_view_module_version": "1.2.0",
            "_view_name": "LayoutView",
            "align_content": null,
            "align_items": null,
            "align_self": null,
            "border": null,
            "bottom": null,
            "display": null,
            "flex": null,
            "flex_flow": null,
            "grid_area": null,
            "grid_auto_columns": null,
            "grid_auto_flow": null,
            "grid_auto_rows": null,
            "grid_column": null,
            "grid_gap": null,
            "grid_row": null,
            "grid_template_areas": null,
            "grid_template_columns": null,
            "grid_template_rows": null,
            "height": null,
            "justify_content": null,
            "justify_items": null,
            "left": null,
            "margin": null,
            "max_height": null,
            "max_width": null,
            "min_height": null,
            "min_width": null,
            "object_fit": null,
            "object_position": null,
            "order": null,
            "overflow": null,
            "overflow_x": null,
            "overflow_y": null,
            "padding": null,
            "right": null,
            "top": null,
            "visibility": null,
            "width": null
          }
        },
        "d1a719f944b84d0f9579f9cb3ec822a9": {
          "model_module": "@jupyter-widgets/controls",
          "model_name": "DescriptionStyleModel",
          "model_module_version": "1.5.0",
          "state": {
            "_model_module": "@jupyter-widgets/controls",
            "_model_module_version": "1.5.0",
            "_model_name": "DescriptionStyleModel",
            "_view_count": null,
            "_view_module": "@jupyter-widgets/base",
            "_view_module_version": "1.2.0",
            "_view_name": "StyleView",
            "description_width": ""
          }
        },
        "13bb1c93c4fc49f798575aca41254df9": {
          "model_module": "@jupyter-widgets/base",
          "model_name": "LayoutModel",
          "model_module_version": "1.2.0",
          "state": {
            "_model_module": "@jupyter-widgets/base",
            "_model_module_version": "1.2.0",
            "_model_name": "LayoutModel",
            "_view_count": null,
            "_view_module": "@jupyter-widgets/base",
            "_view_module_version": "1.2.0",
            "_view_name": "LayoutView",
            "align_content": null,
            "align_items": null,
            "align_self": null,
            "border": null,
            "bottom": null,
            "display": null,
            "flex": null,
            "flex_flow": null,
            "grid_area": null,
            "grid_auto_columns": null,
            "grid_auto_flow": null,
            "grid_auto_rows": null,
            "grid_column": null,
            "grid_gap": null,
            "grid_row": null,
            "grid_template_areas": null,
            "grid_template_columns": null,
            "grid_template_rows": null,
            "height": null,
            "justify_content": null,
            "justify_items": null,
            "left": null,
            "margin": null,
            "max_height": null,
            "max_width": null,
            "min_height": null,
            "min_width": null,
            "object_fit": null,
            "object_position": null,
            "order": null,
            "overflow": null,
            "overflow_x": null,
            "overflow_y": null,
            "padding": null,
            "right": null,
            "top": null,
            "visibility": null,
            "width": null
          }
        },
        "e3cbd7a7f00347e49e7ecc45d31e25be": {
          "model_module": "@jupyter-widgets/controls",
          "model_name": "ProgressStyleModel",
          "model_module_version": "1.5.0",
          "state": {
            "_model_module": "@jupyter-widgets/controls",
            "_model_module_version": "1.5.0",
            "_model_name": "ProgressStyleModel",
            "_view_count": null,
            "_view_module": "@jupyter-widgets/base",
            "_view_module_version": "1.2.0",
            "_view_name": "StyleView",
            "bar_color": null,
            "description_width": ""
          }
        },
        "53efd0123fdc444f8561141db40dc26d": {
          "model_module": "@jupyter-widgets/base",
          "model_name": "LayoutModel",
          "model_module_version": "1.2.0",
          "state": {
            "_model_module": "@jupyter-widgets/base",
            "_model_module_version": "1.2.0",
            "_model_name": "LayoutModel",
            "_view_count": null,
            "_view_module": "@jupyter-widgets/base",
            "_view_module_version": "1.2.0",
            "_view_name": "LayoutView",
            "align_content": null,
            "align_items": null,
            "align_self": null,
            "border": null,
            "bottom": null,
            "display": null,
            "flex": null,
            "flex_flow": null,
            "grid_area": null,
            "grid_auto_columns": null,
            "grid_auto_flow": null,
            "grid_auto_rows": null,
            "grid_column": null,
            "grid_gap": null,
            "grid_row": null,
            "grid_template_areas": null,
            "grid_template_columns": null,
            "grid_template_rows": null,
            "height": null,
            "justify_content": null,
            "justify_items": null,
            "left": null,
            "margin": null,
            "max_height": null,
            "max_width": null,
            "min_height": null,
            "min_width": null,
            "object_fit": null,
            "object_position": null,
            "order": null,
            "overflow": null,
            "overflow_x": null,
            "overflow_y": null,
            "padding": null,
            "right": null,
            "top": null,
            "visibility": null,
            "width": null
          }
        },
        "9fad2025246540ebba5d2187a6b732e7": {
          "model_module": "@jupyter-widgets/controls",
          "model_name": "DescriptionStyleModel",
          "model_module_version": "1.5.0",
          "state": {
            "_model_module": "@jupyter-widgets/controls",
            "_model_module_version": "1.5.0",
            "_model_name": "DescriptionStyleModel",
            "_view_count": null,
            "_view_module": "@jupyter-widgets/base",
            "_view_module_version": "1.2.0",
            "_view_name": "StyleView",
            "description_width": ""
          }
        },
        "f3b4f47a8b484e09ba591b1215d5fc87": {
          "model_module": "@jupyter-widgets/controls",
          "model_name": "HBoxModel",
          "model_module_version": "1.5.0",
          "state": {
            "_dom_classes": [],
            "_model_module": "@jupyter-widgets/controls",
            "_model_module_version": "1.5.0",
            "_model_name": "HBoxModel",
            "_view_count": null,
            "_view_module": "@jupyter-widgets/controls",
            "_view_module_version": "1.5.0",
            "_view_name": "HBoxView",
            "box_style": "",
            "children": [
              "IPY_MODEL_51232849996c489bab479a88891bf348",
              "IPY_MODEL_39288d56c6a84ccd8c3592d40f3dbf08",
              "IPY_MODEL_1d1bd2a78b2846eeb85bf0740229f126"
            ],
            "layout": "IPY_MODEL_02c0d5a3cb7742e3b958f8058c94b9dc"
          }
        },
        "51232849996c489bab479a88891bf348": {
          "model_module": "@jupyter-widgets/controls",
          "model_name": "HTMLModel",
          "model_module_version": "1.5.0",
          "state": {
            "_dom_classes": [],
            "_model_module": "@jupyter-widgets/controls",
            "_model_module_version": "1.5.0",
            "_model_name": "HTMLModel",
            "_view_count": null,
            "_view_module": "@jupyter-widgets/controls",
            "_view_module_version": "1.5.0",
            "_view_name": "HTMLView",
            "description": "",
            "description_tooltip": null,
            "layout": "IPY_MODEL_980b442c30e845a49e2071fc3a3ae0f5",
            "placeholder": "​",
            "style": "IPY_MODEL_f75a2f06d2d04e08ae295b972491eb78",
            "value": "train: 100%"
          }
        },
        "39288d56c6a84ccd8c3592d40f3dbf08": {
          "model_module": "@jupyter-widgets/controls",
          "model_name": "FloatProgressModel",
          "model_module_version": "1.5.0",
          "state": {
            "_dom_classes": [],
            "_model_module": "@jupyter-widgets/controls",
            "_model_module_version": "1.5.0",
            "_model_name": "FloatProgressModel",
            "_view_count": null,
            "_view_module": "@jupyter-widgets/controls",
            "_view_module_version": "1.5.0",
            "_view_name": "ProgressView",
            "bar_style": "success",
            "description": "",
            "description_tooltip": null,
            "layout": "IPY_MODEL_bc0f046d36154468b0fdbb398b1a0cd8",
            "max": 107,
            "min": 0,
            "orientation": "horizontal",
            "style": "IPY_MODEL_976f9af7afb34e3db9da633b00e9b7f6",
            "value": 107
          }
        },
        "1d1bd2a78b2846eeb85bf0740229f126": {
          "model_module": "@jupyter-widgets/controls",
          "model_name": "HTMLModel",
          "model_module_version": "1.5.0",
          "state": {
            "_dom_classes": [],
            "_model_module": "@jupyter-widgets/controls",
            "_model_module_version": "1.5.0",
            "_model_name": "HTMLModel",
            "_view_count": null,
            "_view_module": "@jupyter-widgets/controls",
            "_view_module_version": "1.5.0",
            "_view_name": "HTMLView",
            "description": "",
            "description_tooltip": null,
            "layout": "IPY_MODEL_754dac0e86414be0bba98434296ddd53",
            "placeholder": "​",
            "style": "IPY_MODEL_1a6f55b25bc74a0cb266a9bd7709c6f6",
            "value": " 107/107 [00:06&lt;00:00, 18.39it/s]"
          }
        },
        "02c0d5a3cb7742e3b958f8058c94b9dc": {
          "model_module": "@jupyter-widgets/base",
          "model_name": "LayoutModel",
          "model_module_version": "1.2.0",
          "state": {
            "_model_module": "@jupyter-widgets/base",
            "_model_module_version": "1.2.0",
            "_model_name": "LayoutModel",
            "_view_count": null,
            "_view_module": "@jupyter-widgets/base",
            "_view_module_version": "1.2.0",
            "_view_name": "LayoutView",
            "align_content": null,
            "align_items": null,
            "align_self": null,
            "border": null,
            "bottom": null,
            "display": null,
            "flex": null,
            "flex_flow": null,
            "grid_area": null,
            "grid_auto_columns": null,
            "grid_auto_flow": null,
            "grid_auto_rows": null,
            "grid_column": null,
            "grid_gap": null,
            "grid_row": null,
            "grid_template_areas": null,
            "grid_template_columns": null,
            "grid_template_rows": null,
            "height": null,
            "justify_content": null,
            "justify_items": null,
            "left": null,
            "margin": null,
            "max_height": null,
            "max_width": null,
            "min_height": null,
            "min_width": null,
            "object_fit": null,
            "object_position": null,
            "order": null,
            "overflow": null,
            "overflow_x": null,
            "overflow_y": null,
            "padding": null,
            "right": null,
            "top": null,
            "visibility": null,
            "width": null
          }
        },
        "980b442c30e845a49e2071fc3a3ae0f5": {
          "model_module": "@jupyter-widgets/base",
          "model_name": "LayoutModel",
          "model_module_version": "1.2.0",
          "state": {
            "_model_module": "@jupyter-widgets/base",
            "_model_module_version": "1.2.0",
            "_model_name": "LayoutModel",
            "_view_count": null,
            "_view_module": "@jupyter-widgets/base",
            "_view_module_version": "1.2.0",
            "_view_name": "LayoutView",
            "align_content": null,
            "align_items": null,
            "align_self": null,
            "border": null,
            "bottom": null,
            "display": null,
            "flex": null,
            "flex_flow": null,
            "grid_area": null,
            "grid_auto_columns": null,
            "grid_auto_flow": null,
            "grid_auto_rows": null,
            "grid_column": null,
            "grid_gap": null,
            "grid_row": null,
            "grid_template_areas": null,
            "grid_template_columns": null,
            "grid_template_rows": null,
            "height": null,
            "justify_content": null,
            "justify_items": null,
            "left": null,
            "margin": null,
            "max_height": null,
            "max_width": null,
            "min_height": null,
            "min_width": null,
            "object_fit": null,
            "object_position": null,
            "order": null,
            "overflow": null,
            "overflow_x": null,
            "overflow_y": null,
            "padding": null,
            "right": null,
            "top": null,
            "visibility": null,
            "width": null
          }
        },
        "f75a2f06d2d04e08ae295b972491eb78": {
          "model_module": "@jupyter-widgets/controls",
          "model_name": "DescriptionStyleModel",
          "model_module_version": "1.5.0",
          "state": {
            "_model_module": "@jupyter-widgets/controls",
            "_model_module_version": "1.5.0",
            "_model_name": "DescriptionStyleModel",
            "_view_count": null,
            "_view_module": "@jupyter-widgets/base",
            "_view_module_version": "1.2.0",
            "_view_name": "StyleView",
            "description_width": ""
          }
        },
        "bc0f046d36154468b0fdbb398b1a0cd8": {
          "model_module": "@jupyter-widgets/base",
          "model_name": "LayoutModel",
          "model_module_version": "1.2.0",
          "state": {
            "_model_module": "@jupyter-widgets/base",
            "_model_module_version": "1.2.0",
            "_model_name": "LayoutModel",
            "_view_count": null,
            "_view_module": "@jupyter-widgets/base",
            "_view_module_version": "1.2.0",
            "_view_name": "LayoutView",
            "align_content": null,
            "align_items": null,
            "align_self": null,
            "border": null,
            "bottom": null,
            "display": null,
            "flex": null,
            "flex_flow": null,
            "grid_area": null,
            "grid_auto_columns": null,
            "grid_auto_flow": null,
            "grid_auto_rows": null,
            "grid_column": null,
            "grid_gap": null,
            "grid_row": null,
            "grid_template_areas": null,
            "grid_template_columns": null,
            "grid_template_rows": null,
            "height": null,
            "justify_content": null,
            "justify_items": null,
            "left": null,
            "margin": null,
            "max_height": null,
            "max_width": null,
            "min_height": null,
            "min_width": null,
            "object_fit": null,
            "object_position": null,
            "order": null,
            "overflow": null,
            "overflow_x": null,
            "overflow_y": null,
            "padding": null,
            "right": null,
            "top": null,
            "visibility": null,
            "width": null
          }
        },
        "976f9af7afb34e3db9da633b00e9b7f6": {
          "model_module": "@jupyter-widgets/controls",
          "model_name": "ProgressStyleModel",
          "model_module_version": "1.5.0",
          "state": {
            "_model_module": "@jupyter-widgets/controls",
            "_model_module_version": "1.5.0",
            "_model_name": "ProgressStyleModel",
            "_view_count": null,
            "_view_module": "@jupyter-widgets/base",
            "_view_module_version": "1.2.0",
            "_view_name": "StyleView",
            "bar_color": null,
            "description_width": ""
          }
        },
        "754dac0e86414be0bba98434296ddd53": {
          "model_module": "@jupyter-widgets/base",
          "model_name": "LayoutModel",
          "model_module_version": "1.2.0",
          "state": {
            "_model_module": "@jupyter-widgets/base",
            "_model_module_version": "1.2.0",
            "_model_name": "LayoutModel",
            "_view_count": null,
            "_view_module": "@jupyter-widgets/base",
            "_view_module_version": "1.2.0",
            "_view_name": "LayoutView",
            "align_content": null,
            "align_items": null,
            "align_self": null,
            "border": null,
            "bottom": null,
            "display": null,
            "flex": null,
            "flex_flow": null,
            "grid_area": null,
            "grid_auto_columns": null,
            "grid_auto_flow": null,
            "grid_auto_rows": null,
            "grid_column": null,
            "grid_gap": null,
            "grid_row": null,
            "grid_template_areas": null,
            "grid_template_columns": null,
            "grid_template_rows": null,
            "height": null,
            "justify_content": null,
            "justify_items": null,
            "left": null,
            "margin": null,
            "max_height": null,
            "max_width": null,
            "min_height": null,
            "min_width": null,
            "object_fit": null,
            "object_position": null,
            "order": null,
            "overflow": null,
            "overflow_x": null,
            "overflow_y": null,
            "padding": null,
            "right": null,
            "top": null,
            "visibility": null,
            "width": null
          }
        },
        "1a6f55b25bc74a0cb266a9bd7709c6f6": {
          "model_module": "@jupyter-widgets/controls",
          "model_name": "DescriptionStyleModel",
          "model_module_version": "1.5.0",
          "state": {
            "_model_module": "@jupyter-widgets/controls",
            "_model_module_version": "1.5.0",
            "_model_name": "DescriptionStyleModel",
            "_view_count": null,
            "_view_module": "@jupyter-widgets/base",
            "_view_module_version": "1.2.0",
            "_view_name": "StyleView",
            "description_width": ""
          }
        },
        "2485be00f7e44483af9702eeca900da3": {
          "model_module": "@jupyter-widgets/controls",
          "model_name": "HBoxModel",
          "model_module_version": "1.5.0",
          "state": {
            "_dom_classes": [],
            "_model_module": "@jupyter-widgets/controls",
            "_model_module_version": "1.5.0",
            "_model_name": "HBoxModel",
            "_view_count": null,
            "_view_module": "@jupyter-widgets/controls",
            "_view_module_version": "1.5.0",
            "_view_name": "HBoxView",
            "box_style": "",
            "children": [
              "IPY_MODEL_d718cdfebd9440509456851e8e3a1bf1",
              "IPY_MODEL_fdcf43b649da41d4bd384523afb3dc4d",
              "IPY_MODEL_8589cb177b304b14a11f9d755ff22ad1"
            ],
            "layout": "IPY_MODEL_d18044e8d2ea4d9898c52e13c14196cb"
          }
        },
        "d718cdfebd9440509456851e8e3a1bf1": {
          "model_module": "@jupyter-widgets/controls",
          "model_name": "HTMLModel",
          "model_module_version": "1.5.0",
          "state": {
            "_dom_classes": [],
            "_model_module": "@jupyter-widgets/controls",
            "_model_module_version": "1.5.0",
            "_model_name": "HTMLModel",
            "_view_count": null,
            "_view_module": "@jupyter-widgets/controls",
            "_view_module_version": "1.5.0",
            "_view_name": "HTMLView",
            "description": "",
            "description_tooltip": null,
            "layout": "IPY_MODEL_267ff2d2c6084dbf80fef8d4fd1f5606",
            "placeholder": "​",
            "style": "IPY_MODEL_1311155ed29545a887445f898aac372a",
            "value": "train: 100%"
          }
        },
        "fdcf43b649da41d4bd384523afb3dc4d": {
          "model_module": "@jupyter-widgets/controls",
          "model_name": "FloatProgressModel",
          "model_module_version": "1.5.0",
          "state": {
            "_dom_classes": [],
            "_model_module": "@jupyter-widgets/controls",
            "_model_module_version": "1.5.0",
            "_model_name": "FloatProgressModel",
            "_view_count": null,
            "_view_module": "@jupyter-widgets/controls",
            "_view_module_version": "1.5.0",
            "_view_name": "ProgressView",
            "bar_style": "success",
            "description": "",
            "description_tooltip": null,
            "layout": "IPY_MODEL_e00e6e1561994d1eaa2b99457b3c440b",
            "max": 107,
            "min": 0,
            "orientation": "horizontal",
            "style": "IPY_MODEL_030a5e66d5a9418a83e4ab247062f1b8",
            "value": 107
          }
        },
        "8589cb177b304b14a11f9d755ff22ad1": {
          "model_module": "@jupyter-widgets/controls",
          "model_name": "HTMLModel",
          "model_module_version": "1.5.0",
          "state": {
            "_dom_classes": [],
            "_model_module": "@jupyter-widgets/controls",
            "_model_module_version": "1.5.0",
            "_model_name": "HTMLModel",
            "_view_count": null,
            "_view_module": "@jupyter-widgets/controls",
            "_view_module_version": "1.5.0",
            "_view_name": "HTMLView",
            "description": "",
            "description_tooltip": null,
            "layout": "IPY_MODEL_1dce7633f80e426aafa43b257c5fd0ce",
            "placeholder": "​",
            "style": "IPY_MODEL_097e40abad6e45e9b095cf5af54e604c",
            "value": " 107/107 [00:05&lt;00:00, 15.85it/s]"
          }
        },
        "d18044e8d2ea4d9898c52e13c14196cb": {
          "model_module": "@jupyter-widgets/base",
          "model_name": "LayoutModel",
          "model_module_version": "1.2.0",
          "state": {
            "_model_module": "@jupyter-widgets/base",
            "_model_module_version": "1.2.0",
            "_model_name": "LayoutModel",
            "_view_count": null,
            "_view_module": "@jupyter-widgets/base",
            "_view_module_version": "1.2.0",
            "_view_name": "LayoutView",
            "align_content": null,
            "align_items": null,
            "align_self": null,
            "border": null,
            "bottom": null,
            "display": null,
            "flex": null,
            "flex_flow": null,
            "grid_area": null,
            "grid_auto_columns": null,
            "grid_auto_flow": null,
            "grid_auto_rows": null,
            "grid_column": null,
            "grid_gap": null,
            "grid_row": null,
            "grid_template_areas": null,
            "grid_template_columns": null,
            "grid_template_rows": null,
            "height": null,
            "justify_content": null,
            "justify_items": null,
            "left": null,
            "margin": null,
            "max_height": null,
            "max_width": null,
            "min_height": null,
            "min_width": null,
            "object_fit": null,
            "object_position": null,
            "order": null,
            "overflow": null,
            "overflow_x": null,
            "overflow_y": null,
            "padding": null,
            "right": null,
            "top": null,
            "visibility": null,
            "width": null
          }
        },
        "267ff2d2c6084dbf80fef8d4fd1f5606": {
          "model_module": "@jupyter-widgets/base",
          "model_name": "LayoutModel",
          "model_module_version": "1.2.0",
          "state": {
            "_model_module": "@jupyter-widgets/base",
            "_model_module_version": "1.2.0",
            "_model_name": "LayoutModel",
            "_view_count": null,
            "_view_module": "@jupyter-widgets/base",
            "_view_module_version": "1.2.0",
            "_view_name": "LayoutView",
            "align_content": null,
            "align_items": null,
            "align_self": null,
            "border": null,
            "bottom": null,
            "display": null,
            "flex": null,
            "flex_flow": null,
            "grid_area": null,
            "grid_auto_columns": null,
            "grid_auto_flow": null,
            "grid_auto_rows": null,
            "grid_column": null,
            "grid_gap": null,
            "grid_row": null,
            "grid_template_areas": null,
            "grid_template_columns": null,
            "grid_template_rows": null,
            "height": null,
            "justify_content": null,
            "justify_items": null,
            "left": null,
            "margin": null,
            "max_height": null,
            "max_width": null,
            "min_height": null,
            "min_width": null,
            "object_fit": null,
            "object_position": null,
            "order": null,
            "overflow": null,
            "overflow_x": null,
            "overflow_y": null,
            "padding": null,
            "right": null,
            "top": null,
            "visibility": null,
            "width": null
          }
        },
        "1311155ed29545a887445f898aac372a": {
          "model_module": "@jupyter-widgets/controls",
          "model_name": "DescriptionStyleModel",
          "model_module_version": "1.5.0",
          "state": {
            "_model_module": "@jupyter-widgets/controls",
            "_model_module_version": "1.5.0",
            "_model_name": "DescriptionStyleModel",
            "_view_count": null,
            "_view_module": "@jupyter-widgets/base",
            "_view_module_version": "1.2.0",
            "_view_name": "StyleView",
            "description_width": ""
          }
        },
        "e00e6e1561994d1eaa2b99457b3c440b": {
          "model_module": "@jupyter-widgets/base",
          "model_name": "LayoutModel",
          "model_module_version": "1.2.0",
          "state": {
            "_model_module": "@jupyter-widgets/base",
            "_model_module_version": "1.2.0",
            "_model_name": "LayoutModel",
            "_view_count": null,
            "_view_module": "@jupyter-widgets/base",
            "_view_module_version": "1.2.0",
            "_view_name": "LayoutView",
            "align_content": null,
            "align_items": null,
            "align_self": null,
            "border": null,
            "bottom": null,
            "display": null,
            "flex": null,
            "flex_flow": null,
            "grid_area": null,
            "grid_auto_columns": null,
            "grid_auto_flow": null,
            "grid_auto_rows": null,
            "grid_column": null,
            "grid_gap": null,
            "grid_row": null,
            "grid_template_areas": null,
            "grid_template_columns": null,
            "grid_template_rows": null,
            "height": null,
            "justify_content": null,
            "justify_items": null,
            "left": null,
            "margin": null,
            "max_height": null,
            "max_width": null,
            "min_height": null,
            "min_width": null,
            "object_fit": null,
            "object_position": null,
            "order": null,
            "overflow": null,
            "overflow_x": null,
            "overflow_y": null,
            "padding": null,
            "right": null,
            "top": null,
            "visibility": null,
            "width": null
          }
        },
        "030a5e66d5a9418a83e4ab247062f1b8": {
          "model_module": "@jupyter-widgets/controls",
          "model_name": "ProgressStyleModel",
          "model_module_version": "1.5.0",
          "state": {
            "_model_module": "@jupyter-widgets/controls",
            "_model_module_version": "1.5.0",
            "_model_name": "ProgressStyleModel",
            "_view_count": null,
            "_view_module": "@jupyter-widgets/base",
            "_view_module_version": "1.2.0",
            "_view_name": "StyleView",
            "bar_color": null,
            "description_width": ""
          }
        },
        "1dce7633f80e426aafa43b257c5fd0ce": {
          "model_module": "@jupyter-widgets/base",
          "model_name": "LayoutModel",
          "model_module_version": "1.2.0",
          "state": {
            "_model_module": "@jupyter-widgets/base",
            "_model_module_version": "1.2.0",
            "_model_name": "LayoutModel",
            "_view_count": null,
            "_view_module": "@jupyter-widgets/base",
            "_view_module_version": "1.2.0",
            "_view_name": "LayoutView",
            "align_content": null,
            "align_items": null,
            "align_self": null,
            "border": null,
            "bottom": null,
            "display": null,
            "flex": null,
            "flex_flow": null,
            "grid_area": null,
            "grid_auto_columns": null,
            "grid_auto_flow": null,
            "grid_auto_rows": null,
            "grid_column": null,
            "grid_gap": null,
            "grid_row": null,
            "grid_template_areas": null,
            "grid_template_columns": null,
            "grid_template_rows": null,
            "height": null,
            "justify_content": null,
            "justify_items": null,
            "left": null,
            "margin": null,
            "max_height": null,
            "max_width": null,
            "min_height": null,
            "min_width": null,
            "object_fit": null,
            "object_position": null,
            "order": null,
            "overflow": null,
            "overflow_x": null,
            "overflow_y": null,
            "padding": null,
            "right": null,
            "top": null,
            "visibility": null,
            "width": null
          }
        },
        "097e40abad6e45e9b095cf5af54e604c": {
          "model_module": "@jupyter-widgets/controls",
          "model_name": "DescriptionStyleModel",
          "model_module_version": "1.5.0",
          "state": {
            "_model_module": "@jupyter-widgets/controls",
            "_model_module_version": "1.5.0",
            "_model_name": "DescriptionStyleModel",
            "_view_count": null,
            "_view_module": "@jupyter-widgets/base",
            "_view_module_version": "1.2.0",
            "_view_name": "StyleView",
            "description_width": ""
          }
        },
        "31fbe84a4b6d4ef39182e837fa0a0026": {
          "model_module": "@jupyter-widgets/controls",
          "model_name": "HBoxModel",
          "model_module_version": "1.5.0",
          "state": {
            "_dom_classes": [],
            "_model_module": "@jupyter-widgets/controls",
            "_model_module_version": "1.5.0",
            "_model_name": "HBoxModel",
            "_view_count": null,
            "_view_module": "@jupyter-widgets/controls",
            "_view_module_version": "1.5.0",
            "_view_name": "HBoxView",
            "box_style": "",
            "children": [
              "IPY_MODEL_af21fb20aefc4e319835beab926eded8",
              "IPY_MODEL_f9e2517d75ab4155aaad7dc13425b24b",
              "IPY_MODEL_77ed7348a3654da5895757229a214612"
            ],
            "layout": "IPY_MODEL_8e2cecbdc5c34fbcb64a8f9ab0b0ff6e"
          }
        },
        "af21fb20aefc4e319835beab926eded8": {
          "model_module": "@jupyter-widgets/controls",
          "model_name": "HTMLModel",
          "model_module_version": "1.5.0",
          "state": {
            "_dom_classes": [],
            "_model_module": "@jupyter-widgets/controls",
            "_model_module_version": "1.5.0",
            "_model_name": "HTMLModel",
            "_view_count": null,
            "_view_module": "@jupyter-widgets/controls",
            "_view_module_version": "1.5.0",
            "_view_name": "HTMLView",
            "description": "",
            "description_tooltip": null,
            "layout": "IPY_MODEL_44a004cff0974244b3d9613a4222dde5",
            "placeholder": "​",
            "style": "IPY_MODEL_d910641137324ed3b24104f491ec8065",
            "value": "train: 100%"
          }
        },
        "f9e2517d75ab4155aaad7dc13425b24b": {
          "model_module": "@jupyter-widgets/controls",
          "model_name": "FloatProgressModel",
          "model_module_version": "1.5.0",
          "state": {
            "_dom_classes": [],
            "_model_module": "@jupyter-widgets/controls",
            "_model_module_version": "1.5.0",
            "_model_name": "FloatProgressModel",
            "_view_count": null,
            "_view_module": "@jupyter-widgets/controls",
            "_view_module_version": "1.5.0",
            "_view_name": "ProgressView",
            "bar_style": "success",
            "description": "",
            "description_tooltip": null,
            "layout": "IPY_MODEL_0677629b434b4930be64cd25dfe772e7",
            "max": 107,
            "min": 0,
            "orientation": "horizontal",
            "style": "IPY_MODEL_0ba1fd85054e4adc90e257fc8f03dbab",
            "value": 107
          }
        },
        "77ed7348a3654da5895757229a214612": {
          "model_module": "@jupyter-widgets/controls",
          "model_name": "HTMLModel",
          "model_module_version": "1.5.0",
          "state": {
            "_dom_classes": [],
            "_model_module": "@jupyter-widgets/controls",
            "_model_module_version": "1.5.0",
            "_model_name": "HTMLModel",
            "_view_count": null,
            "_view_module": "@jupyter-widgets/controls",
            "_view_module_version": "1.5.0",
            "_view_name": "HTMLView",
            "description": "",
            "description_tooltip": null,
            "layout": "IPY_MODEL_78edca5f64864d91a18da2d3dcd5ea9e",
            "placeholder": "​",
            "style": "IPY_MODEL_8638ea3651404d4c8be3f8437ba3ec61",
            "value": " 107/107 [00:08&lt;00:00, 18.80it/s]"
          }
        },
        "8e2cecbdc5c34fbcb64a8f9ab0b0ff6e": {
          "model_module": "@jupyter-widgets/base",
          "model_name": "LayoutModel",
          "model_module_version": "1.2.0",
          "state": {
            "_model_module": "@jupyter-widgets/base",
            "_model_module_version": "1.2.0",
            "_model_name": "LayoutModel",
            "_view_count": null,
            "_view_module": "@jupyter-widgets/base",
            "_view_module_version": "1.2.0",
            "_view_name": "LayoutView",
            "align_content": null,
            "align_items": null,
            "align_self": null,
            "border": null,
            "bottom": null,
            "display": null,
            "flex": null,
            "flex_flow": null,
            "grid_area": null,
            "grid_auto_columns": null,
            "grid_auto_flow": null,
            "grid_auto_rows": null,
            "grid_column": null,
            "grid_gap": null,
            "grid_row": null,
            "grid_template_areas": null,
            "grid_template_columns": null,
            "grid_template_rows": null,
            "height": null,
            "justify_content": null,
            "justify_items": null,
            "left": null,
            "margin": null,
            "max_height": null,
            "max_width": null,
            "min_height": null,
            "min_width": null,
            "object_fit": null,
            "object_position": null,
            "order": null,
            "overflow": null,
            "overflow_x": null,
            "overflow_y": null,
            "padding": null,
            "right": null,
            "top": null,
            "visibility": null,
            "width": null
          }
        },
        "44a004cff0974244b3d9613a4222dde5": {
          "model_module": "@jupyter-widgets/base",
          "model_name": "LayoutModel",
          "model_module_version": "1.2.0",
          "state": {
            "_model_module": "@jupyter-widgets/base",
            "_model_module_version": "1.2.0",
            "_model_name": "LayoutModel",
            "_view_count": null,
            "_view_module": "@jupyter-widgets/base",
            "_view_module_version": "1.2.0",
            "_view_name": "LayoutView",
            "align_content": null,
            "align_items": null,
            "align_self": null,
            "border": null,
            "bottom": null,
            "display": null,
            "flex": null,
            "flex_flow": null,
            "grid_area": null,
            "grid_auto_columns": null,
            "grid_auto_flow": null,
            "grid_auto_rows": null,
            "grid_column": null,
            "grid_gap": null,
            "grid_row": null,
            "grid_template_areas": null,
            "grid_template_columns": null,
            "grid_template_rows": null,
            "height": null,
            "justify_content": null,
            "justify_items": null,
            "left": null,
            "margin": null,
            "max_height": null,
            "max_width": null,
            "min_height": null,
            "min_width": null,
            "object_fit": null,
            "object_position": null,
            "order": null,
            "overflow": null,
            "overflow_x": null,
            "overflow_y": null,
            "padding": null,
            "right": null,
            "top": null,
            "visibility": null,
            "width": null
          }
        },
        "d910641137324ed3b24104f491ec8065": {
          "model_module": "@jupyter-widgets/controls",
          "model_name": "DescriptionStyleModel",
          "model_module_version": "1.5.0",
          "state": {
            "_model_module": "@jupyter-widgets/controls",
            "_model_module_version": "1.5.0",
            "_model_name": "DescriptionStyleModel",
            "_view_count": null,
            "_view_module": "@jupyter-widgets/base",
            "_view_module_version": "1.2.0",
            "_view_name": "StyleView",
            "description_width": ""
          }
        },
        "0677629b434b4930be64cd25dfe772e7": {
          "model_module": "@jupyter-widgets/base",
          "model_name": "LayoutModel",
          "model_module_version": "1.2.0",
          "state": {
            "_model_module": "@jupyter-widgets/base",
            "_model_module_version": "1.2.0",
            "_model_name": "LayoutModel",
            "_view_count": null,
            "_view_module": "@jupyter-widgets/base",
            "_view_module_version": "1.2.0",
            "_view_name": "LayoutView",
            "align_content": null,
            "align_items": null,
            "align_self": null,
            "border": null,
            "bottom": null,
            "display": null,
            "flex": null,
            "flex_flow": null,
            "grid_area": null,
            "grid_auto_columns": null,
            "grid_auto_flow": null,
            "grid_auto_rows": null,
            "grid_column": null,
            "grid_gap": null,
            "grid_row": null,
            "grid_template_areas": null,
            "grid_template_columns": null,
            "grid_template_rows": null,
            "height": null,
            "justify_content": null,
            "justify_items": null,
            "left": null,
            "margin": null,
            "max_height": null,
            "max_width": null,
            "min_height": null,
            "min_width": null,
            "object_fit": null,
            "object_position": null,
            "order": null,
            "overflow": null,
            "overflow_x": null,
            "overflow_y": null,
            "padding": null,
            "right": null,
            "top": null,
            "visibility": null,
            "width": null
          }
        },
        "0ba1fd85054e4adc90e257fc8f03dbab": {
          "model_module": "@jupyter-widgets/controls",
          "model_name": "ProgressStyleModel",
          "model_module_version": "1.5.0",
          "state": {
            "_model_module": "@jupyter-widgets/controls",
            "_model_module_version": "1.5.0",
            "_model_name": "ProgressStyleModel",
            "_view_count": null,
            "_view_module": "@jupyter-widgets/base",
            "_view_module_version": "1.2.0",
            "_view_name": "StyleView",
            "bar_color": null,
            "description_width": ""
          }
        },
        "78edca5f64864d91a18da2d3dcd5ea9e": {
          "model_module": "@jupyter-widgets/base",
          "model_name": "LayoutModel",
          "model_module_version": "1.2.0",
          "state": {
            "_model_module": "@jupyter-widgets/base",
            "_model_module_version": "1.2.0",
            "_model_name": "LayoutModel",
            "_view_count": null,
            "_view_module": "@jupyter-widgets/base",
            "_view_module_version": "1.2.0",
            "_view_name": "LayoutView",
            "align_content": null,
            "align_items": null,
            "align_self": null,
            "border": null,
            "bottom": null,
            "display": null,
            "flex": null,
            "flex_flow": null,
            "grid_area": null,
            "grid_auto_columns": null,
            "grid_auto_flow": null,
            "grid_auto_rows": null,
            "grid_column": null,
            "grid_gap": null,
            "grid_row": null,
            "grid_template_areas": null,
            "grid_template_columns": null,
            "grid_template_rows": null,
            "height": null,
            "justify_content": null,
            "justify_items": null,
            "left": null,
            "margin": null,
            "max_height": null,
            "max_width": null,
            "min_height": null,
            "min_width": null,
            "object_fit": null,
            "object_position": null,
            "order": null,
            "overflow": null,
            "overflow_x": null,
            "overflow_y": null,
            "padding": null,
            "right": null,
            "top": null,
            "visibility": null,
            "width": null
          }
        },
        "8638ea3651404d4c8be3f8437ba3ec61": {
          "model_module": "@jupyter-widgets/controls",
          "model_name": "DescriptionStyleModel",
          "model_module_version": "1.5.0",
          "state": {
            "_model_module": "@jupyter-widgets/controls",
            "_model_module_version": "1.5.0",
            "_model_name": "DescriptionStyleModel",
            "_view_count": null,
            "_view_module": "@jupyter-widgets/base",
            "_view_module_version": "1.2.0",
            "_view_name": "StyleView",
            "description_width": ""
          }
        },
        "af59d49dfffc45e38e542e2d3e19c81f": {
          "model_module": "@jupyter-widgets/controls",
          "model_name": "HBoxModel",
          "model_module_version": "1.5.0",
          "state": {
            "_dom_classes": [],
            "_model_module": "@jupyter-widgets/controls",
            "_model_module_version": "1.5.0",
            "_model_name": "HBoxModel",
            "_view_count": null,
            "_view_module": "@jupyter-widgets/controls",
            "_view_module_version": "1.5.0",
            "_view_name": "HBoxView",
            "box_style": "",
            "children": [
              "IPY_MODEL_be457134042b4cabac966050ce3abe3b",
              "IPY_MODEL_bc02177123c5472d8ce6a3e4ee6b62ad",
              "IPY_MODEL_39e00be4a95a4081996a1be143f1605c"
            ],
            "layout": "IPY_MODEL_be5ab0d7b53a43869f5764414fc9d3ed"
          }
        },
        "be457134042b4cabac966050ce3abe3b": {
          "model_module": "@jupyter-widgets/controls",
          "model_name": "HTMLModel",
          "model_module_version": "1.5.0",
          "state": {
            "_dom_classes": [],
            "_model_module": "@jupyter-widgets/controls",
            "_model_module_version": "1.5.0",
            "_model_name": "HTMLModel",
            "_view_count": null,
            "_view_module": "@jupyter-widgets/controls",
            "_view_module_version": "1.5.0",
            "_view_name": "HTMLView",
            "description": "",
            "description_tooltip": null,
            "layout": "IPY_MODEL_d9fa7c0ad3b643b093a80fe4a7c72002",
            "placeholder": "​",
            "style": "IPY_MODEL_dd5b9985d5bc4bb3a3d85e313cdb0c5c",
            "value": "train: 100%"
          }
        },
        "bc02177123c5472d8ce6a3e4ee6b62ad": {
          "model_module": "@jupyter-widgets/controls",
          "model_name": "FloatProgressModel",
          "model_module_version": "1.5.0",
          "state": {
            "_dom_classes": [],
            "_model_module": "@jupyter-widgets/controls",
            "_model_module_version": "1.5.0",
            "_model_name": "FloatProgressModel",
            "_view_count": null,
            "_view_module": "@jupyter-widgets/controls",
            "_view_module_version": "1.5.0",
            "_view_name": "ProgressView",
            "bar_style": "success",
            "description": "",
            "description_tooltip": null,
            "layout": "IPY_MODEL_812b98eed506436eb869141fc1cfb737",
            "max": 107,
            "min": 0,
            "orientation": "horizontal",
            "style": "IPY_MODEL_d4df8ae611e44f87a88132381a05700e",
            "value": 107
          }
        },
        "39e00be4a95a4081996a1be143f1605c": {
          "model_module": "@jupyter-widgets/controls",
          "model_name": "HTMLModel",
          "model_module_version": "1.5.0",
          "state": {
            "_dom_classes": [],
            "_model_module": "@jupyter-widgets/controls",
            "_model_module_version": "1.5.0",
            "_model_name": "HTMLModel",
            "_view_count": null,
            "_view_module": "@jupyter-widgets/controls",
            "_view_module_version": "1.5.0",
            "_view_name": "HTMLView",
            "description": "",
            "description_tooltip": null,
            "layout": "IPY_MODEL_ea3f1b5514574a5cadb6d22b190a24d7",
            "placeholder": "​",
            "style": "IPY_MODEL_551937c7fb8147138e009b0ae9ff2361",
            "value": " 107/107 [00:10&lt;00:00, 12.39it/s]"
          }
        },
        "be5ab0d7b53a43869f5764414fc9d3ed": {
          "model_module": "@jupyter-widgets/base",
          "model_name": "LayoutModel",
          "model_module_version": "1.2.0",
          "state": {
            "_model_module": "@jupyter-widgets/base",
            "_model_module_version": "1.2.0",
            "_model_name": "LayoutModel",
            "_view_count": null,
            "_view_module": "@jupyter-widgets/base",
            "_view_module_version": "1.2.0",
            "_view_name": "LayoutView",
            "align_content": null,
            "align_items": null,
            "align_self": null,
            "border": null,
            "bottom": null,
            "display": null,
            "flex": null,
            "flex_flow": null,
            "grid_area": null,
            "grid_auto_columns": null,
            "grid_auto_flow": null,
            "grid_auto_rows": null,
            "grid_column": null,
            "grid_gap": null,
            "grid_row": null,
            "grid_template_areas": null,
            "grid_template_columns": null,
            "grid_template_rows": null,
            "height": null,
            "justify_content": null,
            "justify_items": null,
            "left": null,
            "margin": null,
            "max_height": null,
            "max_width": null,
            "min_height": null,
            "min_width": null,
            "object_fit": null,
            "object_position": null,
            "order": null,
            "overflow": null,
            "overflow_x": null,
            "overflow_y": null,
            "padding": null,
            "right": null,
            "top": null,
            "visibility": null,
            "width": null
          }
        },
        "d9fa7c0ad3b643b093a80fe4a7c72002": {
          "model_module": "@jupyter-widgets/base",
          "model_name": "LayoutModel",
          "model_module_version": "1.2.0",
          "state": {
            "_model_module": "@jupyter-widgets/base",
            "_model_module_version": "1.2.0",
            "_model_name": "LayoutModel",
            "_view_count": null,
            "_view_module": "@jupyter-widgets/base",
            "_view_module_version": "1.2.0",
            "_view_name": "LayoutView",
            "align_content": null,
            "align_items": null,
            "align_self": null,
            "border": null,
            "bottom": null,
            "display": null,
            "flex": null,
            "flex_flow": null,
            "grid_area": null,
            "grid_auto_columns": null,
            "grid_auto_flow": null,
            "grid_auto_rows": null,
            "grid_column": null,
            "grid_gap": null,
            "grid_row": null,
            "grid_template_areas": null,
            "grid_template_columns": null,
            "grid_template_rows": null,
            "height": null,
            "justify_content": null,
            "justify_items": null,
            "left": null,
            "margin": null,
            "max_height": null,
            "max_width": null,
            "min_height": null,
            "min_width": null,
            "object_fit": null,
            "object_position": null,
            "order": null,
            "overflow": null,
            "overflow_x": null,
            "overflow_y": null,
            "padding": null,
            "right": null,
            "top": null,
            "visibility": null,
            "width": null
          }
        },
        "dd5b9985d5bc4bb3a3d85e313cdb0c5c": {
          "model_module": "@jupyter-widgets/controls",
          "model_name": "DescriptionStyleModel",
          "model_module_version": "1.5.0",
          "state": {
            "_model_module": "@jupyter-widgets/controls",
            "_model_module_version": "1.5.0",
            "_model_name": "DescriptionStyleModel",
            "_view_count": null,
            "_view_module": "@jupyter-widgets/base",
            "_view_module_version": "1.2.0",
            "_view_name": "StyleView",
            "description_width": ""
          }
        },
        "812b98eed506436eb869141fc1cfb737": {
          "model_module": "@jupyter-widgets/base",
          "model_name": "LayoutModel",
          "model_module_version": "1.2.0",
          "state": {
            "_model_module": "@jupyter-widgets/base",
            "_model_module_version": "1.2.0",
            "_model_name": "LayoutModel",
            "_view_count": null,
            "_view_module": "@jupyter-widgets/base",
            "_view_module_version": "1.2.0",
            "_view_name": "LayoutView",
            "align_content": null,
            "align_items": null,
            "align_self": null,
            "border": null,
            "bottom": null,
            "display": null,
            "flex": null,
            "flex_flow": null,
            "grid_area": null,
            "grid_auto_columns": null,
            "grid_auto_flow": null,
            "grid_auto_rows": null,
            "grid_column": null,
            "grid_gap": null,
            "grid_row": null,
            "grid_template_areas": null,
            "grid_template_columns": null,
            "grid_template_rows": null,
            "height": null,
            "justify_content": null,
            "justify_items": null,
            "left": null,
            "margin": null,
            "max_height": null,
            "max_width": null,
            "min_height": null,
            "min_width": null,
            "object_fit": null,
            "object_position": null,
            "order": null,
            "overflow": null,
            "overflow_x": null,
            "overflow_y": null,
            "padding": null,
            "right": null,
            "top": null,
            "visibility": null,
            "width": null
          }
        },
        "d4df8ae611e44f87a88132381a05700e": {
          "model_module": "@jupyter-widgets/controls",
          "model_name": "ProgressStyleModel",
          "model_module_version": "1.5.0",
          "state": {
            "_model_module": "@jupyter-widgets/controls",
            "_model_module_version": "1.5.0",
            "_model_name": "ProgressStyleModel",
            "_view_count": null,
            "_view_module": "@jupyter-widgets/base",
            "_view_module_version": "1.2.0",
            "_view_name": "StyleView",
            "bar_color": null,
            "description_width": ""
          }
        },
        "ea3f1b5514574a5cadb6d22b190a24d7": {
          "model_module": "@jupyter-widgets/base",
          "model_name": "LayoutModel",
          "model_module_version": "1.2.0",
          "state": {
            "_model_module": "@jupyter-widgets/base",
            "_model_module_version": "1.2.0",
            "_model_name": "LayoutModel",
            "_view_count": null,
            "_view_module": "@jupyter-widgets/base",
            "_view_module_version": "1.2.0",
            "_view_name": "LayoutView",
            "align_content": null,
            "align_items": null,
            "align_self": null,
            "border": null,
            "bottom": null,
            "display": null,
            "flex": null,
            "flex_flow": null,
            "grid_area": null,
            "grid_auto_columns": null,
            "grid_auto_flow": null,
            "grid_auto_rows": null,
            "grid_column": null,
            "grid_gap": null,
            "grid_row": null,
            "grid_template_areas": null,
            "grid_template_columns": null,
            "grid_template_rows": null,
            "height": null,
            "justify_content": null,
            "justify_items": null,
            "left": null,
            "margin": null,
            "max_height": null,
            "max_width": null,
            "min_height": null,
            "min_width": null,
            "object_fit": null,
            "object_position": null,
            "order": null,
            "overflow": null,
            "overflow_x": null,
            "overflow_y": null,
            "padding": null,
            "right": null,
            "top": null,
            "visibility": null,
            "width": null
          }
        },
        "551937c7fb8147138e009b0ae9ff2361": {
          "model_module": "@jupyter-widgets/controls",
          "model_name": "DescriptionStyleModel",
          "model_module_version": "1.5.0",
          "state": {
            "_model_module": "@jupyter-widgets/controls",
            "_model_module_version": "1.5.0",
            "_model_name": "DescriptionStyleModel",
            "_view_count": null,
            "_view_module": "@jupyter-widgets/base",
            "_view_module_version": "1.2.0",
            "_view_name": "StyleView",
            "description_width": ""
          }
        },
        "0f8ac2ad4f494df6a3c86ceacc2a584a": {
          "model_module": "@jupyter-widgets/controls",
          "model_name": "HBoxModel",
          "model_module_version": "1.5.0",
          "state": {
            "_dom_classes": [],
            "_model_module": "@jupyter-widgets/controls",
            "_model_module_version": "1.5.0",
            "_model_name": "HBoxModel",
            "_view_count": null,
            "_view_module": "@jupyter-widgets/controls",
            "_view_module_version": "1.5.0",
            "_view_name": "HBoxView",
            "box_style": "",
            "children": [
              "IPY_MODEL_fd17f75f08c143daa158307002c35443",
              "IPY_MODEL_6b0960ce9d2a43b78a43bf4050abc4b0",
              "IPY_MODEL_607b9e48be1b411aa58104c509c8d29d"
            ],
            "layout": "IPY_MODEL_dea84956cb4c45f5818c9adc48789d6c"
          }
        },
        "fd17f75f08c143daa158307002c35443": {
          "model_module": "@jupyter-widgets/controls",
          "model_name": "HTMLModel",
          "model_module_version": "1.5.0",
          "state": {
            "_dom_classes": [],
            "_model_module": "@jupyter-widgets/controls",
            "_model_module_version": "1.5.0",
            "_model_name": "HTMLModel",
            "_view_count": null,
            "_view_module": "@jupyter-widgets/controls",
            "_view_module_version": "1.5.0",
            "_view_name": "HTMLView",
            "description": "",
            "description_tooltip": null,
            "layout": "IPY_MODEL_d7667ede3b1441bdaea3685976a4470c",
            "placeholder": "​",
            "style": "IPY_MODEL_79720bb30f8e44689b1d913755306b57",
            "value": "train: 100%"
          }
        },
        "6b0960ce9d2a43b78a43bf4050abc4b0": {
          "model_module": "@jupyter-widgets/controls",
          "model_name": "FloatProgressModel",
          "model_module_version": "1.5.0",
          "state": {
            "_dom_classes": [],
            "_model_module": "@jupyter-widgets/controls",
            "_model_module_version": "1.5.0",
            "_model_name": "FloatProgressModel",
            "_view_count": null,
            "_view_module": "@jupyter-widgets/controls",
            "_view_module_version": "1.5.0",
            "_view_name": "ProgressView",
            "bar_style": "success",
            "description": "",
            "description_tooltip": null,
            "layout": "IPY_MODEL_ae1a4af047434ab799eb7f3b2c75b17b",
            "max": 107,
            "min": 0,
            "orientation": "horizontal",
            "style": "IPY_MODEL_f8de1a1728c54e72ae4f50266f939521",
            "value": 107
          }
        },
        "607b9e48be1b411aa58104c509c8d29d": {
          "model_module": "@jupyter-widgets/controls",
          "model_name": "HTMLModel",
          "model_module_version": "1.5.0",
          "state": {
            "_dom_classes": [],
            "_model_module": "@jupyter-widgets/controls",
            "_model_module_version": "1.5.0",
            "_model_name": "HTMLModel",
            "_view_count": null,
            "_view_module": "@jupyter-widgets/controls",
            "_view_module_version": "1.5.0",
            "_view_name": "HTMLView",
            "description": "",
            "description_tooltip": null,
            "layout": "IPY_MODEL_efcd8eac62c24e5f99d80c8582acf243",
            "placeholder": "​",
            "style": "IPY_MODEL_86ff7b6946ab4e0b9590e0746e476bf6",
            "value": " 107/107 [00:08&lt;00:00,  9.88it/s]"
          }
        },
        "dea84956cb4c45f5818c9adc48789d6c": {
          "model_module": "@jupyter-widgets/base",
          "model_name": "LayoutModel",
          "model_module_version": "1.2.0",
          "state": {
            "_model_module": "@jupyter-widgets/base",
            "_model_module_version": "1.2.0",
            "_model_name": "LayoutModel",
            "_view_count": null,
            "_view_module": "@jupyter-widgets/base",
            "_view_module_version": "1.2.0",
            "_view_name": "LayoutView",
            "align_content": null,
            "align_items": null,
            "align_self": null,
            "border": null,
            "bottom": null,
            "display": null,
            "flex": null,
            "flex_flow": null,
            "grid_area": null,
            "grid_auto_columns": null,
            "grid_auto_flow": null,
            "grid_auto_rows": null,
            "grid_column": null,
            "grid_gap": null,
            "grid_row": null,
            "grid_template_areas": null,
            "grid_template_columns": null,
            "grid_template_rows": null,
            "height": null,
            "justify_content": null,
            "justify_items": null,
            "left": null,
            "margin": null,
            "max_height": null,
            "max_width": null,
            "min_height": null,
            "min_width": null,
            "object_fit": null,
            "object_position": null,
            "order": null,
            "overflow": null,
            "overflow_x": null,
            "overflow_y": null,
            "padding": null,
            "right": null,
            "top": null,
            "visibility": null,
            "width": null
          }
        },
        "d7667ede3b1441bdaea3685976a4470c": {
          "model_module": "@jupyter-widgets/base",
          "model_name": "LayoutModel",
          "model_module_version": "1.2.0",
          "state": {
            "_model_module": "@jupyter-widgets/base",
            "_model_module_version": "1.2.0",
            "_model_name": "LayoutModel",
            "_view_count": null,
            "_view_module": "@jupyter-widgets/base",
            "_view_module_version": "1.2.0",
            "_view_name": "LayoutView",
            "align_content": null,
            "align_items": null,
            "align_self": null,
            "border": null,
            "bottom": null,
            "display": null,
            "flex": null,
            "flex_flow": null,
            "grid_area": null,
            "grid_auto_columns": null,
            "grid_auto_flow": null,
            "grid_auto_rows": null,
            "grid_column": null,
            "grid_gap": null,
            "grid_row": null,
            "grid_template_areas": null,
            "grid_template_columns": null,
            "grid_template_rows": null,
            "height": null,
            "justify_content": null,
            "justify_items": null,
            "left": null,
            "margin": null,
            "max_height": null,
            "max_width": null,
            "min_height": null,
            "min_width": null,
            "object_fit": null,
            "object_position": null,
            "order": null,
            "overflow": null,
            "overflow_x": null,
            "overflow_y": null,
            "padding": null,
            "right": null,
            "top": null,
            "visibility": null,
            "width": null
          }
        },
        "79720bb30f8e44689b1d913755306b57": {
          "model_module": "@jupyter-widgets/controls",
          "model_name": "DescriptionStyleModel",
          "model_module_version": "1.5.0",
          "state": {
            "_model_module": "@jupyter-widgets/controls",
            "_model_module_version": "1.5.0",
            "_model_name": "DescriptionStyleModel",
            "_view_count": null,
            "_view_module": "@jupyter-widgets/base",
            "_view_module_version": "1.2.0",
            "_view_name": "StyleView",
            "description_width": ""
          }
        },
        "ae1a4af047434ab799eb7f3b2c75b17b": {
          "model_module": "@jupyter-widgets/base",
          "model_name": "LayoutModel",
          "model_module_version": "1.2.0",
          "state": {
            "_model_module": "@jupyter-widgets/base",
            "_model_module_version": "1.2.0",
            "_model_name": "LayoutModel",
            "_view_count": null,
            "_view_module": "@jupyter-widgets/base",
            "_view_module_version": "1.2.0",
            "_view_name": "LayoutView",
            "align_content": null,
            "align_items": null,
            "align_self": null,
            "border": null,
            "bottom": null,
            "display": null,
            "flex": null,
            "flex_flow": null,
            "grid_area": null,
            "grid_auto_columns": null,
            "grid_auto_flow": null,
            "grid_auto_rows": null,
            "grid_column": null,
            "grid_gap": null,
            "grid_row": null,
            "grid_template_areas": null,
            "grid_template_columns": null,
            "grid_template_rows": null,
            "height": null,
            "justify_content": null,
            "justify_items": null,
            "left": null,
            "margin": null,
            "max_height": null,
            "max_width": null,
            "min_height": null,
            "min_width": null,
            "object_fit": null,
            "object_position": null,
            "order": null,
            "overflow": null,
            "overflow_x": null,
            "overflow_y": null,
            "padding": null,
            "right": null,
            "top": null,
            "visibility": null,
            "width": null
          }
        },
        "f8de1a1728c54e72ae4f50266f939521": {
          "model_module": "@jupyter-widgets/controls",
          "model_name": "ProgressStyleModel",
          "model_module_version": "1.5.0",
          "state": {
            "_model_module": "@jupyter-widgets/controls",
            "_model_module_version": "1.5.0",
            "_model_name": "ProgressStyleModel",
            "_view_count": null,
            "_view_module": "@jupyter-widgets/base",
            "_view_module_version": "1.2.0",
            "_view_name": "StyleView",
            "bar_color": null,
            "description_width": ""
          }
        },
        "efcd8eac62c24e5f99d80c8582acf243": {
          "model_module": "@jupyter-widgets/base",
          "model_name": "LayoutModel",
          "model_module_version": "1.2.0",
          "state": {
            "_model_module": "@jupyter-widgets/base",
            "_model_module_version": "1.2.0",
            "_model_name": "LayoutModel",
            "_view_count": null,
            "_view_module": "@jupyter-widgets/base",
            "_view_module_version": "1.2.0",
            "_view_name": "LayoutView",
            "align_content": null,
            "align_items": null,
            "align_self": null,
            "border": null,
            "bottom": null,
            "display": null,
            "flex": null,
            "flex_flow": null,
            "grid_area": null,
            "grid_auto_columns": null,
            "grid_auto_flow": null,
            "grid_auto_rows": null,
            "grid_column": null,
            "grid_gap": null,
            "grid_row": null,
            "grid_template_areas": null,
            "grid_template_columns": null,
            "grid_template_rows": null,
            "height": null,
            "justify_content": null,
            "justify_items": null,
            "left": null,
            "margin": null,
            "max_height": null,
            "max_width": null,
            "min_height": null,
            "min_width": null,
            "object_fit": null,
            "object_position": null,
            "order": null,
            "overflow": null,
            "overflow_x": null,
            "overflow_y": null,
            "padding": null,
            "right": null,
            "top": null,
            "visibility": null,
            "width": null
          }
        },
        "86ff7b6946ab4e0b9590e0746e476bf6": {
          "model_module": "@jupyter-widgets/controls",
          "model_name": "DescriptionStyleModel",
          "model_module_version": "1.5.0",
          "state": {
            "_model_module": "@jupyter-widgets/controls",
            "_model_module_version": "1.5.0",
            "_model_name": "DescriptionStyleModel",
            "_view_count": null,
            "_view_module": "@jupyter-widgets/base",
            "_view_module_version": "1.2.0",
            "_view_name": "StyleView",
            "description_width": ""
          }
        }
      }
    }
  },
  "nbformat": 4,
  "nbformat_minor": 0
}